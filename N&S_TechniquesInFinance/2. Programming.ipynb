{
 "cells": [
  {
   "cell_type": "markdown",
   "id": "f12941db",
   "metadata": {},
   "source": [
    "## Structured Programming\n",
    "\n",
    "The paradigm only allows these three structures:\n",
    "- Sequence\n",
    "  - A simple, arbitrary long sequence of basic instructions, such as, assignments, mutations, reading, writing, etc.\n",
    "- Repetition\n",
    "  - A repetition of a block of instructions, also called Loop.\n",
    "- Choice\n"
   ]
  },
  {
   "cell_type": "markdown",
   "id": "0854ecfb",
   "metadata": {},
   "source": [
    "---"
   ]
  },
  {
   "cell_type": "markdown",
   "id": "7b7d845e",
   "metadata": {},
   "source": [
    "## Hierarchical structure | 层次结构\n",
    "\n",
    "<img src=\"./image/structure.png\" alt=\"image.png\" style=\"width: 600px; height: auto; display: block; margin: 0 auto;\"><br>\n",
    "\n",
    "- Any computer program is composed of a succession of these three structures, executed one after the other.\n",
    "- These structured programs can be read hierarchically from top to bottom, making them easier to understand and therefore less error prone.\n",
    "\n",
    "### Object-oriented Programming - 面向对象编程\n",
    "\n",
    "Data and methods to manipulate them are kept as one unit called a object.\n",
    "\n",
    "### Functional Programming - 函数设计编程\n",
    "\n",
    "Programs are constructed by applying and composing functions.\n"
   ]
  },
  {
   "cell_type": "markdown",
   "id": "94a02c0a",
   "metadata": {},
   "source": [
    "---"
   ]
  },
  {
   "cell_type": "markdown",
   "id": "eb769aaf",
   "metadata": {},
   "source": [
    "## Code Examples"
   ]
  },
  {
   "cell_type": "code",
   "execution_count": 1,
   "id": "5fbc20f8",
   "metadata": {},
   "outputs": [],
   "source": [
    "import numpy as np"
   ]
  },
  {
   "cell_type": "code",
   "execution_count": null,
   "id": "45b62efb",
   "metadata": {},
   "outputs": [
    {
     "data": {
      "text/plain": [
       "array([0, 2, 3, 0, 6, 9, 7, 1, 0, 9], dtype=int32)"
      ]
     },
     "execution_count": 4,
     "metadata": {},
     "output_type": "execute_result"
    }
   ],
   "source": [
    "np.random.randint(low = 0, high = 10, size = 10)"
   ]
  },
  {
   "cell_type": "markdown",
   "id": "211a4073",
   "metadata": {},
   "source": [
    "Machine Precision (Epsilon $\\epsilon$) | 机器精度\n",
    "\n",
    "- 浮点数表示中的最小可表示误差\n",
    "- 具体定义为 `1` 和大于 `1` 的最小浮点数之间的差值。\n",
    "> The difference between 1 and the smallest floating-point number greater than 1.\n",
    "\n",
    "双精度浮点数（double-precision number）使用 `64` 位表示：`1` 位符号位、`11` 位指数位和 `52` 位有效尾数位（但实际上尾数有 `53` 位精度，包括隐含的 leading 1）。\n",
    "- 1 bit for the sign.\n",
    "- 11 bits for the exponent.\n",
    "- 52 bits for the significand.\n",
    "\n",
    "机器 $\\epsilon$ 定义为 `2^(-52)`，因为尾数的精度是 `53` 位（包括隐含位），所以最小的可表示相对误差是 `2^(-52)`。\n",
    "\n",
    "当 e 小于机器 epsilon 时，1 + e 会被舍入到 1（因为尾数没有足够的精度表示这么小的差值）。"
   ]
  },
  {
   "cell_type": "code",
   "execution_count": 5,
   "id": "af9b59fb",
   "metadata": {},
   "outputs": [
    {
     "name": "stdout",
     "output_type": "stream",
     "text": [
      "2.220446049250313e-16\n"
     ]
    }
   ],
   "source": [
    "e = 1\n",
    "while 1 + e > 1:\n",
    "    e = e / 2\n",
    "e = 2 * e\n",
    "print(e)"
   ]
  },
  {
   "cell_type": "markdown",
   "id": "9af38794",
   "metadata": {},
   "source": [
    "### Dice Roll Simulation"
   ]
  },
  {
   "cell_type": "code",
   "execution_count": 6,
   "id": "55877109",
   "metadata": {},
   "outputs": [],
   "source": [
    "import seaborn as sns"
   ]
  },
  {
   "cell_type": "code",
   "execution_count": 17,
   "id": "db32cc49",
   "metadata": {},
   "outputs": [
    {
     "data": {
      "image/png": "[encoded data removed]",
      "text/plain": [
       "<Figure size 640x480 with 1 Axes>"
      ]
     },
     "metadata": {},
     "output_type": "display_data"
    }
   ],
   "source": [
    "def Dice_Roll_Simulation():\n",
    "    n = 10000\n",
    "    x = np.zeros(n)\n",
    "    for i in np.arange(n):\n",
    "        u = np.random.rand()    # Random number in [0, 1]\n",
    "        if (u < 1 / 6):\n",
    "            x[i] = 1\n",
    "        elif (u < 2 / 6):\n",
    "            x[i] = 2\n",
    "        elif (u < 3 / 6):\n",
    "            x[i] = 3\n",
    "        elif (u < 4 / 6):\n",
    "            x[i] = 4\n",
    "        elif (u < 5 / 6):\n",
    "            x[i] = 5\n",
    "        else:\n",
    "            x[i] = 6\n",
    "    sns.histplot(x, stat = \"probability\", discrete = True)\n",
    "\n",
    "Dice_Roll_Simulation()"
   ]
  },
  {
   "cell_type": "markdown",
   "id": "e752753e",
   "metadata": {},
   "source": [
    "## Introduction to Python\n",
    "\n",
    "Python programming language https://docs.python.org/3/tutorial/\n",
    "\n",
    "NumPy\n",
    "- adds supports for vectors, matrices and multidimensional arrays. https://numpy.org/doc/stable/user/absolute_beginners.html"
   ]
  },
  {
   "cell_type": "code",
   "execution_count": 18,
   "id": "4cd36580",
   "metadata": {},
   "outputs": [],
   "source": [
    "import numpy as np"
   ]
  },
  {
   "cell_type": "code",
   "execution_count": 19,
   "id": "d7faaa62",
   "metadata": {},
   "outputs": [],
   "source": [
    "A = np.array([\n",
    "    [4, 5],\n",
    "    [7, 3]\n",
    "])\n",
    "B = np.array([\n",
    "    [2, 3],\n",
    "    [4, 1]\n",
    "])"
   ]
  },
  {
   "cell_type": "code",
   "execution_count": null,
   "id": "a315bd54",
   "metadata": {},
   "outputs": [
    {
     "data": {
      "text/plain": [
       "array([[28, 17],\n",
       "       [26, 24]])"
      ]
     },
     "execution_count": 23,
     "metadata": {},
     "output_type": "execute_result"
    }
   ],
   "source": [
    "A.dot(B)    # 矩阵乘法"
   ]
  },
  {
   "cell_type": "code",
   "execution_count": null,
   "id": "586328c9",
   "metadata": {},
   "outputs": [
    {
     "data": {
      "text/plain": [
       "array([[51, 35],\n",
       "       [49, 44]])"
      ]
     },
     "execution_count": 24,
     "metadata": {},
     "output_type": "execute_result"
    }
   ],
   "source": [
    "np.linalg.matrix_power(A, 2)    # 矩阵数乘"
   ]
  },
  {
   "cell_type": "code",
   "execution_count": 35,
   "id": "b147cdad",
   "metadata": {},
   "outputs": [
    {
     "name": "stdout",
     "output_type": "stream",
     "text": [
      "[7 4 0 1 5 6 8 3 2 9]\n",
      "[0 1 2 3 4 5 6 7 8 9]\n"
     ]
    }
   ],
   "source": [
    "x = np.random.permutation(10)\n",
    "print(x)\n",
    "print(np.sort(x))"
   ]
  },
  {
   "cell_type": "markdown",
   "id": "1a1fd74f",
   "metadata": {},
   "source": [
    "---"
   ]
  },
  {
   "cell_type": "markdown",
   "id": "72cce3d5",
   "metadata": {},
   "source": [
    "获取系统上双精度浮点类型（Python 中的 float）的机器epsilon"
   ]
  },
  {
   "cell_type": "code",
   "execution_count": 37,
   "id": "fd4a49b6",
   "metadata": {},
   "outputs": [
    {
     "name": "stdout",
     "output_type": "stream",
     "text": [
      "2.220446049250313e-16\n",
      "2.220446049250313e-16\n"
     ]
    }
   ],
   "source": [
    "print(np.spacing(1))\n",
    "print(np.finfo(float).eps)"
   ]
  },
  {
   "cell_type": "markdown",
   "id": "1808d52e",
   "metadata": {},
   "source": [
    "在任何计算中你可以预期的相对误差的固有极限。"
   ]
  },
  {
   "cell_type": "markdown",
   "id": "b914142c",
   "metadata": {},
   "source": [
    "---"
   ]
  },
  {
   "cell_type": "code",
   "execution_count": null,
   "id": "a7dfc459",
   "metadata": {},
   "outputs": [
    {
     "name": "stdout",
     "output_type": "stream",
     "text": [
      "[0. 0. 0. 0. 0.]\n",
      "[1. 1. 1. 1. 1.]\n"
     ]
    }
   ],
   "source": [
    "print(np.zeros(5))\n",
    "print(np.ones(5))"
   ]
  },
  {
   "cell_type": "code",
   "execution_count": 41,
   "id": "d58bf016",
   "metadata": {},
   "outputs": [
    {
     "name": "stdout",
     "output_type": "stream",
     "text": [
      "[2 2 2 2 2 2 2]\n",
      "[0 0 0 0 0 0 0]\n"
     ]
    }
   ],
   "source": [
    "print(np.repeat(2, 7))\n",
    "print(np.zeros_like(np.repeat(2, 7)))"
   ]
  },
  {
   "cell_type": "code",
   "execution_count": 45,
   "id": "06c3e1dc",
   "metadata": {},
   "outputs": [
    {
     "name": "stdout",
     "output_type": "stream",
     "text": [
      "[[2 2 2 2 2]\n",
      " [3 3 3 3 3]] \n",
      "\n",
      "[2 2 2 2 2 3 3 3 3 3]\n"
     ]
    }
   ],
   "source": [
    "a = np.repeat(2, 5)\n",
    "b = np.repeat(3, 5)\n",
    "print(np.vstack((a, b)), \"\\n\")\n",
    "print(np.hstack((a, b)))\n"
   ]
  },
  {
   "cell_type": "code",
   "execution_count": 52,
   "id": "48136f3f",
   "metadata": {},
   "outputs": [
    {
     "name": "stdout",
     "output_type": "stream",
     "text": [
      "[1 3 5 7]\n",
      "[ 0.  1.  2.  3.  4.  5.  6.  7.  8.  9. 10.]\n"
     ]
    }
   ],
   "source": [
    "a = np.arange(1, 9, 2)\n",
    "print(a)\n",
    "b = np.linspace(0, 10, 11)\n",
    "print(b)"
   ]
  },
  {
   "cell_type": "code",
   "execution_count": 53,
   "id": "30776bc0",
   "metadata": {},
   "outputs": [
    {
     "name": "stdout",
     "output_type": "stream",
     "text": [
      "(4,)\n"
     ]
    }
   ],
   "source": [
    "print(np.shape(a))"
   ]
  },
  {
   "cell_type": "code",
   "execution_count": 60,
   "id": "18fdcd56",
   "metadata": {},
   "outputs": [
    {
     "name": "stdout",
     "output_type": "stream",
     "text": [
      "[[1 3 5 7]] \n",
      "\n",
      "[[1]\n",
      " [3]\n",
      " [5]\n",
      " [7]]\n"
     ]
    }
   ],
   "source": [
    "c = np.expand_dims(a, axis = 0)\n",
    "print(c, \"\\n\")\n",
    "c = np.expand_dims(a, axis = 1)\n",
    "print(c)"
   ]
  },
  {
   "cell_type": "code",
   "execution_count": 62,
   "id": "9bf1264f",
   "metadata": {},
   "outputs": [
    {
     "name": "stdout",
     "output_type": "stream",
     "text": [
      "[0 1 2 3] \n",
      "\n",
      "[0 0 1 1 2 2 3 3]\n"
     ]
    }
   ],
   "source": [
    "a = np.arange(4)\n",
    "print(a, \"\\n\")\n",
    "print(np.repeat(a, 2))"
   ]
  },
  {
   "cell_type": "code",
   "execution_count": 64,
   "id": "2101fd0e",
   "metadata": {},
   "outputs": [
    {
     "name": "stdout",
     "output_type": "stream",
     "text": [
      "[[0 1 2 3]\n",
      " [0 1 2 3]\n",
      " [0 1 2 3]]\n"
     ]
    }
   ],
   "source": [
    "b = np.repeat(np.expand_dims(a, axis = 0), 3, axis = 0)\n",
    "print(b)"
   ]
  },
  {
   "cell_type": "code",
   "execution_count": 68,
   "id": "09e8d8f8",
   "metadata": {},
   "outputs": [
    {
     "name": "stdout",
     "output_type": "stream",
     "text": [
      "[[0 0 0]\n",
      " [1 1 1]\n",
      " [2 2 2]\n",
      " [3 3 3]]\n"
     ]
    }
   ],
   "source": [
    "b = np.repeat(np.expand_dims(a, axis = 1), 3, axis = 1)\n",
    "print(b)"
   ]
  },
  {
   "cell_type": "code",
   "execution_count": 73,
   "id": "e3025f14",
   "metadata": {},
   "outputs": [
    {
     "name": "stdout",
     "output_type": "stream",
     "text": [
      "[1 2 3 4 5 6] \n",
      "\n",
      "[[1 2]\n",
      " [3 4]\n",
      " [5 6]] \n",
      "\n",
      "[[1]\n",
      " [2]\n",
      " [3]\n",
      " [4]\n",
      " [5]\n",
      " [6]]\n"
     ]
    }
   ],
   "source": [
    "a = np.array([\n",
    "    [1, 2, 3],\n",
    "    [4, 5, 6]\n",
    "])\n",
    "print(np.reshape(a, -1), \"\\n\")\n",
    "print(np.reshape(a, (3, 2)), \"\\n\")\n",
    "print(np.reshape(a, (-1, 1)))"
   ]
  },
  {
   "cell_type": "code",
   "execution_count": 74,
   "id": "eae560c9",
   "metadata": {},
   "outputs": [],
   "source": [
    "import matplotlib.pyplot as plt"
   ]
  },
  {
   "cell_type": "code",
   "execution_count": 76,
   "id": "7f0db735",
   "metadata": {},
   "outputs": [
    {
     "data": {
      "image/png": "[encoded data removed]",
      "text/plain": [
       "<Figure size 640x480 with 1 Axes>"
      ]
     },
     "metadata": {},
     "output_type": "display_data"
    }
   ],
   "source": [
    "x = np.linspace(-4, 1, 101)\n",
    "y = x * x * np.exp(x)\n",
    "fig, ax = plt.subplots()\n",
    "ax.plot(x, y, linewidth = 3)\n",
    "ax.set_title(\"$y=x^2e^x$\", loc = \"left\")\n",
    "ax.set_xlabel(\"$x$\", loc = \"right\")\n",
    "plt.show()"
   ]
  },
  {
   "cell_type": "code",
   "execution_count": null,
   "id": "4e3db48f",
   "metadata": {},
   "outputs": [],
   "source": []
  }
 ],
 "metadata": {
  "kernelspec": {
   "display_name": "test2",
   "language": "python",
   "name": "python3"
  },
  "language_info": {
   "codemirror_mode": {
    "name": "ipython",
    "version": 3
   },
   "file_extension": ".py",
   "mimetype": "text/x-python",
   "name": "python",
   "nbconvert_exporter": "python",
   "pygments_lexer": "ipython3",
   "version": "3.12.11"
  }
 },
 "nbformat": 4,
 "nbformat_minor": 5
}
