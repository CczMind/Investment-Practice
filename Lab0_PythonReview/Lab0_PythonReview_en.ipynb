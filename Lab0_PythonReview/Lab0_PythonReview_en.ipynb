{
 "cells": [
  {
   "cell_type": "markdown",
   "metadata": {},
   "source": [
    "## Introduction\n",
    "This lab reinforces fundamental Python programming concepts essential for investment practice and financial data analysis. You will practice working with different data types, control structures, functions, and basic object-oriented programming.\n",
    "\n",
    "## Learning Objectives\n",
    "By the end of this lab, you will be able to:\n",
    "- Work with Python's basic data types (numbers, booleans, strings)\n",
    "- Use Python containers (lists, dictionaries, tuples) effectively\n",
    "- Apply control flow statements (if-else, loops) to solve problems\n",
    "- Create and use list comprehensions for data processing\n",
    "- Handle errors and exceptions appropriately\n",
    "- Define and use functions with parameters and return values\n",
    "- Create basic classes and objects\n",
    "\n",
    "## Instructions\n",
    "Complete each exercise by following the step-by-step instructions. Pay attention to the expected outputs and make sure your code produces similar results.\n"
   ]
  },
  {
   "cell_type": "markdown",
   "metadata": {},
   "source": [
    "---"
   ]
  },
  {
   "cell_type": "markdown",
   "metadata": {},
   "source": [
    "### Exercise 1: Basic Data Types and Operations"
   ]
  },
  {
   "cell_type": "markdown",
   "metadata": {},
   "source": [
    "#### 1.1 Create variables for different data types:\n",
    "- stock_price as a float with value 150.75\n",
    "- shares_owned as an integer with value 100\n",
    "- is_profitable as a boolean with value True\n",
    "- company_name as a string with value \"Apple Inc.\""
   ]
  },
  {
   "cell_type": "code",
   "execution_count": 43,
   "metadata": {},
   "outputs": [
    {
     "name": "stdout",
     "output_type": "stream",
     "text": [
      "Company: Apple Inc.\n",
      "Stock Price: $150.75\n",
      "Shares Owned: 100\n",
      "Is Profitable: True\n",
      "Data types: <class 'float'>, <class 'int'>, <class 'bool'>, <class 'str'>\n"
     ]
    }
   ],
   "source": [
    "stock_price = 150.75\n",
    "shares_owned = 100\n",
    "is_profitable = True\n",
    "company_name = \"Apple Inc.\"\n",
    "\n",
    "print(f\"Company: {company_name}\")\n",
    "print(f\"Stock Price: ${stock_price}\")\n",
    "print(f\"Shares Owned: {shares_owned}\")\n",
    "print(f\"Is Profitable: {is_profitable}\")\n",
    "print(f\"Data types: {type(stock_price)}, {type(shares_owned)}, {type(is_profitable)}, {type(company_name)}\")"
   ]
  },
  {
   "cell_type": "markdown",
   "metadata": {},
   "source": [
    "#### 1.2 Perform calculations with the investment data:\n",
    "- Calculate total_value by multiplying stock_price and shares_owned\n",
    "- Set purchase_price to 140.00\n",
    "- Calculate profit_per_share as the difference between stock_price and purchase_price\n",
    "- Calculate total_profit by multiplying profit_per_share and shares_owned\n",
    "- Calculate profit_percentage as (profit_per_share / purchase_price) * 100\n"
   ]
  },
  {
   "cell_type": "code",
   "execution_count": 44,
   "metadata": {},
   "outputs": [
    {
     "name": "stdout",
     "output_type": "stream",
     "text": [
      "Total Investment Value: $15075.00\n",
      "Profit per Share: $10.75\n",
      "Total Profit: $1075.00\n",
      "Profit Percentage: 7.68%\n"
     ]
    }
   ],
   "source": [
    "total_value = stock_price * shares_owned\n",
    "purchase_price = 140.00\n",
    "profit_per_share = stock_price - purchase_price\n",
    "total_profit = profit_per_share * shares_owned\n",
    "profit_percentage = (profit_per_share / purchase_price) * 100\n",
    "\n",
    "print(f\"Total Investment Value: ${total_value:.2f}\")\n",
    "print(f\"Profit per Share: ${profit_per_share:.2f}\")\n",
    "print(f\"Total Profit: ${total_profit:.2f}\")\n",
    "print(f\"Profit Percentage: {profit_percentage:.2f}%\")"
   ]
  },
  {
   "cell_type": "markdown",
   "metadata": {},
   "source": [
    "#### 1.3 String operations for financial reporting:\n",
    "- Create report_title with value \"INVESTMENT PORTFOLIO SUMMARY\"\n",
    "- Create formatted_company by converting company_name to uppercase and replacing \" INC.\" with \" INCORPORATED\"\n",
    "- Create price_status as \"bullish\" if stock_price > purchase_price, otherwise \"bearish\"\n",
    "- Create summary_report combining title, separator line, and formatted company with status\n"
   ]
  },
  {
   "cell_type": "code",
   "execution_count": 45,
   "metadata": {},
   "outputs": [
    {
     "name": "stdout",
     "output_type": "stream",
     "text": [
      "INVESTMENT PORTFOLIO SUMMARY\n",
      "============================\n",
      "APPLE INC. is bullish\n",
      "Report length: 79 characters\n"
     ]
    }
   ],
   "source": [
    "report_title = \"INVESTMENT PORTFOLIO SUMMARY\"\n",
    "formatted_company = company_name.upper().replace(\"Inc.\", \"INCORPORATED\")\n",
    "price_status = \"bullish\" if stock_price > purchase_price else \"bearish\"\n",
    "summary_report = report_title + \"\\n\" + \"=\" * len(report_title) + \"\\n\" + formatted_company + \" is \" + price_status\n",
    "\n",
    "print(summary_report)\n",
    "print(f\"Report length: {len(summary_report)} characters\")"
   ]
  },
  {
   "cell_type": "markdown",
   "metadata": {},
   "source": [
    "### Exercise 2: Working with Lists and Financial Data"
   ]
  },
  {
   "cell_type": "markdown",
   "metadata": {},
   "source": [
    "#### 2.1 Create and manipulate a list of stock prices (last 7 days):\n",
    "Create daily_prices list with values: [148.50, 151.20, 149.80, 150.75, 152.10, 150.25, 153.40]\n"
   ]
  },
  {
   "cell_type": "code",
   "execution_count": 25,
   "metadata": {},
   "outputs": [
    {
     "name": "stdout",
     "output_type": "stream",
     "text": [
      "Daily Prices: [148.5, 151.2, 149.8, 150.75, 152.1, 150.25, 153.4]\n",
      "Today's Price: $153.4\n",
      "Yesterday's Price: $150.25\n",
      "First 3 days: [148.5, 151.2, 149.8]\n",
      "Last 3 days: [152.1, 150.25, 153.4]\n"
     ]
    }
   ],
   "source": [
    "daily_prices = [148.50, 151.20, 149.80, 150.75, 152.10, 150.25, 153.40]\n",
    "\n",
    "print(f\"Daily Prices: {daily_prices}\")\n",
    "print(f\"Today's Price: ${daily_prices[-1]}\")\n",
    "print(f\"Yesterday's Price: ${daily_prices[-2]}\")\n",
    "print(f\"First 3 days: {daily_prices[:3]}\")\n",
    "print(f\"Last 3 days: {daily_prices[-3:]}\")"
   ]
  },
  {
   "cell_type": "markdown",
   "metadata": {},
   "source": [
    "#### 2.2 Calculate basic statistics from the price data:\n",
    "- Find highest_price using max() function\n",
    "- Find lowest_price using min() function\n",
    "- Calculate average_price using sum() and len() functions\n",
    "- Calculate price_range as the difference between highest and lowest\n"
   ]
  },
  {
   "cell_type": "code",
   "execution_count": 26,
   "metadata": {},
   "outputs": [
    {
     "name": "stdout",
     "output_type": "stream",
     "text": [
      "Weekly Statistics:\n",
      "Highest Price: $153.40\n",
      "Lowest Price: $148.50\n",
      "Average Price: $150.86\n",
      "Price Range: $4.90\n"
     ]
    }
   ],
   "source": [
    "highest_price = max(daily_prices)\n",
    "lowest_price = min(daily_prices)\n",
    "average_price = sum(daily_prices) / len(daily_prices)\n",
    "price_range = highest_price - lowest_price\n",
    "\n",
    "print(f\"Weekly Statistics:\")\n",
    "print(f\"Highest Price: ${highest_price:.2f}\")\n",
    "print(f\"Lowest Price: ${lowest_price:.2f}\")\n",
    "print(f\"Average Price: ${average_price:.2f}\")\n",
    "print(f\"Price Range: ${price_range:.2f}\")"
   ]
  },
  {
   "cell_type": "markdown",
   "metadata": {},
   "source": [
    "#### 2.3 Add new price data and analyze trends:\n",
    "- Use append() to add 155.30 to daily_prices\n",
    "- Use insert() to add 147.20 at the beginning (index 0) of daily_prices\n",
    "- Create empty daily_changes list\n",
    "- Use a for loop to calculate daily price changes and append to daily_changes\n"
   ]
  },
  {
   "cell_type": "code",
   "execution_count": 27,
   "metadata": {},
   "outputs": [
    {
     "name": "stdout",
     "output_type": "stream",
     "text": [
      "Extended price history: [147.2, 148.5, 151.2, 149.8, 150.75, 152.1, 150.25, 153.4, 155.3]\n",
      "Number of data points: 9\n"
     ]
    }
   ],
   "source": [
    "daily_prices.append(155.30)\n",
    "daily_prices.insert(0, 147.20)\n",
    "daily_changes = []\n",
    "\n",
    "print(f\"Extended price history: {daily_prices}\")\n",
    "print(f\"Number of data points: {len(daily_prices)}\")"
   ]
  },
  {
   "cell_type": "markdown",
   "metadata": {},
   "source": [
    "Calculate daily changes"
   ]
  },
  {
   "cell_type": "code",
   "execution_count": 28,
   "metadata": {},
   "outputs": [
    {
     "name": "stdout",
     "output_type": "stream",
     "text": [
      "Daily changes: ['$1.30', '$2.70', '$-1.40', '$0.95', '$1.35', '$-1.85', '$3.15', '$1.90']\n"
     ]
    }
   ],
   "source": [
    "daily_changes = []\n",
    "for i in range(1, len(daily_prices)):\n",
    "    res = daily_prices[i] - daily_prices[i - 1]\n",
    "    daily_changes.append(res)\n",
    "\n",
    "print(f\"Daily changes: {[f'${change:.2f}' for change in daily_changes]}\")\n"
   ]
  },
  {
   "cell_type": "markdown",
   "metadata": {},
   "source": [
    "### Exercise 3: Dictionaries for Portfolio Management"
   ]
  },
  {
   "cell_type": "markdown",
   "metadata": {},
   "source": [
    "#### 3.1 Create a portfolio dictionary with the following structure:\n",
    "```py\n",
    "portfolio = {\n",
    "    'AAPL': {'shares': 100, 'price': 150.75, 'sector': 'Technology'},\n",
    "    'MSFT': {'shares': 75, 'price': 330.50, 'sector': 'Technology'},\n",
    "    'JPM': {'shares': 50, 'price': 145.25, 'sector': 'Financial'},\n",
    "    'JNJ': {'shares': 80, 'price': 165.80, 'sector': 'Healthcare'}\n",
    "}\n",
    "```"
   ]
  },
  {
   "cell_type": "code",
   "execution_count": 29,
   "metadata": {},
   "outputs": [
    {
     "name": "stdout",
     "output_type": "stream",
     "text": [
      "Portfolio Holdings:\n",
      "AAPL: 100 shares @ $150.75 = $15075.00 (Technology)\n",
      "MSFT: 75 shares @ $330.50 = $24787.50 (Technology)\n",
      "JPM: 50 shares @ $145.25 = $7262.50 (Financial)\n",
      "JNJ: 80 shares @ $165.80 = $13264.00 (Healthcare)\n"
     ]
    }
   ],
   "source": [
    "portfolio = {\n",
    "    'AAPL': {'shares': 100, 'price': 150.75, 'sector': 'Technology'},\n",
    "    'MSFT': {'shares': 75, 'price': 330.50, 'sector': 'Technology'},\n",
    "    'JPM': {'shares': 50, 'price': 145.25, 'sector': 'Financial'},\n",
    "    'JNJ': {'shares': 80, 'price': 165.80, 'sector': 'Healthcare'}\n",
    "}\n",
    "\n",
    "print(\"Portfolio Holdings:\")\n",
    "for symbol, data in portfolio.items():\n",
    "    value = data['shares'] * data['price']\n",
    "    print(f\"{symbol}: {data['shares']} shares @ ${data['price']:.2f} = ${value:.2f} ({data['sector']})\")"
   ]
  },
  {
   "cell_type": "markdown",
   "metadata": {},
   "source": [
    "#### 3.2 Calculate total portfolio value and sector allocation:\n",
    "- Initialize total_portfolio_value to 0\n",
    "- Create empty sector_values dictionary\n",
    "- Loop through portfolio items to:\n",
    "  - Calculate holding_value for each stock\n",
    "  - Add to total_portfolio_value\n",
    "  - Update sector_values dictionary\n"
   ]
  },
  {
   "cell_type": "code",
   "execution_count": 30,
   "metadata": {},
   "outputs": [
    {
     "name": "stdout",
     "output_type": "stream",
     "text": [
      "\n",
      "Total Portfolio Value: $60389.00\n",
      "\n",
      "Sector Allocation:\n",
      "AAPL: $15075.00 (25.0%)\n",
      "MSFT: $24787.50 (41.0%)\n",
      "JPM: $7262.50 (12.0%)\n",
      "JNJ: $13264.00 (22.0%)\n"
     ]
    }
   ],
   "source": [
    "total_portfolio_value = 0\n",
    "sector_values = {}\n",
    "\n",
    "for symbol, data in portfolio.items():\n",
    "    \n",
    "    value = data[\"shares\"] * data[\"price\"]\n",
    "    \n",
    "    sector_values[symbol] = value\n",
    "    \n",
    "    total_portfolio_value += value\n",
    "\n",
    "print(f\"\\nTotal Portfolio Value: ${total_portfolio_value:.2f}\")\n",
    "print(\"\\nSector Allocation:\")\n",
    "for sector, value in sector_values.items():\n",
    "    percentage = (value / total_portfolio_value) * 100\n",
    "    print(f\"{sector}: ${value:.2f} ({percentage:.1f}%)\")"
   ]
  },
  {
   "cell_type": "markdown",
   "metadata": {},
   "source": [
    "#### 3.3 Portfolio operations:\n",
    "- Add TSLA to portfolio: {'shares': 25, 'price': 245.60, 'sector': 'Automotive'}\n",
    "- Increase AAPL shares by 25\n",
    "- Remove JNJ from portfolio using pop() and store in removed_stock\n"
   ]
  },
  {
   "cell_type": "code",
   "execution_count": 31,
   "metadata": {},
   "outputs": [
    {
     "name": "stdout",
     "output_type": "stream",
     "text": [
      "Added TSLA, increased AAPL position, removed JNJ\n",
      "Removed: {'shares': 80, 'price': 165.8, 'sector': 'Healthcare'}\n",
      "Current holdings: ['AAPL', 'MSFT', 'JPM', 'TSLA']\n"
     ]
    }
   ],
   "source": [
    "portfolio[\"TSLA\"] = {'shares': 25, 'price': 245.60, 'sector': 'Automotive'}\n",
    "portfolio[\"AAPL\"][\"shares\"] += 25\n",
    "removed_stock = portfolio.pop(\"JNJ\")\n",
    "\n",
    "print(f\"Added TSLA, increased AAPL position, removed JNJ\")\n",
    "print(f\"Removed: {removed_stock}\")\n",
    "print(f\"Current holdings: {list(portfolio.keys())}\")"
   ]
  },
  {
   "cell_type": "markdown",
   "metadata": {},
   "source": [
    "### Exercise 4: Control Flow for Investment Analysis"
   ]
  },
  {
   "cell_type": "markdown",
   "metadata": {},
   "source": [
    "#### 4.1 Investment decision logic using if-else statements:\n"
   ]
  },
  {
   "cell_type": "code",
   "execution_count": 32,
   "metadata": {},
   "outputs": [],
   "source": [
    "price_targets = {'AAPL': 160.00, 'MSFT': 350.00, 'JPM': 150.00, 'TSLA': 250.00}\n"
   ]
  },
  {
   "cell_type": "markdown",
   "metadata": {},
   "source": [
    "Loop through portfolio items and create recommendation logic:\n",
    "- If current_price < target_price * 0.9: \"STRONG BUY\"\n",
    "- If current_price < target_price * 0.95: \"BUY\" \n",
    "- If current_price <= target_price * 1.05: \"HOLD\"\n",
    "- Else: \"SELL\"\n",
    "Also calculate upside_potential percentage"
   ]
  },
  {
   "cell_type": "code",
   "execution_count": 33,
   "metadata": {},
   "outputs": [
    {
     "name": "stdout",
     "output_type": "stream",
     "text": [
      "Investment Recommendations:\n",
      "AAPL: $150.75 (Target: $160.00) - BUY (Upside: 6.1%)\n",
      "MSFT: $330.50 (Target: $350.00) - BUY (Upside: 5.9%)\n",
      "JPM: $145.25 (Target: $150.00) - HOLD (Upside: 3.3%)\n",
      "TSLA: $245.60 (Target: $250.00) - HOLD (Upside: 1.8%)\n"
     ]
    }
   ],
   "source": [
    "print(\"Investment Recommendations:\")\n",
    "\n",
    "for symbol, data in portfolio.items():\n",
    "    \n",
    "    current_price = data['price']\n",
    "    target_price = price_targets[symbol]\n",
    "    upside_potential = ((target_price - current_price) / current_price) * 100\n",
    "    \n",
    "    if current_price < target_price * 0.9:\n",
    "        recommendation = \"STRONG BUY\"\n",
    "    elif current_price < target_price * 0.95:\n",
    "        recommendation = \"BUY\"\n",
    "    elif current_price <= target_price * 1.05:\n",
    "        recommendation = \"HOLD\"\n",
    "    else:\n",
    "        recommendation = \"SELL\"\n",
    "\n",
    "    print(f\"{symbol}: ${current_price:.2f} (Target: ${target_price:.2f}) - {recommendation} (Upside: {upside_potential:.1f}%)\")\n"
   ]
  },
  {
   "cell_type": "markdown",
   "metadata": {},
   "source": [
    "#### 4.2 Risk assessment using loops:"
   ]
  },
  {
   "cell_type": "code",
   "execution_count": 34,
   "metadata": {},
   "outputs": [],
   "source": [
    "risk_scores = {'Technology': 8, 'Financial': 6, 'Healthcare': 4, 'Automotive': 9}\n"
   ]
  },
  {
   "cell_type": "markdown",
   "metadata": {},
   "source": [
    "Calculate weighted portfolio risk:\n",
    "- Initialize weighted_risk to 0\n",
    "- Calculate total_value of portfolio\n",
    "- Loop through portfolio to calculate weighted risk score\n",
    "- Categorize risk level based on sector_risk score\n"
   ]
  },
  {
   "cell_type": "code",
   "execution_count": 35,
   "metadata": {},
   "outputs": [
    {
     "name": "stdout",
     "output_type": "stream",
     "text": [
      "\n",
      "Risk Assessment:\n",
      "AAPL (Technology): Risk Score 8/10 (High), Weight: 33.0%\n",
      "MSFT (Technology): Risk Score 8/10 (High), Weight: 43.5%\n",
      "JPM (Financial): Risk Score 6/10 (Medium), Weight: 12.7%\n",
      "TSLA (Automotive): Risk Score 9/10 (High), Weight: 10.8%\n",
      "\n",
      "Portfolio Weighted Risk Score: 7.9/10\n"
     ]
    }
   ],
   "source": [
    "print(\"\\nRisk Assessment:\")\n",
    "\n",
    "total_value = 0\n",
    "for symbol, data in portfolio.items():\n",
    "    total_value += data['shares'] * data['price'] # 计算投资组合的总价值\n",
    "\n",
    "weighted_risk = 0\n",
    "for symbol, data in portfolio.items():\n",
    "    \"\"\"\n",
    "    计算每只股票的加权风险评分\n",
    "    \"\"\"\n",
    "    sector = data['sector']\n",
    "    sector_risk = risk_scores[sector] # 获取该行业的风险评分\n",
    "\n",
    "    holding_value = data['shares'] * data['price'] # 计算该股票的持仓价值\n",
    "    weight = holding_value / total_value # 计算该股票在投资组合中的权重\n",
    "\n",
    "    if sector_risk <= 4:\n",
    "        risk_level = \"Low\"\n",
    "    elif sector_risk <= 7:\n",
    "        risk_level = \"Medium\"\n",
    "    else:\n",
    "        risk_level = \"High\"\n",
    "\n",
    "    weighted_risk += weight * sector_risk\n",
    "\n",
    "    print(f\"{symbol} ({sector}): Risk Score {sector_risk}/10 ({risk_level}), Weight: {weight:.1%}\")\n",
    "\n",
    "print(f\"\\nPortfolio Weighted Risk Score: {weighted_risk:.1f}/10\")"
   ]
  },
  {
   "cell_type": "markdown",
   "metadata": {},
   "source": [
    "### Exercise 5: List Comprehensions for Data Processing"
   ]
  },
  {
   "cell_type": "markdown",
   "metadata": {},
   "source": [
    "##### 5.1 Create lists using comprehensions:\n",
    "- Extract all stock symbols from portfolio\n",
    "- Calculate position values for all holdings\n",
    "- Find technology stocks only\n",
    "- Get large positions (over $20,000)\n"
   ]
  },
  {
   "cell_type": "code",
   "execution_count": 36,
   "metadata": {},
   "outputs": [
    {
     "name": "stdout",
     "output_type": "stream",
     "text": [
      "All symbols: ['AAPL', 'MSFT', 'JPM', 'TSLA']\n",
      "Position values: [18843.75, 24787.5, 7262.5, 6140.0]\n",
      "Technology stocks: ['AAPL', 'MSFT']\n",
      "Large positions: [24787.5]\n"
     ]
    }
   ],
   "source": [
    "symbols = [symbol for symbol, data in portfolio.items()]\n",
    "position_values = [data[\"price\"] * data[\"shares\"] for symbol, data in portfolio.items()]\n",
    "tech_stocks = [symbol for symbol, data in portfolio.items() if data[\"sector\"] == \"Technology\"]\n",
    "large_positions = [data[\"price\"] * data[\"shares\"] for symbol, data in portfolio.items() if data[\"price\"] * data[\"shares\"] > 20000]\n",
    "\n",
    "print(f\"All symbols: {symbols}\")\n",
    "print(f\"Position values: {position_values}\")\n",
    "print(f\"Technology stocks: {tech_stocks}\")\n",
    "print(f\"Large positions: {large_positions}\")"
   ]
  },
  {
   "cell_type": "markdown",
   "metadata": {},
   "source": [
    "#### 5.2 Dictionary comprehensions for analysis:\n",
    "- Create price_ratios: {symbol: price/target_price} for each stock\n",
    "- Create sector_summary: {sector: total_value} for each sector\n",
    "- Create expensive_stocks: {symbol: price} for stocks over $200\n"
   ]
  },
  {
   "cell_type": "code",
   "execution_count": 37,
   "metadata": {},
   "outputs": [
    {
     "name": "stdout",
     "output_type": "stream",
     "text": [
      "Price-to-target ratios: {'AAPL': 0.9421875, 'MSFT': 0.9442857142857143, 'JPM': 0.9683333333333334, 'TSLA': 0.9823999999999999}\n",
      "Sector values: {'Technology': 43631.25, 'Financial': 7262.5, 'Automotive': 6140.0}\n",
      "Expensive stocks: {'MSFT': 330.5, 'TSLA': 245.6}\n"
     ]
    }
   ],
   "source": [
    "price_ratios = {symbol: data[\"price\"] / price_targets[symbol] for symbol, data in portfolio.items()}\n",
    "\n",
    "sector_values = {}\n",
    "for symbol, data in portfolio.items():\n",
    "    sector = data[\"sector\"]\n",
    "    value = data[\"price\"] * data[\"shares\"]\n",
    "    if sector in sector_values:\n",
    "        sector_values[sector] += value\n",
    "    else:\n",
    "        sector_values[sector] = value\n",
    "sector_summary = sector_values\n",
    "\n",
    "expensive_stocks = {symbol: data[\"price\"] for symbol, data in portfolio.items() if data[\"price\"] > 200.0}\n",
    "\n",
    "print(f\"Price-to-target ratios: {price_ratios}\")\n",
    "print(f\"Sector values: {sector_summary}\")\n",
    "print(f\"Expensive stocks: {expensive_stocks}\")"
   ]
  },
  {
   "cell_type": "markdown",
   "metadata": {},
   "source": [
    "### Exercise 6: Functions for Investment Calculations"
   ]
  },
  {
   "cell_type": "markdown",
   "metadata": {},
   "source": [
    "#### 6.1 Define functions for common financial calculations:\n"
   ]
  },
  {
   "cell_type": "code",
   "execution_count": 38,
   "metadata": {},
   "outputs": [
    {
     "name": "stdout",
     "output_type": "stream",
     "text": [
      "Apple return: 7.68%\n",
      "Apple position value: $18843.75\n",
      "Portfolio risk category: Moderate\n"
     ]
    }
   ],
   "source": [
    "def calculate_return(current_price, purchase_price):\n",
    "    \"\"\"Calculate percentage return on investment\"\"\"\n",
    "    return ((current_price - purchase_price) / purchase_price) * 100\n",
    "\n",
    "\n",
    "def position_value(shares, price):\n",
    "    \"\"\"Calculate total value of a stock position\"\"\"\n",
    "    return shares * price\n",
    "\n",
    "\n",
    "def risk_category(risk_score):\n",
    "    \"\"\"Categorize risk based on numeric score\"\"\"\n",
    "    if risk_score <= 3:\n",
    "        return \"Conservative\"\n",
    "    elif risk_score <= 7:\n",
    "        return \"Moderate\"\n",
    "    else:\n",
    "        return \"Aggressive\"\n",
    "\n",
    "# Test the functions\n",
    "apple_return = calculate_return(150.75, 140.00)\n",
    "apple_value = position_value(125, 150.75)  # Updated AAPL position\n",
    "portfolio_risk = risk_category(int(weighted_risk))\n",
    "\n",
    "print(f\"Apple return: {apple_return:.2f}%\")\n",
    "print(f\"Apple position value: ${apple_value:.2f}\")\n",
    "print(f\"Portfolio risk category: {portfolio_risk}\")"
   ]
  },
  {
   "cell_type": "markdown",
   "metadata": {},
   "source": [
    "#### 6.2 Function with optional parameters:\n"
   ]
  },
  {
   "cell_type": "code",
   "execution_count": 39,
   "metadata": {},
   "outputs": [
    {
     "name": "stdout",
     "output_type": "stream",
     "text": [
      "AAPL's current holding value: 18843.75\n",
      "AAPL's current holding value: 18843.75\n",
      " Return: 7.68%, P&L: $1343.75\n",
      "MSFT's current holding value: 24787.50\n"
     ]
    }
   ],
   "source": [
    "def investment_summary(symbol, shares, price, purchase_price=None, include_details=True):\n",
    "    \"\"\"Generate investment summary with optional detailed analysis\"\"\"\n",
    "    # Calculate current_value using position_value function\n",
    "    # Create basic summary string\n",
    "    # If purchase_price and include_details are provided:\n",
    "    #   - Calculate return percentage and profit/loss\n",
    "    #   - Add to summary string\n",
    "    # Return summary\n",
    "\n",
    "    current_value = position_value(shares, price)\n",
    "    summary = f\"{symbol}'s current holding value: {current_value:.2f}\"\n",
    "\n",
    "    if purchase_price is not None and include_details:\n",
    "        return_percentage = ((price - purchase_price) / purchase_price) * 100\n",
    "        profit_loss = (price - purchase_price) * shares\n",
    "        summary += f\"\\n Return: {return_percentage:.2f}%, P&L: ${profit_loss:.2f}\"\n",
    "\n",
    "    return summary\n",
    "\n",
    "# Test with different parameter combinations\n",
    "print(investment_summary('AAPL', 125, 150.75))\n",
    "print(investment_summary('AAPL', 125, 150.75, 140.00))\n",
    "print(investment_summary('MSFT', 75, 330.50, 320.00, False))"
   ]
  },
  {
   "cell_type": "markdown",
   "metadata": {},
   "source": [
    "### Exercise 7: Basic Classes for Investment Objects"
   ]
  },
  {
   "cell_type": "markdown",
   "metadata": {},
   "source": [
    "#### 7.1 Create a Stock class:\n"
   ]
  },
  {
   "cell_type": "code",
   "execution_count": 40,
   "metadata": {},
   "outputs": [
    {
     "name": "stdout",
     "output_type": "stream",
     "text": [
      "AAPL (Apple Inc.): 125 shares @ $150.75\n",
      "Position Value: $18843.75\n",
      "Average Cost: $143.00\n",
      "Unrealized P&L: $968.75\n"
     ]
    }
   ],
   "source": [
    "class Stock:\n",
    "    def __init__(self, symbol, company_name, shares, current_price):\n",
    "        # Initialize instance variables\n",
    "        # Create empty purchase_history list\n",
    "        self.symbol = symbol\n",
    "        self.company_name = company_name\n",
    "        self.shares = shares\n",
    "        self.current_price = current_price\n",
    "        self.total_cost: float = 0.0\n",
    "        self.purchase_history = []\n",
    "    \n",
    "    def add_purchase(self, shares, price):\n",
    "        \"\"\"Record a stock purchase\"\"\"\n",
    "        # Append purchase info to purchase_history\n",
    "        # Add shares to self.shares\n",
    "        self.purchase_history.append((shares, price))\n",
    "        self.shares += shares\n",
    "        self.total_cost += shares * price\n",
    "    \n",
    "    def get_position_value(self):\n",
    "        \"\"\"Calculate current position value\"\"\"\n",
    "        # Return self.shares * self.current_price\n",
    "        return self.shares * self.current_price\n",
    "    \n",
    "    def get_average_cost(self):\n",
    "        \"\"\"Calculate average cost basis\"\"\"\n",
    "        # If no purchase history, return 0\n",
    "        # Calculate total_cost and total_shares from purchase_history\n",
    "        # Return average cost per share\n",
    "        return self.total_cost / self.shares if self.shares > 0 else 0.0\n",
    "    \n",
    "    def get_unrealized_pnl(self):\n",
    "        \"\"\"Calculate unrealized profit/loss\"\"\"\n",
    "        # Get average cost\n",
    "        # Return (current_price - avg_cost) * shares\n",
    "        return (self.current_price - self.get_average_cost()) * self.shares\n",
    "    \n",
    "    def __str__(self):\n",
    "        # Return formatted string representation\n",
    "        return (f\"{self.symbol} ({self.company_name}): {self.shares} shares @ ${self.current_price:.2f}\")\n",
    "\n",
    "# Create and test stock objects\n",
    "apple_stock = Stock('AAPL', 'Apple Inc.', 0, 150.75)\n",
    "apple_stock.add_purchase(100, 140.00)\n",
    "apple_stock.add_purchase(25, 155.00)\n",
    "\n",
    "print(apple_stock)\n",
    "print(f\"Position Value: ${apple_stock.get_position_value():.2f}\")\n",
    "print(f\"Average Cost: ${apple_stock.get_average_cost():.2f}\")\n",
    "print(f\"Unrealized P&L: ${apple_stock.get_unrealized_pnl():.2f}\")"
   ]
  },
  {
   "cell_type": "markdown",
   "metadata": {},
   "source": [
    "#### 7.2 Create a Portfolio class:\n"
   ]
  },
  {
   "cell_type": "code",
   "execution_count": 41,
   "metadata": {},
   "outputs": [
    {
     "name": "stdout",
     "output_type": "stream",
     "text": [
      "Portfolio name: Investment Practice Portfolio\n",
      "========================================\n",
      "Total Value: $43631.25\n",
      "Total unrealized P&L: $1756.25\n",
      "\n",
      "Holdings details:\n",
      "----------------------------------------\n",
      "AAPL (Apple Inc.):\n",
      "  Shares: 125\n",
      "  Current price: $150.75\n",
      "  Position value: $18843.75 (43.2%)\n",
      "  Average cost: $143.00\n",
      "  Unrealized P&L: 968.75\n",
      "----------------------------------------\n",
      "MSFT (Microsoft Corp.):\n",
      "  Shares: 75\n",
      "  Current price: $330.5\n",
      "  Position value: $24787.50 (56.8%)\n",
      "  Average cost: $320.00\n",
      "  Unrealized P&L: 787.50\n",
      "----------------------------------------\n"
     ]
    }
   ],
   "source": [
    "class Portfolio:\n",
    "    def __init__(self, name):\n",
    "        # Initialize name and empty holdings dictionary\n",
    "        self.name = name\n",
    "        self.holdings: dict[str, Stock] = {}    # {股票代码: Stock对象}\n",
    "    \n",
    "    def add_stock(self, stock):\n",
    "        \"\"\"Add a stock to the portfolio\"\"\"\n",
    "        # Add stock to holdings dictionary using stock.symbol as key\n",
    "        self.holdings[stock.symbol] = stock\n",
    "    \n",
    "    def get_total_value(self):\n",
    "        \"\"\"Calculate total portfolio value\"\"\"\n",
    "        # Sum position values of all holdings\n",
    "        return sum(stock.get_position_value() for stock in self.holdings.values())\n",
    "\n",
    "    def get_total_pnl(self):\n",
    "        \"\"\"Calculate total unrealized P&L\"\"\"\n",
    "        # Sum unrealized P&L of all holdings\n",
    "        return sum(stock.get_unrealized_pnl() for stock in self.holdings.values())\n",
    "    \n",
    "    def get_portfolio_summary(self):\n",
    "        \"\"\"Generate portfolio summary report\"\"\"\n",
    "        # Calculate totals\n",
    "        # Build summary string with portfolio name, totals, and holdings\n",
    "        # Include weight calculation for each holding\n",
    "        total_value = self.get_total_value()\n",
    "\n",
    "        report = [\n",
    "            f\"Portfolio name: {self.name}\",\n",
    "            \"=\" * 40,\n",
    "            f\"Total Value: ${total_value:.2f}\",\n",
    "            f\"Total unrealized P&L: ${self.get_total_pnl():.2f}\",\n",
    "            \"\",\n",
    "            \"Holdings details:\",\n",
    "            \"-\" * 40,\n",
    "        ]\n",
    "        \n",
    "        for stock in self.holdings.values():\n",
    "            position_value = stock.get_position_value()\n",
    "            weight = (position_value / total_value) * 100 if total_value > 0 else 0\n",
    "\n",
    "            report.extend([\n",
    "                f\"{stock.symbol} ({stock.company_name}):\",\n",
    "                f\"  Shares: {stock.shares}\",\n",
    "                f\"  Current price: ${stock.current_price}\",\n",
    "                f\"  Position value: ${position_value:.2f} ({weight:.1f}%)\",\n",
    "                f\"  Average cost: ${stock.get_average_cost():.2f}\",\n",
    "                f\"  Unrealized P&L: {stock.get_unrealized_pnl():.2f}\",\n",
    "                \"-\" * 40\n",
    "            ])\n",
    "\n",
    "        return \"\\n\".join(report)\n",
    "\n",
    "# Create portfolio and add stocks\n",
    "my_portfolio = Portfolio(\"Investment Practice Portfolio\")\n",
    "my_portfolio.add_stock(apple_stock)\n",
    "\n",
    "# Add Microsoft stock\n",
    "msft_stock = Stock('MSFT', 'Microsoft Corp.', 0, 330.50)\n",
    "msft_stock.add_purchase(75, 320.00)\n",
    "my_portfolio.add_stock(msft_stock)\n",
    "\n",
    "print(my_portfolio.get_portfolio_summary())"
   ]
  },
  {
   "cell_type": "markdown",
   "metadata": {},
   "source": [
    "### Exercise 8: Error Handling in Financial Applications"
   ]
  },
  {
   "cell_type": "markdown",
   "metadata": {},
   "source": [
    "#### 8.1 Handle common errors in financial calculations:\n"
   ]
  },
  {
   "cell_type": "code",
   "execution_count": 42,
   "metadata": {},
   "outputs": [
    {
     "name": "stdout",
     "output_type": "stream",
     "text": [
      "Testing error handling:\n",
      "Return: 7.14%\n",
      "Error: The price must be a positive number.\n",
      "Error: The price must be a positive number.\n",
      "Error: The type of input must be number.\n",
      "\n",
      "Portfolio lookup tests:\n",
      "Found: Apple data\n",
      "Not found error: Stock GOOGL is not in the portfolio.\n"
     ]
    }
   ],
   "source": [
    "def safe_calculate_return(current_price, purchase_price):\n",
    "    \"\"\"Calculate return with error handling\"\"\"\n",
    "    # Use try-except blocks to handle:\n",
    "    # - ValueError for negative/zero prices\n",
    "    # - TypeError for non-numeric inputs\n",
    "    # - ZeroDivisionError for zero purchase price\n",
    "\n",
    "    try:\n",
    "        if current_price <= 0 or purchase_price <= 0:\n",
    "            raise ValueError(\"The price must be a positive number.\")\n",
    "        return f\"Return: {((current_price - purchase_price) / purchase_price) * 100:.2f}%\"\n",
    "    except ValueError as e:\n",
    "        return f\"Error: {e}\"\n",
    "    except TypeError:\n",
    "        return \"Error: The type of input must be number.\"\n",
    "    except ZeroDivisionError:\n",
    "        return \"Error: Purchase price can not be zero.\"\n",
    "    except Exception as e:\n",
    "        return f\"Unexpected error: {e}\"\n",
    "\n",
    "def safe_portfolio_lookup(portfolio_dict, symbol):\n",
    "    \"\"\"Safely look up stock in portfolio\"\"\"\n",
    "    # Use try-except to handle:\n",
    "    # - KeyError for missing symbols\n",
    "    # - TypeError for invalid portfolio data\n",
    "\n",
    "    try:\n",
    "        if not isinstance(portfolio_dict, dict):\n",
    "            raise TypeError(\"The type of the portfolio must be dictionary.\")\n",
    "        return f\"Found: {portfolio_dict[symbol]}\"\n",
    "    except KeyError:\n",
    "        return f\"Not found error: Stock {symbol} is not in the portfolio.\"\n",
    "    except TypeError as e:\n",
    "        return f\"Error: {e}\"\n",
    "    except Exception as e:\n",
    "        return f\"Unexpected error: {e}\"\n",
    "\n",
    "# Test error handling\n",
    "print(\"Testing error handling:\")\n",
    "print(safe_calculate_return(150, 140))    # Normal case\n",
    "print(safe_calculate_return(150, 0))      # Zero division\n",
    "print(safe_calculate_return(150, -10))    # Negative price\n",
    "print(safe_calculate_return(\"150\", 140))  # String input\n",
    "\n",
    "print(\"\\nPortfolio lookup tests:\")\n",
    "test_portfolio = {'AAPL': 'Apple data', 'MSFT': 'Microsoft data'}\n",
    "print(safe_portfolio_lookup(test_portfolio, 'AAPL'))  # Found\n",
    "print(safe_portfolio_lookup(test_portfolio, 'GOOGL')) # Not found"
   ]
  },
  {
   "cell_type": "markdown",
   "metadata": {},
   "source": [
    "## Summary\n",
    "\n",
    "In this lab, you practiced essential Python concepts that are fundamental for financial programming:\n",
    "\n",
    "1. **Basic Data Types**: Worked with numbers, booleans, and strings in financial contexts\n",
    "2. **Lists**: Managed time series data and performed calculations on price arrays\n",
    "3. **Dictionaries**: Created and managed portfolio data structures\n",
    "4. **Control Flow**: Implemented investment decision logic and risk assessment\n",
    "5. **List Comprehensions**: Efficiently processed financial data\n",
    "6. **Functions**: Created reusable financial calculation functions\n",
    "7. **Classes**: Built object-oriented representations of stocks and portfolios\n",
    "8. **Error Handling**: Implemented robust error checking for financial applications\n",
    "\n",
    "These skills form the foundation for more advanced financial programming topics you'll encounter in subsequent labs, including working with pandas for data analysis, matplotlib for visualization, and specialized financial libraries."
   ]
  }
 ],
 "metadata": {
  "kernelspec": {
   "display_name": "test2",
   "language": "python",
   "name": "python3"
  },
  "language_info": {
   "codemirror_mode": {
    "name": "ipython",
    "version": 3
   },
   "file_extension": ".py",
   "mimetype": "text/x-python",
   "name": "python",
   "nbconvert_exporter": "python",
   "pygments_lexer": "ipython3",
   "version": "3.12.11"
  }
 },
 "nbformat": 4,
 "nbformat_minor": 4
}
