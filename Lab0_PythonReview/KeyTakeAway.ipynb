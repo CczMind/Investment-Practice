{
 "cells": [
  {
   "cell_type": "code",
   "execution_count": null,
   "id": "423a1ef2",
   "metadata": {},
   "outputs": [],
   "source": [
    "import numpy as np"
   ]
  },
  {
   "cell_type": "code",
   "execution_count": null,
   "id": "cca605e3",
   "metadata": {},
   "outputs": [],
   "source": [
    "def quicksort(arr: list) -> list:\n",
    "    if len(arr) <= 1:\n",
    "        return arr\n",
    "\n",
    "    pivot = arr[len(arr) // 2]\n",
    "    left = [x for x in arr if x < pivot]\n",
    "    middle = [x for x in  arr if x == pivot]\n",
    "    right = [x for x in arr if x > pivot]\n",
    "\n",
    "    return quicksort(left) + middle + quicksort(right)\n"
   ]
  },
  {
   "cell_type": "code",
   "execution_count": null,
   "id": "665d6079",
   "metadata": {},
   "outputs": [],
   "source": [
    "def bubble_sort(arr: list) -> list:\n",
    "    n = len(arr)\n",
    "    for i in range(n):\n",
    "        for j in range(n - i - 1):\n",
    "            if arr[i] > arr[j + 1]:\n",
    "                arr[j], arr[j + 1] = arr[j + 1], arr[j]\n",
    "    return None"
   ]
  },
  {
   "cell_type": "code",
   "execution_count": null,
   "id": "5b71632c",
   "metadata": {},
   "outputs": [],
   "source": [
    "%%time\n",
    "quicksort(a)"
   ]
  },
  {
   "cell_type": "code",
   "execution_count": null,
   "id": "fd1de251",
   "metadata": {},
   "outputs": [],
   "source": [
    "%%time\n",
    "bubble_sort(a)"
   ]
  },
  {
   "cell_type": "code",
   "execution_count": null,
   "id": "f1bd47a4",
   "metadata": {},
   "outputs": [],
   "source": [
    "s = \"hello\"\n",
    "print(s.capitalize())\n",
    "print(s.upper())\n",
    "print(s.replace(\"l\", \"(ell)\"))\n",
    "print(\"     world\".strip())\n"
   ]
  },
  {
   "cell_type": "code",
   "execution_count": null,
   "id": "5015447b",
   "metadata": {},
   "outputs": [],
   "source": [
    "xs = [3, 1, 2]\n",
    "xs.append(\"bar\")\n",
    "print(xs)\n",
    "x = xs.pop()\n",
    "print(x, xs)\n"
   ]
  },
  {
   "cell_type": "code",
   "execution_count": null,
   "id": "85abb5ce",
   "metadata": {},
   "outputs": [],
   "source": [
    "for i in range(5):\n",
    "    print(i, end = \" \")     # 让输出处于同一行。"
   ]
  },
  {
   "cell_type": "code",
   "execution_count": null,
   "id": "3db2fd32",
   "metadata": {},
   "outputs": [],
   "source": [
    "d = {\"person\": 2, \"cat\": 4, \"spider\": 8}\n",
    "print(d.items())\n",
    "print(d.values())\n"
   ]
  }
 ],
 "metadata": {
  "kernelspec": {
   "display_name": "test2",
   "language": "python",
   "name": "python3"
  },
  "language_info": {
   "codemirror_mode": {
    "name": "ipython",
    "version": 3
   },
   "file_extension": ".py",
   "mimetype": "text/x-python",
   "name": "python",
   "nbconvert_exporter": "python",
   "pygments_lexer": "ipython3",
   "version": "3.12.11"
  }
 },
 "nbformat": 4,
 "nbformat_minor": 5
}
