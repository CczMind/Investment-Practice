{
 "cells": [
  {
   "cell_type": "code",
   "execution_count": 2,
   "id": "cca605e3",
   "metadata": {},
   "outputs": [
    {
     "name": "stdout",
     "output_type": "stream",
     "text": [
      "[1, 1, 2, 3, 6, 8, 10]\n",
      "CPU times: total: 0 ns\n",
      "Wall time: 0 ns\n"
     ]
    }
   ],
   "source": [
    "%%time\n",
    "def quicksort(arr: list) -> list:\n",
    "    if len(arr) <= 1:\n",
    "        return arr\n",
    "\n",
    "    pivot = arr[len(arr) // 2]\n",
    "    left = [x for x in arr if x < pivot]\n",
    "    middle = [x for x in  arr if x == pivot]\n",
    "    right = [x for x in arr if x > pivot]\n",
    "\n",
    "    return quicksort(left) + middle + quicksort(right)\n",
    "\n",
    "print(quicksort([3,6,8,10,1,2,1]))"
   ]
  },
  {
   "cell_type": "code",
   "execution_count": 3,
   "id": "f1bd47a4",
   "metadata": {},
   "outputs": [
    {
     "name": "stdout",
     "output_type": "stream",
     "text": [
      "Hello\n",
      "HELLO\n",
      "he(ell)(ell)o\n",
      "world\n"
     ]
    }
   ],
   "source": [
    "s = \"hello\"\n",
    "print(s.capitalize())\n",
    "print(s.upper())\n",
    "print(s.replace(\"l\", \"(ell)\"))\n",
    "print(\"     world\".strip())\n"
   ]
  },
  {
   "cell_type": "code",
   "execution_count": 5,
   "id": "5015447b",
   "metadata": {},
   "outputs": [
    {
     "name": "stdout",
     "output_type": "stream",
     "text": [
      "[3, 1, 2, 'bar']\n",
      "bar [3, 1, 2]\n"
     ]
    }
   ],
   "source": [
    "xs = [3, 1, 2]\n",
    "xs.append(\"bar\")\n",
    "print(xs)\n",
    "x = xs.pop()\n",
    "print(x, xs)\n"
   ]
  },
  {
   "cell_type": "code",
   "execution_count": null,
   "id": "85abb5ce",
   "metadata": {},
   "outputs": [
    {
     "name": "stdout",
     "output_type": "stream",
     "text": [
      "0 1 2 3 4 "
     ]
    }
   ],
   "source": [
    "for i in range(5):\n",
    "    print(i, end = \" \")     # 让输出处于同一行。"
   ]
  },
  {
   "cell_type": "code",
   "execution_count": 11,
   "id": "3db2fd32",
   "metadata": {},
   "outputs": [
    {
     "name": "stdout",
     "output_type": "stream",
     "text": [
      "dict_items([('person', 2), ('cat', 4), ('spider', 8)])\n",
      "dict_values([2, 4, 8])\n"
     ]
    }
   ],
   "source": [
    "d = {\"person\": 2, \"cat\": 4, \"spider\": 8}\n",
    "print(d.items())\n",
    "print(d.values())\n"
   ]
  }
 ],
 "metadata": {
  "kernelspec": {
   "display_name": "test2",
   "language": "python",
   "name": "python3"
  },
  "language_info": {
   "codemirror_mode": {
    "name": "ipython",
    "version": 3
   },
   "file_extension": ".py",
   "mimetype": "text/x-python",
   "name": "python",
   "nbconvert_exporter": "python",
   "pygments_lexer": "ipython3",
   "version": "3.12.11"
  }
 },
 "nbformat": 4,
 "nbformat_minor": 5
}
