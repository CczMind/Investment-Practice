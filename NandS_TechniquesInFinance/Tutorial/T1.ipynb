{
 "cells": [
  {
   "cell_type": "code",
   "execution_count": 1,
   "id": "4444a57b",
   "metadata": {},
   "outputs": [],
   "source": [
    "import numpy as np"
   ]
  },
  {
   "cell_type": "code",
   "execution_count": 2,
   "id": "15270ae9",
   "metadata": {},
   "outputs": [],
   "source": [
    "#Question 1. Create the following vectors/matrices: \n",
    "#a = [0,0,0,0,0], \n",
    "#b = 3x5 matrix filled with ones, \n",
    "#c = [1,2,3,4,5,6], \n",
    "#d = [0, 0.2, 0.4, 0.6, 0.8, 1], \n",
    "#e = array of 5 random numbers between 1 and 2\n",
    "#f = 2x3 matrix with all elements equal to 5\n",
    "\n",
    "a = np.zeros(5)\n",
    "b = np.ones([3, 5])\n",
    "c = np.arange(1, 7, 1)\n",
    "d = np.linspace(0, 1, 6)\n",
    "e = np.random.rand(5) + 1\n",
    "f = np.ones([2, 3]) * 5\n",
    "\n",
    "#Another method for f \n",
    "# f2a = np.repeat(5,3)\n",
    "# f2b = np.repeat(5,3)\n",
    "# f2 = np.vstack((f2a,f2b))"
   ]
  },
  {
   "cell_type": "code",
   "execution_count": 3,
   "id": "06df09ce",
   "metadata": {
    "scrolled": true
   },
   "outputs": [
    {
     "name": "stdout",
     "output_type": "stream",
     "text": [
      "[0. 0. 0. 0. 0.]\n"
     ]
    }
   ],
   "source": [
    "print(a)"
   ]
  },
  {
   "cell_type": "code",
   "execution_count": 4,
   "id": "3c9cc799",
   "metadata": {},
   "outputs": [
    {
     "name": "stdout",
     "output_type": "stream",
     "text": [
      "[[1. 1. 1. 1. 1.]\n",
      " [1. 1. 1. 1. 1.]\n",
      " [1. 1. 1. 1. 1.]]\n"
     ]
    }
   ],
   "source": [
    "print(b)"
   ]
  },
  {
   "cell_type": "code",
   "execution_count": 5,
   "id": "ead8b7c0",
   "metadata": {},
   "outputs": [
    {
     "name": "stdout",
     "output_type": "stream",
     "text": [
      "[1 2 3 4 5 6]\n"
     ]
    }
   ],
   "source": [
    "print(c)"
   ]
  },
  {
   "cell_type": "code",
   "execution_count": 6,
   "id": "65857bec",
   "metadata": {},
   "outputs": [
    {
     "name": "stdout",
     "output_type": "stream",
     "text": [
      "[0.  0.2 0.4 0.6 0.8 1. ]\n"
     ]
    }
   ],
   "source": [
    "print(d)"
   ]
  },
  {
   "cell_type": "code",
   "execution_count": 7,
   "id": "f99b47e5",
   "metadata": {},
   "outputs": [
    {
     "name": "stdout",
     "output_type": "stream",
     "text": [
      "[1.28606433 1.75185463 1.60140142 1.72377503 1.68625645]\n"
     ]
    }
   ],
   "source": [
    "print(e)"
   ]
  },
  {
   "cell_type": "code",
   "execution_count": 8,
   "id": "041ba622",
   "metadata": {},
   "outputs": [
    {
     "name": "stdout",
     "output_type": "stream",
     "text": [
      "[[5. 5. 5.]\n",
      " [5. 5. 5.]]\n"
     ]
    }
   ],
   "source": [
    "print(f)"
   ]
  },
  {
   "cell_type": "markdown",
   "id": "39f0ca53",
   "metadata": {},
   "source": [
    "---"
   ]
  },
  {
   "cell_type": "code",
   "execution_count": 9,
   "id": "4ee69111",
   "metadata": {},
   "outputs": [
    {
     "name": "stdout",
     "output_type": "stream",
     "text": [
      "[[ 5 11]\n",
      " [ 9  2]]\n"
     ]
    }
   ],
   "source": [
    "#Question 2a: Generate following matrix M using the given two arrays x and y \n",
    "#[[ 5 11]\n",
    "#[ 9  2]]\n",
    "\n",
    "x=np.array([5,9])\n",
    "y=np.array([11,2])\n",
    "\n",
    "M = np.vstack([x, y]).T\n",
    "print(M)"
   ]
  },
  {
   "cell_type": "code",
   "execution_count": 10,
   "id": "2ef8819e",
   "metadata": {},
   "outputs": [
    {
     "name": "stdout",
     "output_type": "stream",
     "text": [
      "[[60 87]\n",
      " [19 32]]\n"
     ]
    }
   ],
   "source": [
    "#Question 2b: Calculate matrix P = M * N (Matrix multiplication)\n",
    "#Matrix N =  [1 2]\n",
    "#            [5 7]\n",
    "N = np.array([\n",
    "    [1, 2],\n",
    "    [5, 7]\n",
    "])\n",
    "P = M.dot(N)\n",
    "print(P)"
   ]
  },
  {
   "cell_type": "code",
   "execution_count": 11,
   "id": "a1be703a",
   "metadata": {},
   "outputs": [
    {
     "name": "stdout",
     "output_type": "stream",
     "text": [
      "[87 32]\n"
     ]
    }
   ],
   "source": [
    "#Question 2c: Compute the maximum value of each row in P\n",
    "RowMax = np.max(P, axis = 1)\n",
    "print(RowMax)"
   ]
  },
  {
   "cell_type": "code",
   "execution_count": 12,
   "id": "99810f5a",
   "metadata": {},
   "outputs": [
    {
     "name": "stdout",
     "output_type": "stream",
     "text": [
      "87\n"
     ]
    }
   ],
   "source": [
    "#Question 2c: Compute the maximum element in P\n",
    "Max = np.max(P)\n",
    "print(Max)"
   ]
  },
  {
   "cell_type": "markdown",
   "id": "31b52847",
   "metadata": {},
   "source": [
    "---"
   ]
  },
  {
   "cell_type": "code",
   "execution_count": 13,
   "id": "05b9d684",
   "metadata": {},
   "outputs": [
    {
     "name": "stdout",
     "output_type": "stream",
     "text": [
      "12\n"
     ]
    }
   ],
   "source": [
    "#Question 3a: Define a function \"addOne\", take in one number as input and add one to it.\n",
    "def addOne(x):\n",
    "    x += 1\n",
    "    return x\n",
    "print(addOne(11))"
   ]
  },
  {
   "cell_type": "code",
   "execution_count": 14,
   "id": "2719ecdb",
   "metadata": {},
   "outputs": [
    {
     "name": "stdout",
     "output_type": "stream",
     "text": [
      "[1, 9, 3]\n",
      "[1, 9, 3]\n"
     ]
    }
   ],
   "source": [
    "#Question 3b: \n",
    "a = [1, 2, 3]\n",
    "b = a\n",
    "b[1] = 9\n",
    "\n",
    "print(a)\n",
    "print(b)"
   ]
  },
  {
   "cell_type": "markdown",
   "id": "ed47aa73",
   "metadata": {},
   "source": [
    "---"
   ]
  },
  {
   "cell_type": "markdown",
   "id": "453191e5",
   "metadata": {},
   "source": [
    "### Think: Why is \"a\" modified when we modify 'b'?\n",
    "\n",
    "`b = a` only assigns a reference to the same object, so modifying `b` changes the shared memory, affecting `a`."
   ]
  },
  {
   "cell_type": "markdown",
   "id": "76df8b6f",
   "metadata": {},
   "source": [
    "---"
   ]
  },
  {
   "cell_type": "code",
   "execution_count": 15,
   "id": "9754b5a2",
   "metadata": {},
   "outputs": [],
   "source": [
    "#preform a copy of 'a'\n",
    "a = [1, 2, 3]\n",
    "b1 = a.copy()"
   ]
  },
  {
   "cell_type": "code",
   "execution_count": 16,
   "id": "eaccff11",
   "metadata": {},
   "outputs": [
    {
     "name": "stdout",
     "output_type": "stream",
     "text": [
      "[1, 9, 3]\n",
      "[1, 2, 3]\n"
     ]
    }
   ],
   "source": [
    "b1[1] = 9\n",
    "print(b1)\n",
    "print(a)"
   ]
  },
  {
   "cell_type": "markdown",
   "id": "2417dbc2",
   "metadata": {},
   "source": [
    "---"
   ]
  },
  {
   "cell_type": "markdown",
   "id": "a8ee1a5b",
   "metadata": {},
   "source": [
    "### Think: Why is 'a' unchanged?\n",
    "\n",
    "`.copy()` creates a new object, so modifying `b1` does not affect `a` because they are independent in memory.\n"
   ]
  },
  {
   "cell_type": "markdown",
   "id": "9d80c646",
   "metadata": {},
   "source": [
    "---"
   ]
  },
  {
   "cell_type": "code",
   "execution_count": 17,
   "id": "cfe6b783",
   "metadata": {},
   "outputs": [
    {
     "name": "stdout",
     "output_type": "stream",
     "text": [
      "[9 list([7, 3]) list(['m', 'n'])]\n",
      "[9 list([7, 3]) list(['m', 'n'])]\n"
     ]
    }
   ],
   "source": [
    "#Question 3c: \n",
    "c = np.array([9, [1, 3], ['m', 'n']], dtype = 'object')\n",
    "d = np.copy(c)\n",
    "d[1][0] = 7\n",
    "\n",
    "print(c)\n",
    "print(d)"
   ]
  },
  {
   "cell_type": "markdown",
   "id": "520c07ff",
   "metadata": {},
   "source": [
    "---"
   ]
  },
  {
   "cell_type": "markdown",
   "id": "9765dce2",
   "metadata": {},
   "source": [
    "### Think: Why is \"c\" modified when we modify 'd'?\n",
    "\n",
    "Because `.copy()` performs a shallow copy for object arrays. <br>\n",
    "The list elements in the array are mutable objects, so `c` and `d` share the same references.<br>\n",
    "Modifying one affects the other."
   ]
  },
  {
   "cell_type": "markdown",
   "id": "40682e14",
   "metadata": {},
   "source": [
    "---"
   ]
  },
  {
   "cell_type": "code",
   "execution_count": 18,
   "id": "c579b79c",
   "metadata": {},
   "outputs": [],
   "source": [
    "import copy as cp\n",
    "#Question 3d: perform a deep copy of c\n",
    "c = np.array([9, [1, 3], ['m', 'n']], dtype = 'object')\n",
    "\n",
    "d1 = cp.deepcopy(c)"
   ]
  },
  {
   "cell_type": "code",
   "execution_count": 19,
   "id": "0e1b2c23",
   "metadata": {},
   "outputs": [
    {
     "name": "stdout",
     "output_type": "stream",
     "text": [
      "[9 list([7, 3]) list(['m', 'n'])]\n",
      "[9 list([1, 3]) list(['m', 'n'])]\n"
     ]
    }
   ],
   "source": [
    "d1[1][0] = 7\n",
    "print(d1)\n",
    "print(c)"
   ]
  },
  {
   "cell_type": "markdown",
   "id": "e9811025",
   "metadata": {},
   "source": [
    "---"
   ]
  },
  {
   "cell_type": "markdown",
   "id": "07172814",
   "metadata": {},
   "source": [
    "### Think: Why is 'c' unchanged?\n",
    "\n",
    "Because `deepcopy` creats a completely independent copy, including all nested objects.<br>\n"
   ]
  },
  {
   "cell_type": "markdown",
   "id": "fb6f7d42",
   "metadata": {},
   "source": [
    "---"
   ]
  },
  {
   "cell_type": "code",
   "execution_count": 20,
   "id": "ebf14500",
   "metadata": {},
   "outputs": [
    {
     "name": "stdout",
     "output_type": "stream",
     "text": [
      "25\n"
     ]
    }
   ],
   "source": [
    "#Question 4: define a lambda function, calculating the square of the input.\n",
    "square = lambda x: x ** 2\n",
    "print(square(5))"
   ]
  },
  {
   "cell_type": "markdown",
   "id": "fd4d4b65",
   "metadata": {},
   "source": [
    "---"
   ]
  },
  {
   "cell_type": "code",
   "execution_count": 21,
   "id": "e092f8cd",
   "metadata": {},
   "outputs": [
    {
     "name": "stdout",
     "output_type": "stream",
     "text": [
      "Machine parameters for float64\n",
      "---------------------------------------------------------------\n",
      "precision =  15   resolution = 1.0000000000000001e-15\n",
      "machep =    -52   eps =        2.2204460492503131e-16\n",
      "negep =     -53   epsneg =     1.1102230246251565e-16\n",
      "minexp =  -1022   tiny =       2.2250738585072014e-308\n",
      "maxexp =   1024   max =        1.7976931348623157e+308\n",
      "nexp =       11   min =        -max\n",
      "smallest_normal = 2.2250738585072014e-308   smallest_subnormal = 4.9406564584124654e-324\n",
      "---------------------------------------------------------------\n",
      "\n"
     ]
    }
   ],
   "source": [
    "#Question 5a: find the machine precision:\n",
    "print(np.finfo(np.float64))"
   ]
  },
  {
   "cell_type": "markdown",
   "id": "ea74df27",
   "metadata": {},
   "source": [
    "Machine precision: \n",
    "`eps = 2.2204460492503131e-16`"
   ]
  },
  {
   "cell_type": "code",
   "execution_count": 22,
   "id": "eec8c7f5",
   "metadata": {},
   "outputs": [
    {
     "name": "stdout",
     "output_type": "stream",
     "text": [
      "2.220446049250313e-16\n",
      "0.015625\n"
     ]
    }
   ],
   "source": [
    "#Question 5b:\n",
    "print(np.spacing(1))\n",
    "print(np.spacing(99999999999999))"
   ]
  },
  {
   "cell_type": "markdown",
   "id": "a555fe19",
   "metadata": {},
   "source": [
    "---"
   ]
  },
  {
   "cell_type": "markdown",
   "id": "992e78b3",
   "metadata": {},
   "source": [
    "### Think: Why is spacing much larger for bigger numbers?\n",
    "\n",
    "`np.spaceing(x)` returns the distance between a floating-point number `x` and its nearest representable neighbor.\n",
    "\n",
    "The space between numbers is proportional to, for 64 bits, `2^(exponent - 52)`.\n",
    "\n",
    "For small numbers, the exponent is small, resulting in tiny spacing.<br>\n",
    "For large numbers, the exponent is large, causing much larger spacing."
   ]
  },
  {
   "cell_type": "markdown",
   "id": "1605b019",
   "metadata": {},
   "source": [
    "---"
   ]
  },
  {
   "cell_type": "code",
   "execution_count": 23,
   "id": "319c5666",
   "metadata": {},
   "outputs": [
    {
     "name": "stdout",
     "output_type": "stream",
     "text": [
      "2.3114652e+09\n"
     ]
    }
   ],
   "source": [
    "#Question 5c: \n",
    "v = np.array([1, 0.0003, 999, 2311465132, 567], dtype = np.float32)\n",
    "print(v[3])"
   ]
  },
  {
   "cell_type": "markdown",
   "id": "cbeec225",
   "metadata": {},
   "source": [
    "---"
   ]
  },
  {
   "cell_type": "markdown",
   "id": "13271492",
   "metadata": {},
   "source": [
    "### Think: why is the result 2311465200 instead of 2311465132?\n",
    "\n",
    "Because `np.float32` has only about 7 significant digits.<br>\n",
    "The number exceeds this precision and gets rounded to the nearest representable value.\n"
   ]
  },
  {
   "cell_type": "markdown",
   "id": "c3f45941",
   "metadata": {},
   "source": [
    "---"
   ]
  },
  {
   "cell_type": "code",
   "execution_count": 24,
   "id": "f23877bb",
   "metadata": {},
   "outputs": [
    {
     "name": "stdout",
     "output_type": "stream",
     "text": [
      "2.3114668e+09\n"
     ]
    }
   ],
   "source": [
    "#Question 5d: Add up all the elements in v so that the result is the most accruate. You may add them up manually.\n",
    "vsum = v[1] + v[0] + v[4] + v[2] + v[3]\n",
    "print(vsum)"
   ]
  },
  {
   "cell_type": "code",
   "execution_count": 25,
   "id": "59ef401e",
   "metadata": {},
   "outputs": [
    {
     "data": {
      "image/png": "[encoded data removed]",
      "text/plain": [
       "<Figure size 640x480 with 1 Axes>"
      ]
     },
     "metadata": {},
     "output_type": "display_data"
    }
   ],
   "source": [
    "# Question 6: approximate the 1st order derivative of:\n",
    "# f(x) = cos(x^2) - sin(e^x)\n",
    "import matplotlib.pyplot as plt\n",
    "import numpy as np\n",
    "\n",
    "x = 1.77\n",
    "h = 2.0 ** np.arange(-52, 1, 1)\n",
    "\n",
    "def f(x):\n",
    "    return np.cos(x ** 2) - np.sin(np.exp(x))\n",
    "def f1(x):\n",
    "    return - np.sin(x ** 2) * 2 * x - np.cos(np.exp(x)) * np.exp(x)\n",
    "(f_x, f1_x, f_x_plus_h, f_x_minus_h) = (f(x), f1(x), f(x+h), f(x-h))\n",
    "\n",
    "#Complete your code below\n",
    "f1_forward_diff = (f_x_plus_h - f_x) / h\n",
    "f1_centered_diff = (f_x_plus_h - f_x_minus_h) / (2 * h)\n",
    "\n",
    "### Plotting the relative error of the finite-difference approximations\n",
    "fig, ax = plt.subplots(1)\n",
    "ax.loglog(h,np.abs((f1_forward_diff - f1_x) / f1_x), label='forward difference', linewidth=3)\n",
    "ax.loglog(h,np.abs((f1_centered_diff - f1_x) / f1_x), label='centered difference', linewidth=3)\n",
    "ax.set_xticks(10.0**np.arange(-16,1,2))\n",
    "ax.set_yticks(10.0**np.arange(-10,1,2))\n",
    "ax.set_ylim([10**(-12),100.0])\n",
    "ax.spines['top'].set_visible(False)\n",
    "ax.spines['right'].set_visible(False)\n",
    "ax.set_title('Relative error between $f^{(1)}('+str(x)+')$ and its finite difference approximation')\n",
    "ax.legend(loc='upper center')   \n",
    "fig.tight_layout(pad=0)\n",
    "plt.subplots_adjust()\n",
    "plt.show()\n"
   ]
  },
  {
   "cell_type": "code",
   "execution_count": null,
   "id": "7c529f72",
   "metadata": {},
   "outputs": [],
   "source": []
  }
 ],
 "metadata": {
  "kernelspec": {
   "display_name": "test2",
   "language": "python",
   "name": "python3"
  },
  "language_info": {
   "codemirror_mode": {
    "name": "ipython",
    "version": 3
   },
   "file_extension": ".py",
   "mimetype": "text/x-python",
   "name": "python",
   "nbconvert_exporter": "python",
   "pygments_lexer": "ipython3",
   "version": "3.12.11"
  }
 },
 "nbformat": 4,
 "nbformat_minor": 5
}
