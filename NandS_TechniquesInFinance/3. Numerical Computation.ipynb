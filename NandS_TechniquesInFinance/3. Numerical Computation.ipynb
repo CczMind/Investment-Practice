{
 "cells": [
  {
   "cell_type": "markdown",
   "id": "b0af5dc6",
   "metadata": {},
   "source": [
    "## 计算机算术 | Computer Arithmetic\n",
    "\n",
    "在数值计算中，系统性地出现两种误差来源：\n",
    "1. 截断误差（Truncation errors）\n",
    "    - 由于数学模型的简化（例如，离散化、用有限差分代替导数）所致。\n",
    "2. 舍入误差（Rounding errors）\n",
    "    - 由于在计算机中无法精确表示实数所致\n",
    "    > it is impossible to represent real numbers exactly in a computer"
   ]
  },
  {
   "cell_type": "markdown",
   "id": "e3421cf7",
   "metadata": {},
   "source": [
    "---"
   ]
  },
  {
   "cell_type": "markdown",
   "id": "615ed575",
   "metadata": {},
   "source": [
    "### 数值计算 | Numerical Computation\n",
    "\n",
    "> 使用计算机近似求解数学问题的方法。\n",
    ">\n",
    "> The use of computers to approximate solutions to mathematical problems.\n",
    "\n",
    "例如求解微分方程、优化问题或积分计算。由于许多数学问题无法得到解析解（即精确的公式解），我们依赖数值方法（如迭代算法或离散化）来获得近似解。\n",
    "> Many mathematical problems lack analytical solutions (i.e., exact formula-based solutions), so we rely on numerical methods (e.g., iterative algorithms or discretization) to obtain approximate results.\n",
    "\n",
    "然而，这些方法不可避免地引入误差，主要分为**截断误差**和**舍入误差**。\n",
    "\n",
    "#### 1. 截断误差（Truncation Errors）\n",
    "\n",
    "> 源于对数学模型的简化或近似处理。\n",
    "> \n",
    "> Arise from the simplification or approximation of mathematical models.\n",
    "\n",
    "在数值计算中，我们经常将连续问题（如微分方程）转换为离散问题（如差分方程），以便计算机处理。\n",
    "> In numerical computation, we often convert continuous problems (e.g., differential equations) into discrete problems (e.g., difference equations) to make them computable.\n",
    "\n",
    "这种转换会丢失一些信息，导致误差。\n",
    "\n",
    "> 截断误差通常与步长或近似阶数相关。\n",
    ">\n",
    "> Truncation errors are typically related to step size or approximation order.\n",
    "\n",
    "#### 2. 舍入误差（Rounding Errors）\n",
    "\n",
    "> 由于计算机无法精确表示所有实数所致。\n",
    ">\n",
    "> Computers cannot represent all real numbers exactly.\n",
    "\n",
    "计算机使用有限位数的二进制表示数字（如浮点数标准 IEEE 754），这导致某些数字（如无理数或循环小数）必须被舍入到最接近的可表示值。\n",
    "\n",
    "> 舍入误差是系统性的，可能在迭代算法中累积，导致结果偏离真实值。\n",
    ">\n",
    "> Rounding errors are systematic and can accumulate in iterative algorithms, causing results to deviate from true values.\n"
   ]
  },
  {
   "cell_type": "markdown",
   "id": "221244ce",
   "metadata": {},
   "source": [
    "---"
   ]
  },
  {
   "cell_type": "markdown",
   "id": "ce28bf0e",
   "metadata": {},
   "source": [
    "## Integers Arithmetic | 整数算术\n",
    "\n",
    "In Python integers can be arbitrarily large.<br>\n",
    "The interpreter simply uses as many bits as needed to represent the number."
   ]
  },
  {
   "cell_type": "code",
   "execution_count": 1,
   "id": "511c4bd5",
   "metadata": {},
   "outputs": [
    {
     "data": {
      "text/plain": [
       "1"
      ]
     },
     "execution_count": 1,
     "metadata": {},
     "output_type": "execute_result"
    }
   ],
   "source": [
    "a = 1\n",
    "a.bit_length()"
   ]
  },
  {
   "cell_type": "code",
   "execution_count": 2,
   "id": "33a82ab7",
   "metadata": {},
   "outputs": [
    {
     "data": {
      "text/plain": [
       "333"
      ]
     },
     "execution_count": 2,
     "metadata": {},
     "output_type": "execute_result"
    }
   ],
   "source": [
    "a = 10 ** 100\n",
    "a.bit_length()"
   ]
  },
  {
   "cell_type": "code",
   "execution_count": 3,
   "id": "8d7992ef",
   "metadata": {},
   "outputs": [
    {
     "data": {
      "text/plain": [
       "99668"
      ]
     },
     "execution_count": 3,
     "metadata": {},
     "output_type": "execute_result"
    }
   ],
   "source": [
    "a = 10 ** 30003\n",
    "a.bit_length()"
   ]
  },
  {
   "cell_type": "markdown",
   "id": "4902a4ef",
   "metadata": {},
   "source": [
    "NumPy 不兼容 Python 的可扩展整数\n",
    "> Numerical packages such as NumPy are not compatible with this extensible integer type\n",
    "\n",
    "核心：NumPy 的核心设计目标（高速的批量数组运算）与 Python 可变长整数带来的开销和不确定性存在根本性冲突。\n",
    "\n",
    "NumPy 使用固定数量的比特位来存储整数，通常是 32 位（np.int32）或 64 位（np.int64，默认值）。<br>\n",
    "超出最大取值范围的运算会产生溢出（超出固定范围的比特位被截断）。\n",
    "> NumPy uses a fixed number of bits to store integers, usually 32 bits (np.int32) or 64 bits (np.int64, default).<br>\n",
    "> Computations outside the maximum range of values generate overflows (truncation of the bits outside the fixed range).\n"
   ]
  },
  {
   "cell_type": "code",
   "execution_count": 4,
   "id": "a758f11c",
   "metadata": {},
   "outputs": [],
   "source": [
    "import numpy as np"
   ]
  },
  {
   "cell_type": "code",
   "execution_count": 5,
   "id": "d18ff228",
   "metadata": {},
   "outputs": [
    {
     "name": "stdout",
     "output_type": "stream",
     "text": [
      "Machine parameters for int64\n",
      "---------------------------------------------------------------\n",
      "min = -9223372036854775808\n",
      "max = 9223372036854775807\n",
      "---------------------------------------------------------------\n",
      "\n"
     ]
    }
   ],
   "source": [
    "print(np.iinfo(np.int64))"
   ]
  },
  {
   "cell_type": "markdown",
   "id": "b469a1a4",
   "metadata": {},
   "source": [
    "---"
   ]
  },
  {
   "cell_type": "markdown",
   "id": "aab34172",
   "metadata": {},
   "source": [
    "## Floating-point Arithmetic | 浮点数算术\n",
    "\n",
    "In a computer, a real number $x\\ne 0$ is represented as:\n",
    "$$\n",
    "x = \\pm n \\times b^e\n",
    "$$\n",
    "- $\\pm$：符号位（Sign）\n",
    "  - `0`代表正数，`1`代表负数。\n",
    "- $n$：尾数/有效数字（Mantissa/Significand）\n",
    "  - 数字的精度部分。\n",
    "  - 一个规范化的小数（fractional part），通常满足：$$1 \\le n < b$$\n",
    "- $b = 2$：基数（The base）\n",
    "  - 通常是 `2`（二进制）\n",
    "- $e$：指数（The exponent）\n",
    "  - 决定了数的范围（数量级）。\n",
    "\n",
    "<img src=\"./image/float_binary.png\" alt=\"image.png\" style=\"width: 700px; height: auto; display: block; margin: 0 auto;\"><br>\n",
    "\n",
    "<img src=\"./image/float_16bits_demo.png\" alt=\"image.png\" style=\"width: 700px; height: auto; display: block; margin: 0 auto;\">\n"
   ]
  },
  {
   "cell_type": "markdown",
   "id": "700a8d9e",
   "metadata": {},
   "source": [
    "---"
   ]
  },
  {
   "cell_type": "code",
   "execution_count": 6,
   "id": "e2259d9a",
   "metadata": {},
   "outputs": [
    {
     "name": "stdout",
     "output_type": "stream",
     "text": [
      "False\n"
     ]
    }
   ],
   "source": [
    "print(0.1 + 0.1 + 0.1 == 0.3)"
   ]
  },
  {
   "cell_type": "code",
   "execution_count": 7,
   "id": "76a94e74",
   "metadata": {},
   "outputs": [
    {
     "name": "stdout",
     "output_type": "stream",
     "text": [
      "0.1\n",
      "0.1000000000000000055511151231257827021181583404541\n"
     ]
    }
   ],
   "source": [
    "print(0.1)\n",
    "print(format(0.1, \".50g\"))"
   ]
  },
  {
   "cell_type": "code",
   "execution_count": 8,
   "id": "a6894f95",
   "metadata": {},
   "outputs": [
    {
     "data": {
      "text/plain": [
       "(3602879701896397, 36028797018963968)"
      ]
     },
     "execution_count": 8,
     "metadata": {},
     "output_type": "execute_result"
    }
   ],
   "source": [
    "(0.1).as_integer_ratio()"
   ]
  },
  {
   "cell_type": "code",
   "execution_count": 9,
   "id": "7f77b3bb",
   "metadata": {},
   "outputs": [
    {
     "name": "stdout",
     "output_type": "stream",
     "text": [
      "0.1\n"
     ]
    }
   ],
   "source": [
    "print(3602879701896397 / 36028797018963968)"
   ]
  },
  {
   "cell_type": "markdown",
   "id": "bbeb4539",
   "metadata": {},
   "source": [
    "---"
   ]
  },
  {
   "cell_type": "markdown",
   "id": "7989fec1",
   "metadata": {},
   "source": [
    "For real numbers, Python uses 64 bits:\n",
    "\n",
    "It can represent real numbers from $\\pm\\mathbf{2.23\\times10^{-308}}$ to $\\pm\\mathbf{1.80\\times10^{308}}$\n",
    "\n",
    "- If $x$ is smaller than $m=2.23\\times10^{-308}$, we get an ***underflow***\n",
    "- If $x$ is greater than $M=1.80\\times10^{308}$, we get an ***overflow***\n"
   ]
  },
  {
   "cell_type": "code",
   "execution_count": 10,
   "id": "956ede0b",
   "metadata": {},
   "outputs": [
    {
     "name": "stdout",
     "output_type": "stream",
     "text": [
      "Machine parameters for float64\n",
      "---------------------------------------------------------------\n",
      "precision =  15   resolution = 1.0000000000000001e-15\n",
      "machep =    -52   eps =        2.2204460492503131e-16\n",
      "negep =     -53   epsneg =     1.1102230246251565e-16\n",
      "minexp =  -1022   tiny =       2.2250738585072014e-308\n",
      "maxexp =   1024   max =        1.7976931348623157e+308\n",
      "nexp =       11   min =        -max\n",
      "smallest_normal = 2.2250738585072014e-308   smallest_subnormal = 4.9406564584124654e-324\n",
      "---------------------------------------------------------------\n",
      "\n"
     ]
    }
   ],
   "source": [
    "print(np.finfo(np.float64))"
   ]
  },
  {
   "cell_type": "markdown",
   "id": "08dc9470",
   "metadata": {},
   "source": [
    "---"
   ]
  },
  {
   "cell_type": "markdown",
   "id": "1af38e7b",
   "metadata": {},
   "source": [
    "### 机器精度 | Machine Precision\n",
    "\n",
    "机器精度是满足 $\\text{float}(1 + \\epsilon_1) > 1$ 的最小正数 $\\varepsilon_1$。\n",
    "> The machine precision of a floating point arithmetic is defined as the smallest positive number $\\varepsilon_1$ such that $\\text{float}(1 + \\epsilon_1) > 1$\n"
   ]
  },
  {
   "cell_type": "code",
   "execution_count": 11,
   "id": "5fa5268e",
   "metadata": {},
   "outputs": [
    {
     "name": "stdout",
     "output_type": "stream",
     "text": [
      "2.220446049250313e-16\n"
     ]
    }
   ],
   "source": [
    "print(np.spacing(1))"
   ]
  },
  {
   "cell_type": "markdown",
   "id": "aaab8dc3",
   "metadata": {},
   "source": [
    "`np.space(1)`: \n",
    "- 在浮点数系统中，表示比 $x$ 大的、最邻近 $x$ 的那个数，与 $x$ 本身之间的绝对差值。\n",
    "- In the floating-point system, the absolute difference between $x$ and the next largest representable floating-point number.\n",
    "\n",
    "> 在 $x$ 这个位置，浮点数之间的“最小步长”或“绝对间隔”<br>\n",
    "> the \"minimum step size\" or the \"absolute interval\" between floating-point numbers at the location $x$."
   ]
  },
  {
   "cell_type": "markdown",
   "id": "a8848e2c",
   "metadata": {},
   "source": [
    "在计算机中，由于用有限的内存（通常是64位）来表示无限多的实数，所以浮点数在数轴上的分布是离散的，而不是连续的。<br>\n",
    "数字越大，相邻两个可表示的浮点数之间的“间隔”就越大。\n",
    "\n",
    "> In computing, because we use a finite amount of memory (typically 64 bits) to represent an infinite set of real numbers, floating-point numbers are discrete on the number line, not continuous. <br>\n",
    "> The larger the number, the larger the \"gap\" or \"interval\" between two adjacent representable floating-point numbers."
   ]
  },
  {
   "cell_type": "markdown",
   "id": "1088e52d",
   "metadata": {},
   "source": [
    "#### 金融数值计算的实际意义\n",
    "\n",
    "处理大金额时需要格外小心：如果你计算1亿美金（$10^8$）的期权价格，绝对精度间隔是：\n",
    "\n",
    "```\n",
    "ε ≈ 10⁸ × 1.57 × 10⁻¹⁶ ≈ 1.57 × 10⁻⁸ ≈ 0.0000000157\n",
    "```\n",
    "\n",
    "这意味着价格变化小于这个量级时可能被\"淹没\"。\n",
    "\n",
    "- 算法稳定性分析：在设计数值算法时，必须考虑当前计算规模的精度限制。\n",
    "- 变量缩放策略：有时需要将问题缩放到\"单位量级\"附近进行计算，以最大化精度。"
   ]
  },
  {
   "cell_type": "markdown",
   "id": "069c4bce",
   "metadata": {},
   "source": [
    "---"
   ]
  },
  {
   "cell_type": "markdown",
   "id": "af2e5f41",
   "metadata": {},
   "source": [
    "### 不等间距网格\n",
    "\n",
    "**浮点数精度的根本性质：绝对误差随着数值增大而线性增大。**\n",
    "\n",
    "浮点数（在数轴上的分布不是均匀的，而是对数尺度的。）\n",
    "\n",
    "- 在`0`附近，数字非常密集，间隔很小（例如，小数的精度高）。\n",
    "- 随着数值变大，间隔逐渐变大（稀疏）（网格变粗糙）。\n",
    "\n",
    "这是因为浮点数使用科学计数法：$(-1)^s \\times m \\times 2^e$\n",
    "- $s$：符号位\n",
    "- $m$：尾数\n",
    "- $e$：指数，间隔由指数决定。\n",
    "\n",
    "当指数`e`增加时，相邻数字之间的差值（即`np.spacing`）会乘以`2`的幂次。<br>\n"
   ]
  },
  {
   "cell_type": "markdown",
   "id": "515533bf",
   "metadata": {},
   "source": [
    "#### 金融工程含义\n",
    "\n",
    "精度损失的风险分布不均匀\n",
    "- 在价格接近0的资产（如深度虚值期权）计算中，相对精度较高\n",
    "- 在大金额计算（如机构级交易）中，绝对误差可能显著放大\n",
    "```py\n",
    "# 不好的做法：直接处理极大数值\n",
    "large_value = 1e8  # 1亿美元\n",
    "result = large_value + 0.01  # 这个加法可能被\"淹没\"\n",
    "\n",
    "# 更好的做法：缩放处理\n",
    "scaled_value = 1.0  # 以百万为单位\n",
    "result = scaled_value + 0.01/1e6  # 在单位尺度下计算\n",
    "```"
   ]
  },
  {
   "cell_type": "markdown",
   "id": "82537571",
   "metadata": {},
   "source": [
    "---"
   ]
  },
  {
   "cell_type": "markdown",
   "id": "59704785",
   "metadata": {},
   "source": [
    "### 浮点数舍入：几何级数 | Float rounding: Geometric series\n",
    "\n",
    "几何级数 $$\\sum_{p=-10}^{10}10^p = (10^{10}-10^{-10})/9$$ 在数学上是精确的等式。这个级数包含从 $10^{-10}$ 到 $10^{10}$ 的`21`项。\n"
   ]
  },
  {
   "cell_type": "code",
   "execution_count": 12,
   "id": "9cd8c2f5",
   "metadata": {},
   "outputs": [
    {
     "name": "stdout",
     "output_type": "stream",
     "text": [
      "1111111111.1111112\n"
     ]
    }
   ],
   "source": [
    "print((10 ** 10 - 10 ** (-10)) / 9)"
   ]
  },
  {
   "cell_type": "markdown",
   "id": "ffaa02e2",
   "metadata": {},
   "source": [
    "1. 大数与小数的相减（相差`20`个数量级）\n",
    "2. 精度丢失\n",
    "    - 在64位浮点数中，当两个相差巨大的数相减时，较小数的有效数字会被舍入\n",
    "3. 二进制表示限制\n",
    "    - $10^{-10}$ 在二进制中是无限循环小数，无法精确表示"
   ]
  },
  {
   "cell_type": "markdown",
   "id": "c6725153",
   "metadata": {},
   "source": [
    "---"
   ]
  },
  {
   "cell_type": "markdown",
   "id": "df30aa4b",
   "metadata": {},
   "source": [
    "#### 高精度\n",
    "\n",
    "decimal模块的优势:\n",
    "- 任意精度计算\n",
    "- 十进制表示，避免二进制舍入误差\n",
    "- 精确处理极大和极小的数值\n",
    "\n",
    "> 但是，和 Numpy 不兼容。<br>\n",
    "> 计算速度较慢<br>\n",
    "> 需要手动管理精度设置"
   ]
  },
  {
   "cell_type": "code",
   "execution_count": 13,
   "id": "e0f48e6d",
   "metadata": {},
   "outputs": [],
   "source": [
    "from decimal import Decimal"
   ]
  },
  {
   "cell_type": "code",
   "execution_count": 14,
   "id": "e47934c2",
   "metadata": {},
   "outputs": [
    {
     "name": "stdout",
     "output_type": "stream",
     "text": [
      "1111111111.1111111111\n"
     ]
    }
   ],
   "source": [
    "a = Decimal(10)\n",
    "b = Decimal(-10)\n",
    "c = Decimal(9)\n",
    "print((a ** a - a ** b) / c)"
   ]
  },
  {
   "cell_type": "markdown",
   "id": "2e9e3843",
   "metadata": {},
   "source": [
    "---"
   ]
  },
  {
   "cell_type": "markdown",
   "id": "6c1181fa",
   "metadata": {},
   "source": [
    "#### 求和顺序的重要性\n",
    "\n",
    "$$\n",
    "\\Large\n",
    "\\text{从小到大求和产生更小舍入误差}\n",
    "$$\n",
    "\n",
    "> Summing from smaller to larger numbers generates less rounding error"
   ]
  },
  {
   "cell_type": "code",
   "execution_count": 15,
   "id": "c471fc06",
   "metadata": {},
   "outputs": [
    {
     "name": "stdout",
     "output_type": "stream",
     "text": [
      "11111111111.11111\n"
     ]
    }
   ],
   "source": [
    "total = 0.0\n",
    "for p in range(10, -11, -1):  # 从大到小\n",
    "    total += 10**p\n",
    "# 舍入误差累积，小数值被大数\"淹没\"\n",
    "print(total)"
   ]
  },
  {
   "cell_type": "code",
   "execution_count": 16,
   "id": "5594b3c9",
   "metadata": {},
   "outputs": [
    {
     "name": "stdout",
     "output_type": "stream",
     "text": [
      "11111111111.11111\n"
     ]
    }
   ],
   "source": [
    "total = 0.0\n",
    "for p in range(-10, 11):  # 从小到大\n",
    "    total += 10**p\n",
    "# 小数值先累加，减少舍入误差\n",
    "print(total)"
   ]
  },
  {
   "cell_type": "markdown",
   "id": "2da4cbb2",
   "metadata": {},
   "source": [
    "#### 浮点数使用建议\n",
    "\n",
    "避免直接比较浮点数。"
   ]
  },
  {
   "cell_type": "code",
   "execution_count": 17,
   "id": "75d11a75",
   "metadata": {},
   "outputs": [],
   "source": [
    "from math import isclose"
   ]
  },
  {
   "cell_type": "code",
   "execution_count": 18,
   "id": "14c53ab9",
   "metadata": {},
   "outputs": [
    {
     "data": {
      "text/plain": [
       "True"
      ]
     },
     "execution_count": 18,
     "metadata": {},
     "output_type": "execute_result"
    }
   ],
   "source": [
    "isclose(0.1 + 0.1 + 0.1, 0.3, rel_tol = 1e-9, abs_tol = 0.0)\n",
    "# rel_tol: 相对容差（默认1e-9）\n",
    "# abs_tol: 绝对容差\n"
   ]
  },
  {
   "cell_type": "markdown",
   "id": "65ae7d6f",
   "metadata": {},
   "source": [
    "---"
   ]
  },
  {
   "cell_type": "markdown",
   "id": "25ae733f",
   "metadata": {},
   "source": [
    "## 数值微分 | Numerical differentiation\n",
    "\n",
    "### 导数近似 | Approximation of derivatives\n",
    "\n",
    "Let $f:\\mathbb{R}\\to\\mathbb{R}$ be a continuous and differentiable real function, with continuous derivative $f^{(1)}$.\n",
    "\n",
    "By definition, the derivative of $f$ at the point $x\\in\\R$ is defined by\n",
    "$$\n",
    "f^{(1)}(x):=\\lim\\limits_{h\\to 0}\\frac{f(x + h) - f(x)}{h}\n",
    "$$\n",
    "\n",
    "The derivative $f^{(1)}$ might be known explicitly if $f$ has a simple analytical form.\n",
    "Nevertheless, most of the time the derivative $f^{(1)}$ is not known explicitly, and has to be approximated numerically.\n",
    "> 大多数情况下，我们无法获得导数的解析表达式，只能通过数值方法近似。\n",
    "\n",
    "One can obtain an approximation of $f^{(1)}$ by  considering \"small\" values for $h$ instead of letting it go to zero.\n",
    "\n",
    "**Question: How to choose $h$ to get a good approximation of $f^{(1)}(x)$ when working with floating-point arithmetic?**\n",
    "\n",
    "Suppose that $f$ can be differentiated $n + 1$ times.\n",
    "Let $f^{(n)}$ be the n-th derivative.\n",
    "The Taylor expansion of $f$ around $x$ reads\n",
    "$$\n",
    "f(x+h)=f(x)+hf^{(1)}(x)+\\frac{h^2}{2}f^{(2)}(x)+\\frac{h^3}{6}f^{(3)}(x)+\\ldots+\\frac{h^n}{n!}f^{(n)}(x)+\\frac{h^{n+1}}{(n+1)!}f^{(n+1)}(\\xi)\n",
    "$$\n",
    "where $\\xi\\in[x,x+h]$.\n",
    "We know that $\\xi$ exist but its exact value is not known.\n",
    "A Taylor series approximates a function with a degree of precision equal to the remainder term $\\frac{h^{n+1}}{(n+1)!}f^{(n+1)}(\\xi)$\n",
    "\n",
    "重新排列得到导数表达式：\n",
    "$$\n",
    "\\frac{f(x+h) - f(x)}{h} = f^{(1)}(x) + \\frac{h}{2}f^{(2)}(x) + \\frac{h^2}{6}f^{(3)}(x) + \\ldots\n",
    "$$\n",
    "误差分析\n",
    "- $\\color{red}\\text{截断误差}$：来自忽略的高阶项 $(h/2)f''(x) + (h²/6)f'''(x) + ...$\n",
    "- 当 $h$ 减小时：截断误差减小（因为高阶项含 $h$ 的幂次）\n"
   ]
  },
  {
   "cell_type": "markdown",
   "id": "1f2c2bfa",
   "metadata": {},
   "source": [
    "---"
   ]
  },
  {
   "cell_type": "markdown",
   "id": "fa44f467",
   "metadata": {},
   "source": [
    "\n",
    "### 前向差分 | Forward difference\n",
    "\n",
    "Consider a first-order Taylor expansion with exact remainder\n",
    "$$\n",
    "f(x+h)=f(x)+hf^{(1)}(x)+\\frac{h^2}{2}f^{(2)}(\\xi)\n",
    "$$\n",
    "with $\\xi\\in[x,x+h]$ from which we get\n",
    "$$\n",
    "\\color{yellow}\n",
    "f^{(1)}(x)=\\frac{f(x+h)-f(x)}{\\color{red}h}-\\frac{\\color{red}h}{2}f^{(2)}(\\xi)\n",
    "$$\n",
    "This expression for $f^{(1)}(x)$ is composed of two parts: the approximation of the derivative and the truncation error.\n",
    "This approximation is called forward-difference approximation.\n"
   ]
  },
  {
   "cell_type": "markdown",
   "id": "f348421b",
   "metadata": {},
   "source": [
    "- 需要计算：$f(x)$ 和 $f(x+h)$ 两个函数值\n",
    "- 误差：与 $\\color{red}h$ 成正比"
   ]
  },
  {
   "cell_type": "markdown",
   "id": "88996a39",
   "metadata": {},
   "source": [
    "---"
   ]
  },
  {
   "cell_type": "markdown",
   "id": "e353ed93",
   "metadata": {},
   "source": [
    "\n",
    "### 后向差分 | Backward difference\n",
    "\n",
    "Consider the alternative Taylor expansion\n",
    "$$\n",
    "f(x-h)=f(x)-hf^{(1)}(x)+\\frac{h^2}{2}f^{(2)}(\\xi)\n",
    "$$\n",
    "with $\\xi\\in[x-h,x]$ ($h$ was replaced by $-h$).\n",
    "We get the approximation\n",
    "$$\n",
    "\\color{yellow}\n",
    "f^{(1)}(x)=\\frac{f(x)-f(x-h)}{\\color{red}h}+\\frac{\\color{red}h}{2}f^{(2)}(\\xi)\n",
    "$$\n",
    "This is called the backward-difference approximation.\n"
   ]
  },
  {
   "cell_type": "markdown",
   "id": "9cecd33e",
   "metadata": {},
   "source": [
    "- 需要计算：$f(x)$ 和 $f(x-h)$ 两个函数值\n",
    "- 误差：与 $\\color{red}h$ 成正比"
   ]
  },
  {
   "cell_type": "markdown",
   "id": "d79faea5",
   "metadata": {},
   "source": [
    "---"
   ]
  },
  {
   "cell_type": "markdown",
   "id": "181ac978",
   "metadata": {},
   "source": [
    "\n",
    "### 中心差分 | Centered difference（最优选择）\n",
    "\n",
    "Consider the two Taylor expansions:\n",
    "$$\n",
    "f(x+h)=f(x)+hf^{(1)}(x)+\\frac{h^2}{2}f^{(2)}(x)+\\frac{h^3}{6}f^{(3)}(\\xi_+)\\quad\\mathrm{with~}\\xi_+\\in[x,x+h]\n",
    "$$\n",
    "$$\n",
    "f(x-h)=f(x)-hf^{(1)}(x)+\\frac{h^2}{2}f^{(2)}(x)-\\frac{h^3}{6}f^{(3)}(\\xi_-)\\quad\\mathrm{with}\\quad\\xi_-\\in[x-h,x]\n",
    "$$\n",
    "The difference between the two is equal to:\n",
    "$$\n",
    "f(x+h)-f(x-h)=2hf^{(1)}(x)+\\frac{h^3}{6}(f^{(3)}(\\xi_+)+f^{(3)}(\\xi_-))\n",
    "$$\n",
    "If $f^{(3)}$ is continuous, then there exist $\\xi\\in[\\xi_-,\\xi_+]$, such that:\n",
    "$$\n",
    "f^{(3)}(\\xi)=\\frac{f^{(3)}(\\xi_+)+f^{(3)}(\\xi_-)}{2}\n",
    "$$\n",
    "This gives:\n",
    "$$\n",
    "\\color{yellow}\n",
    "f^{(1)}(x)=\\frac{f(x+h)-f(x-h)}{\\color{red}2 h}-\\frac{\\color{red}h^2}{6}f^{(3)}(\\xi)\n",
    "$$\n",
    "This is called the centered-difference approximation of $f^{(1)}$.\n",
    "It is more precise than both the forward difference and backward difference, since the truncation error is of order $\\mathcal{O}(h^2)$\n"
   ]
  },
  {
   "cell_type": "markdown",
   "id": "11777e79",
   "metadata": {},
   "source": [
    "通过相减消去二阶误差项\n",
    "- 需要计算：$f(x+h)$ 和 $f(x-h)$ 两个函数值\n",
    "- 误差：与 $\\color{red}h^2$ 成正比"
   ]
  },
  {
   "cell_type": "markdown",
   "id": "a18a46ad",
   "metadata": {},
   "source": [
    "---"
   ]
  },
  {
   "cell_type": "code",
   "execution_count": 19,
   "id": "bfe55880",
   "metadata": {},
   "outputs": [],
   "source": [
    "import numpy as np\n",
    "import matplotlib.pyplot as plt"
   ]
  },
  {
   "cell_type": "code",
   "execution_count": 20,
   "id": "11bad573",
   "metadata": {},
   "outputs": [],
   "source": [
    "def f(x):\n",
    "    return np.sin(x)  # 真实导数 f'(x) = cos(x)\n",
    "\n",
    "def forward_diff(f, x, h):\n",
    "    return (f(x + h) - f(x)) / h\n",
    "\n",
    "def backward_diff(f, x, h):\n",
    "    return (f(x) - f(x - h)) / h\n",
    "\n",
    "def centered_diff(f, x, h):\n",
    "    return (f(x + h) - f(x - h)) / (2 * h)"
   ]
  },
  {
   "cell_type": "code",
   "execution_count": 21,
   "id": "0953efd6",
   "metadata": {},
   "outputs": [
    {
     "data": {
      "image/png": "[encoded data removed]",
      "text/plain": [
       "<Figure size 640x480 with 1 Axes>"
      ]
     },
     "metadata": {},
     "output_type": "display_data"
    }
   ],
   "source": [
    "# 测试点\n",
    "x0 = 1.0\n",
    "true_derivative = np.cos(x0)  # 真实导数值\n",
    "\n",
    "# 不同步长下的误差\n",
    "h_values = np.logspace(-15, -1, 100)\n",
    "errors_forward = []\n",
    "errors_backward = []\n",
    "errors_centered = []\n",
    "\n",
    "for h in h_values:\n",
    "    errors_forward.append(abs(forward_diff(f, x0, h) - true_derivative))\n",
    "    errors_backward.append(abs(backward_diff(f, x0, h) - true_derivative))\n",
    "    errors_centered.append(abs(centered_diff(f, x0, h) - true_derivative))\n",
    "\n",
    "# 绘图显示误差随h的变化\n",
    "plt.loglog(h_values, errors_forward, label='Forward ($O(h)$)')\n",
    "plt.loglog(h_values, errors_backward, label='Backward ($O(h)$)')\n",
    "plt.loglog(h_values, errors_centered, label='Centered ($O(h²)$)')\n",
    "plt.xlabel('Step size $h$')\n",
    "plt.ylabel('Absolute error')\n",
    "plt.grid(True)\n",
    "plt.legend()\n",
    "plt.show()"
   ]
  },
  {
   "cell_type": "markdown",
   "id": "62897af8",
   "metadata": {},
   "source": [
    "### 如何选择 h | How to choose $h$\n",
    "\n",
    "We want to choose $h$ as small as possible to reduce the **truncation error.**\n",
    "However, we also need to consider the **rounding error.**\n",
    "\n",
    "If $h$ is too small, we might get: `float(x + h) == float(x)`\n",
    "\n",
    "If the function $f$ varies slowly: `float(f(x + h)) == float(f(x))`\n"
   ]
  },
  {
   "cell_type": "markdown",
   "id": "f1cb23e7",
   "metadata": {},
   "source": [
    "---"
   ]
  },
  {
   "cell_type": "markdown",
   "id": "a6651f58",
   "metadata": {},
   "source": [
    "Let $f_h^{(1)}(x)$ be the approximation of $f^{(1)}(x)$ using the mesh size $h$:\n",
    "\n",
    "$$f_h^{(1)}(x)=\\frac{f(x+h)-f(x)}{h}$$\n",
    "\n",
    "If we suppose that $f^{(2)}$ is bounded for all $x$ in the domain of application:\n",
    "\n",
    "$$|f^{(2)}(x)|\\leq M$$\n",
    "\n",
    "then we get the following bound for the truncation error $-\\frac{\\mathbf{h}}{2}\\mathbf{f}^{(2)}(\\xi)$：\n",
    "\n",
    "$$|f_h^{(1)}(x)-f^{(1)}(x)|\\leq\\frac{h}{2}M$$\n",
    "\n",
    "> $f_h$ 是一个近似。"
   ]
  },
  {
   "cell_type": "markdown",
   "id": "5b842e94",
   "metadata": {},
   "source": [
    "---"
   ]
  },
  {
   "cell_type": "markdown",
   "id": "bd710e78",
   "metadata": {},
   "source": [
    "The truncation error bound $\\frac{hM}{2}$ suggests that we can reach any arbitrary precision by choosing $h$ sufficiently small.\n",
    "However, in floating-point arithmetic it is not possible to evaluate $f_h^{(1)}(x)$ exactly, due to **float rounding errors.**\n",
    "\n",
    "Suppose that the rounding error for evaluating $f(x)$ has the following bound:\n",
    "> 假设计算 $f(x)$ 的舍入误差有以下界限\n",
    "\n",
    "$$|\\mathrm{float}(f(x))-f(x)|\\leq\\varepsilon$$\n",
    "\n",
    "Then the rounding error for a **forward-difference** approximation is bounded by:\n",
    "> 那么**前向差分**近似的舍入误差界限为：\n",
    "\n",
    "$$\\left|\\mathrm{float}(f_h^{(1)}(x))-f_h^{(1)}(x)\\right|=\\left|\\frac{\\mathrm{float}\\left(f(x+h)\\right)-f(x+h)}{h}-\\frac{\\mathrm{float}(f(x))-f(x)}{h}\\right|\\leq\\frac{2\\varepsilon}{h}$$\n",
    "\n",
    "> $|a - b|\\le |a| + |b|$\n",
    "\n",
    "Combining both error bounds, we obtain:\n",
    "\n",
    "$$\\left|\\mathrm{float}\\left(f_h^{(1)}(x)\\right)-f^{(1)}(x)\\right|\\leq\\frac{2\\varepsilon}{h}+\\frac{M}{2}h$$\n",
    "\n",
    "> $|\\text{float}(f_h^{(1)}(x)) - f_h^{(1)}(x) + f_h^{(1)}(x) - f^{(1)}(x)|$<br>\n",
    "> $|a + b| \\le |a| + |b|$\n",
    "\n",
    "One needs to find a compromise between reducing the **truncation error** and reducing the **rounding error**\n",
    "> 我们需要在减小截断误差和减小舍入误差之间找到折衷方案。\n",
    "\n",
    "Note that $h$ can be represented without rounding error if we choose it as a power of 2.\n",
    "> 如果我们将 $h$ 选择为 2 的幂，则它可以无舍入误差地表示。\n"
   ]
  },
  {
   "cell_type": "markdown",
   "id": "409a7cd6",
   "metadata": {},
   "source": [
    "---"
   ]
  },
  {
   "cell_type": "markdown",
   "id": "efc601b7",
   "metadata": {},
   "source": [
    "We can minimize the bound（前向差分） $\\color{yellow}b(h)=\\frac{2\\varepsilon}{h}+\\frac{hM}{2}$（总误差） as a function of $h$:\n",
    "> 理论最优 $h$\n",
    "\n",
    "$$b^{(1)}(h)=-\\frac{2\\varepsilon}{h^2}+\\frac{M}{2}=0\\quad\\Leftrightarrow\\quad \\color{red}\\mathbf{h}=\\mathbf{2}\\sqrt{\\frac{\\varepsilon}{M}}$$\n",
    "\n",
    "If we assume that $M$ is of order 1 and that $\\varepsilon$ is the 64-bit machine precision $\\varepsilon_1=2.22{\\times}10^{-16}=2^{-52}$, we get:\n",
    "\n",
    "$$\\mathbf{h=2.98\\times10^{-8}=2^{-25}}$$"
   ]
  },
  {
   "cell_type": "markdown",
   "id": "e3f8163a",
   "metadata": {},
   "source": [
    "---"
   ]
  },
  {
   "cell_type": "markdown",
   "id": "63df7566",
   "metadata": {},
   "source": [
    "For **centered difference**（中心差分） approximation, if we assume that $|f^{(3)}(x)|\\leq M$ for all $x$ in the domain, the total error bound is $\\color{yellow}b(h)=\\frac{\\varepsilon}{h}+\\frac{h^2M}{6}$（总误差）\n",
    "> 理论最优 $h$\n",
    "\n",
    "$$b^{(1)}(h)=-\\frac{\\varepsilon}{h^2}+\\frac{Mh}{3}=0\\quad\\Leftrightarrow\\quad \\color{red}\\mathbf{h}=\\left(\\frac{3\\varepsilon}{\\mathbf{M}}\\right)^{1/3}$$\n",
    "\n",
    "If $M$ is of order 1 and $\\varepsilon = \\varepsilon_1$, we get:\n",
    "\n",
    "$$\\mathbf{h\\approx8.7\\times10^{-6}\\approx1.14\\times2^{-17}}$$\n"
   ]
  },
  {
   "cell_type": "markdown",
   "id": "12307337",
   "metadata": {},
   "source": [
    "---"
   ]
  },
  {
   "cell_type": "markdown",
   "id": "3b038124",
   "metadata": {},
   "source": [
    "#### 金融工程实际意义\n",
    "\n",
    "为什么中心差分更优？\n",
    "\n",
    "- 允许使用更大的步长（$10^{-6}$ vs $10^{-8}$）\n",
    "- 对舍入误差更不敏感\n",
    "- 在实际计算中更稳定"
   ]
  },
  {
   "cell_type": "markdown",
   "id": "a0007c5a",
   "metadata": {},
   "source": [
    "---"
   ]
  },
  {
   "cell_type": "markdown",
   "id": "85995f38",
   "metadata": {},
   "source": [
    "#### 例子 | Example\n",
    "\n",
    "To illustrate the influence of $h$ on the quanlity of the numerical approximation of a derivative function,\n",
    "$$\n",
    "f(x)=\\cos(x^x)-\\sin(e^x)\n",
    "$$\n",
    "Its derivative can be computed explicitly:\n",
    "$$\n",
    "f^{(1)}(x)=-\\sin(x^x)x^x(\\log(x)+1)-\\cos(e^x)e^x\n",
    "$$\n"
   ]
  },
  {
   "cell_type": "markdown",
   "id": "b61466b0",
   "metadata": {},
   "source": [
    "Let $f_{\\color{red}h}^{(1)}(x)$ be the finite-difference approximation of $f^{(1)}(x)$.<br>\n",
    "To measure the quality of the approximation, we can compute the relative error between the two:\n",
    "$$\n",
    "\\left|\\frac{f_{\\color{red}h}^{(1)}(x)- f^{(1)}(x)}{f^{(1)}(x)}\\right|\n",
    "$$"
   ]
  },
  {
   "cell_type": "markdown",
   "id": "edbd089e",
   "metadata": {},
   "source": [
    "$\\color{red}\\text{In general, the exact derivative } f^{(1)}(x) \\text{ is unknown}$"
   ]
  },
  {
   "cell_type": "markdown",
   "id": "431690cf",
   "metadata": {},
   "source": [
    "We investigate the accuracy of the forward-difference and centered difference approximations at the points `x = 1.77` and `x = 2.31`"
   ]
  },
  {
   "cell_type": "code",
   "execution_count": null,
   "id": "1af8de51",
   "metadata": {},
   "outputs": [
    {
     "data": {
      "image/png": "[encoded data removed]",
      "text/plain": [
       "<Figure size 640x480 with 1 Axes>"
      ]
     },
     "metadata": {},
     "output_type": "display_data"
    }
   ],
   "source": [
    "x = 1.77\n",
    "h = 2.0**np.arange(-52,1,1)\n",
    "\n",
    "def f(x):\n",
    "    return np.cos(x**x)-np.sin(np.exp(x))\n",
    "\n",
    "def f1(x):\n",
    "    return -np.sin(x**x)* x**x * (np.log(x)+1) - np.cos(np.exp(x)) * np.exp(x)\n",
    "\n",
    "(f_x, f1_x, f_x_plus_h, f_x_minus_h) = (f(x), f1(x), f(x+h), f(x-h))\n",
    "f1_forward_diff = (f_x_plus_h - f_x) / h                # forward-difference approximation\n",
    "f1_centered_diff = (f_x_plus_h - f_x_minus_h) / (2*h)   # centered-difference approximation\n",
    "\n",
    "fig, ax = plt.subplots(1)\n",
    "ax.loglog(h,np.abs((f1_forward_diff-f1_x)/f1_x), label='forward difference', linewidth=3)\n",
    "ax.loglog(h,np.abs((f1_centered_diff-f1_x)/f1_x), label='centered difference', linewidth=3)\n",
    "ax.set_xticks(10.0**np.arange(-16,1,2))\n",
    "ax.set_yticks(10.0**np.arange(-10,1,2))\n",
    "ax.set_ylim([10**(-12),100.0])\n",
    "ax.spines['top'].set_visible(False)\n",
    "ax.spines['right'].set_visible(False)\n",
    "ax.set_title('Relative error between $f^{(1)}('+str(x)+')$ and its \\nfinite difference approximations as a function of $h$')\n",
    "ax.legend(loc='upper center')   \n",
    "fig.tight_layout(pad=0)\n",
    "plt.subplots_adjust()\n",
    "plt.show()\n"
   ]
  },
  {
   "cell_type": "markdown",
   "id": "692d9281",
   "metadata": {},
   "source": [
    "##### 观察\n",
    "\n",
    "- There is an optimal $h^*$ which best balances the truncation error and the rounding error.\n",
    "  - If $h > h^*$, the truncation error dominates\n",
    "  - If $h < h^*$, the rounding error dominates\n",
    "  - The centered difference approximation is better than the forward and backward difference approximation due to its lower truncation error\n",
    "  - The optimal $h^*$ is lower for forward/backward difference than for centered difference because of their greater truncation error\n"
   ]
  },
  {
   "cell_type": "markdown",
   "id": "93956c69",
   "metadata": {},
   "source": [
    "---"
   ]
  },
  {
   "cell_type": "markdown",
   "id": "9a852075",
   "metadata": {},
   "source": [
    "## 测量逼近误差 | Measuring approximation errors\n",
    "\n",
    "How to measure the error between a value $x$ and an approximation $\\hat{x}$?\n",
    "\n",
    "### 绝对误差 | Absolute Error\n",
    "\n",
    "$$\\|x - \\hat{x}\\|$$\n",
    "\n",
    "- If $x = 2$ and $\\hat{x} = 3$,  then the absolute error is $1$.\n",
    "- If $x = 10^9$ and $\\hat{x} = 10^9 + 1$,  then the absolute error is $1$.\n",
    "\n",
    "However, the error can be deemed \"smaller\" than in the previous example.\n",
    "\n",
    "### 相对误差 | Relative error\n",
    "\n",
    "$$\\frac{\\|x - \\hat{x}\\|}{\\|x\\|}$$\n",
    "\n",
    "- If $x = 2$ and $\\hat{x} = 3$, the relative error is $0.5$.\n",
    "- If $x = 10^9$ and $\\hat{x} = 10^9 + 1$, the relative error is $10^{-9}$.\n",
    "\n",
    "> Note that the relative error is only defined if $x\\ne 0$\n",
    "\n",
    "### 结合使用\n",
    "\n",
    "$$\\frac{\\|x - \\hat{x}\\|}{\\|x\\| + 1}$$\n",
    "\n",
    "It avoids the problems of the relative error when $x$ is near zero\n",
    "- It behaves like the relative error when $\\|x\\| \\gg 1$\n",
    "- It behaves like the absolute error when $\\|x\\| \\ll 1$\n",
    "\n",
    "\n"
   ]
  },
  {
   "cell_type": "markdown",
   "id": "b33f8810",
   "metadata": {},
   "source": [
    "---"
   ]
  },
  {
   "cell_type": "markdown",
   "id": "2c00c880",
   "metadata": {},
   "source": [
    "## 数值不稳定与病态问题 | Numerical instability and ill-conditioning\n",
    "\n",
    "If the quality of a numerical solution is not acceptable, it is important to distinguish between the following two situations:\n",
    "\n",
    "- Numerical instability (数值不稳定性): Errors are amplified by the algorithm\n",
    "  - 误差被算法放大\n",
    "-  Ill-conditioned problem (病态问题): Small perturbations of the data generate large changes in the solution\n",
    "   -  数据的微小扰动会导致解的剧烈变化\n",
    "\n",
    "\n",
    "\n",
    "\n",
    "\n",
    "\n",
    "\n",
    "\n",
    "\n"
   ]
  },
  {
   "cell_type": "markdown",
   "id": "b92cc376",
   "metadata": {},
   "source": [
    "There is a loss of significant digits when subtracting two large numbers.\n",
    "> $\\color{yellow}\\text{两个相近的大数相减导致有效数字丢失}$\n",
    "\n",
    "The direct algorithm amplifies the rounding error: it is a numerically unstable algorithm.\n",
    "> 直接算法放大了舍入误差，成为数值不稳定算法"
   ]
  },
  {
   "cell_type": "markdown",
   "id": "5856b9dc",
   "metadata": {},
   "source": [
    "### 条件数 | Condition number\n",
    "\n",
    "在数值分析中，用于量化一个问题本身（而非解决该问题的算法）对输入数据中微小扰动的敏感度。\n",
    "\n",
    "- 一个良态（well-conditioned）的问题：输入数据的微小变化只会引起解的微小变化。\n",
    "- 一个病态（ill-conditioned）的问题：输入数据的微小变化会导致解的剧烈变化。"
   ]
  },
  {
   "cell_type": "markdown",
   "id": "e39417cc",
   "metadata": {},
   "source": [
    "---"
   ]
  },
  {
   "cell_type": "markdown",
   "id": "d7e0b945",
   "metadata": {},
   "source": [
    "#### 第一部分：一般函数的条件数 | Condition Number of a General Function\n",
    "\n",
    "对于一个将n维向量映射到n维向量的函数 $f:\\mathbb{R}^n\\to\\mathbb{R}^n$，我们想知道在输入点 $x$ 附近，输入的相对误差会被放大多少倍成为输出的相对误差。\n",
    "\n",
    "##### 1. 基本定义\n",
    "\n",
    "其相对条件数（relative condition number）定义为：\n",
    "$$\n",
    "\\mathrm{cond}(f,x)=\\lim_{\\varepsilon\\to0}\\sup_{\\|\\Delta x\\|\\leq\\varepsilon\\|x\\|}\\frac{\\|f(x+\\Delta x)-f(x)\\|}{\\varepsilon\\|f(x)\\|}\n",
    "$$\n",
    "- 分母 $\\varepsilon \\|x\\|$ - 衡量了输入扰动 $\\Delta x$ 的“大小”（相对于原始输入 $x$）\n",
    "- 分子 $\\|f(x+\\Delta x)-f(x)\\|$ - 衡量了由输入扰动引起的输出变化。\n",
    "- 这个比值描述了：输出的相对变化 与 输入的相对变化 的 比率。\n",
    "- $\\sup$ 和 $\\lim$ 表示我们考虑的是在 无穷小 扰动下的 最坏情况 放大率。\n",
    "\n",
    "##### 2. 可微函数的简化形式 | The Practical Formula for Differentiable Functions\n",
    "\n",
    "如果函数 $f$ 在 $x$ 处是可微的，这个抽象的定义可以简化为一个更实用的公式：\n",
    "$$\n",
    "\\mathrm{cond}(f,x)=\\frac{\\|x\\|\\|J(x)\\|}{\\|f(x)\\|}\n",
    "$$\n",
    "- $J(x)$ 是 $f$ 在 $x$ 处的雅可比矩阵（包含所有一阶偏导数）。矩阵范数 $\\|J(x)\\|$ 衡量了这个线性变换的最大“拉伸”能力。\n",
    "- $\\color{yellow}\\text{在可微的情况下，条件数由函数在该点的导数（或雅可比矩阵）主导。}$\n",
    "    > For a differentiable function, the condition number is governed by its derivative (Jacobian) at that point.\n",
    "- 导数越大，意味着函数在该点越“陡峭”，输入的小扰动就会被放大得越厉害，条件数也就越大。\n",
    "    > A large derivative means the function is \"steep,\" so small input changes are amplified into large output changes, leading to a large condition number.\n",
    "\n",
    "##### 3. 标量函数的特例 | The Special Case of Scalar Functions\n",
    "\n",
    "当 $f$ 是标量函数（$n = 1$）时， 雅可比矩阵退化为导数 $f'(x)$，公式进一步简化为：\n",
    "$$\n",
    "\\mathrm{cond}(f,x)=\\left|\\frac{xf^{\\prime}(x)}{f(x)}\\right|\n",
    "$$\n",
    "\n",
    "例子：\n",
    "\n",
    "- $f(x)=e^x$：$\\quad\\mathrm{cond}(\\exp,x)=|x\\cdot e^x/e^x|=|x|$。\n",
    "  - 当 $|x|$ 很大时，问题呈病态。\n",
    "- $f(x)=\\log(x)$：$\\quad\\mathrm{cond}(\\log,x)=|x\\cdot(1/x)/\\log(x)|=1/|\\log(x)|$。\n",
    "  - 当 $x$ 接近 $1$ 时，分母 $|\\log(x)|$ 很小，条件数很大，问题病态。这解释了为什么在 $x = 1$ 附近计算对数需要特别小心。\n"
   ]
  },
  {
   "cell_type": "markdown",
   "id": "6c6be9a0",
   "metadata": {},
   "source": [
    "---"
   ]
  },
  {
   "cell_type": "markdown",
   "id": "7052c085",
   "metadata": {},
   "source": [
    "#### 第二部分：矩阵的条件数与线性系统 | The Condition Number of a Matrix and Linear Systems\n",
    "\n",
    "##### 1. 矩阵条件数的定义 | Definition of the Matrix Condition Number\n",
    "\n",
    "源于对线性系统扰动分析的结果。\n",
    "> It is derived from the perturbation analysis of the linear system.\n",
    "\n",
    "$$\n",
    "\\kappa(A)=\\|A\\|\\|A^{-1}\\|\n",
    "$$\n",
    "\n",
    "考虑扰动后的系统 $(A+\\Delta A)(x+\\Delta x)=b$，可以证明解的相对误差满足：\n",
    "$$\n",
    "\\frac{\\|\\Delta x\\|}{\\|x\\|}\\lesssim\\kappa(A)\\left(\\frac{\\|\\Delta A\\|}{\\|A\\|}\\right)\n",
    "$$\n",
    "\n",
    "矩阵的条件数 $\\kappa(A)$ 直接放大了输入数据（矩阵 $A$ 中的相对误差，使其成为解 $x$ 中的相对误差。\n",
    "\n",
    "\n",
    "##### 2. 几何解释：拉伸与压缩 | The Geometric Interpretation: Stretching and Shrinking\n",
    "\n",
    "矩阵的范数 $\\|A\\|$：\n",
    "$$\n",
    "\\|A\\|=\\max_{x\\neq0}\\frac{\\|Ax\\|}{\\|x\\|}\n",
    "$$\n",
    "衡量了矩阵 $A$ 能将一个向量“拉伸”的最大倍数。\n",
    "> It measures the maximum factor by which $A$ can \"stretch\" a vector.\n",
    "\n",
    "类似地，我们可以找到矩阵 $A$ 能将一个向量“压缩”的最小倍数：\n",
    "$$\n",
    "\\min_{x\\ne 0}\\frac{\\|Ax\\|}{\\|x\\|}=\\min_y\\frac{\\|y\\|}{\\|A^{-1}y\\|}=\\frac{1}{\\max_y\\frac{\\|A^{-1}y\\|}{\\|y\\|}}=\\frac{1}{\\|A^{-1}\\|}\n",
    "$$\n",
    "\n",
    "条件数（The condition number） $\\kappa(A)$ 可以解释为：\n",
    "$$\n",
    "\\kappa(A)=\\frac{\\|A\\|}{\\min\\frac{\\|Ax\\|}{\\|x\\|}}=\\frac{\\text{矩阵 }A\\text{ 的最大拉伸倍数}}{\\text{矩阵 }A\\text{ 的最小拉伸倍数}}\n",
    "$$\n",
    "- 一个高条件数的矩阵，意味着它在某些方向上拉伸得很厉害，在另一些方向上却压缩得很厉害，就像一个又长又薄的椭圆。\n",
    "> A high condition number means the matrix acts like a long, thin ellipse: it stretches vectors immensely in some directions and shrinks them drastically in others.\n",
    "\n",
    "##### 3. 与奇异值的关系 | The Link to Singular Values\n",
    "\n",
    "矩阵 $A$ 的奇异值 $\\sigma_i$ 直接代表了它在各个主轴方向上的拉伸因子。\n",
    "> The singular value decomposition (SVD) provides the clearest picture. The singular values $\\sigma_i$ of $A$ are the stretching factors along its principal axes.\n",
    "\n",
    "- 最大奇异值 $\\sigma_{\\text{max}}$ 就是 $\\|A\\|$ 。\n",
    "- 最小奇异值 $\\sigma_{\\text{min}}$ 就是 $\\frac{1}{\\|A^{-1}\\|}$ 。\n",
    "\n",
    "因此，矩阵的条件数等于：\n",
    "$$\n",
    "\\kappa(A)=\\frac{\\sigma_{\\max}(A)}{\\sigma_{\\min}(A)}\n",
    "$$\n",
    "\n",
    "- 如果 $\\sigma_{\\min}$ 非常小，即使 $A$ 在理论上是可逆的，它在对应方向上几乎是一个“扁平”的映射。任何在这个方向上的微小扰动（来自 $A$ 或 $b$ 都会被极大地放大，导致解 $x$ 发生巨大变化。\n",
    "- $\\color{yellow}\\text{一个近乎奇异的矩阵，其条件数必然非常大。}$\n",
    "\n",
    "\n",
    "\n",
    "\n",
    "\n",
    "\n",
    "\n",
    "\n",
    "$$"
   ]
  },
  {
   "cell_type": "code",
   "execution_count": 23,
   "id": "ad3ad44e",
   "metadata": {},
   "outputs": [
    {
     "name": "stdout",
     "output_type": "stream",
     "text": [
      "2193218.99965077\n"
     ]
    }
   ],
   "source": [
    "A = np.array([[.780, .563], [.913, .659]])\n",
    "print(np.linalg.cond(A))"
   ]
  },
  {
   "cell_type": "code",
   "execution_count": 24,
   "id": "594f8617",
   "metadata": {},
   "outputs": [
    {
     "name": "stdout",
     "output_type": "stream",
     "text": [
      "2193218.99965077\n"
     ]
    }
   ],
   "source": [
    "(U, S, V) = np.linalg.svd(A)\n",
    "print(S[0] / S[1])"
   ]
  },
  {
   "cell_type": "markdown",
   "id": "81559ec0",
   "metadata": {},
   "source": [
    "#### 总结与关联 | Summary and Critical Distinctions\n",
    "\n",
    "无论是函数还是矩阵，条件数都是一个“放大因子”，它衡量了输入误差对输出结果的影响程度。\n",
    "> Whether for a function or a matrix, the condition number is an \"amplification factor\" for relative errors from input to output.\n",
    "\n",
    "- $\\color{yellow}\\text{条件数}$ 描述的是 $\\color{yellow}\\text{问题本身}$ 的固有属性（如矩阵 $A$ 的特性）。\n",
    "- $\\color{yellow}\\text{数值稳定性}$ 描述的是算法在处理该问题时，是否会放大舍入误差。\n",
    "- $\\color{yellow}\\text{一个病态的问题（高条件数），即使用一个稳定的算法，也可能得到不准确的结果。}$ 因为问题本身就对误差极度敏感。\n",
    "    > An ill-conditioned problem (high condition number) will yield an inaccurate solution, even with a perfectly stable algorithm.\n",
    "\n",
    "实践意义：<br>\n",
    "在求解 $Ax=b$ 时，如果计算出矩阵 $A$ 的条件数 $\\kappa(A)$ 非常大，我们就应该警惕：<br>\n",
    "即使得到一个解，这个解也可能因为舍入误差而不可靠。在这种情况下，可能需要寻求正则化（regularization）等专门技术来处理病态问题，而不是指望一个更好的算法。\n",
    "\n",
    "A large condition number can cause additional float-rounding errors when solving the problem.\n",
    "> As a rule of thumb, if $\\kappa(A) = 10^p$, then $p$ digits are lost in floating-point arithmetic.\n"
   ]
  },
  {
   "cell_type": "markdown",
   "id": "84652fdc",
   "metadata": {},
   "source": [
    "---"
   ]
  },
  {
   "cell_type": "markdown",
   "id": "297fb2a0",
   "metadata": {},
   "source": [
    "## 算法复杂度 | Complexity of algorithms\n",
    "\n",
    "The order of the computational complexity of algorithms: big O notation. $\\mathcal{O}(n)$\n",
    "\n",
    "A funtion $f(n)$ is $\\mathcal{O}(g(n))$ if there exist constant $c_0$ and $n_0$ such that,\n",
    "$$\n",
    "|f(n)|{\\leq}c_0|g(n)|\\quad\\mathrm{for~all}\\quad n{\\geq}n_0\n",
    "$$\n",
    "\n",
    "---\n",
    "\n",
    "$c > 0$ is some arbitrary constant.\n",
    "\n",
    "<img src=\"./image/complexity.png\" alt=\"image.png\" style=\"width: 700px; height: auto; display: block; margin: 0 auto;\"><br>\n",
    "\n",
    "- Quicksort - $\\mathcal{O}(n\\log(n))$\n",
    "- Bubblesort - $\\mathcal{O}(n^2)$\n"
   ]
  }
 ],
 "metadata": {
  "kernelspec": {
   "display_name": "test2",
   "language": "python",
   "name": "python3"
  },
  "language_info": {
   "codemirror_mode": {
    "name": "ipython",
    "version": 3
   },
   "file_extension": ".py",
   "mimetype": "text/x-python",
   "name": "python",
   "nbconvert_exporter": "python",
   "pygments_lexer": "ipython3",
   "version": "3.12.11"
  }
 },
 "nbformat": 4,
 "nbformat_minor": 5
}
