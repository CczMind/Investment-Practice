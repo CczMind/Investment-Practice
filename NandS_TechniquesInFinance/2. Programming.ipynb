{
 "cells": [
  {
   "cell_type": "markdown",
   "id": "f12941db",
   "metadata": {},
   "source": [
    "## Structured Programming\n",
    "\n",
    "The paradigm only allows these three structures:\n",
    "- Sequence\n",
    "  - A simple, arbitrary long sequence of basic instructions, such as, assignments, mutations, reading, writing, etc.\n",
    "- Repetition\n",
    "  - A repetition of a block of instructions, also called Loop.\n",
    "- Choice\n"
   ]
  },
  {
   "cell_type": "markdown",
   "id": "0854ecfb",
   "metadata": {},
   "source": [
    "---"
   ]
  },
  {
   "cell_type": "markdown",
   "id": "7b7d845e",
   "metadata": {},
   "source": [
    "## Hierarchical structure | 层次结构\n",
    "\n",
    "<img src=\"./image/structure.png\" alt=\"image.png\" style=\"width: 600px; height: auto; display: block; margin: 0 auto;\"><br>\n",
    "\n",
    "- Any computer program is composed of a succession of these three structures, executed one after the other.\n",
    "- These structured programs can be read hierarchically from top to bottom, making them easier to understand and therefore less error prone.\n",
    "\n",
    "### Object-oriented Programming - 面向对象编程\n",
    "\n",
    "Data and methods to manipulate them are kept as one unit called a object.\n",
    "\n",
    "### Functional Programming - 函数设计编程\n",
    "\n",
    "Programs are constructed by applying and composing functions.\n"
   ]
  },
  {
   "cell_type": "markdown",
   "id": "94a02c0a",
   "metadata": {},
   "source": [
    "---"
   ]
  },
  {
   "cell_type": "markdown",
   "id": "eb769aaf",
   "metadata": {},
   "source": [
    "## Code Examples"
   ]
  },
  {
   "cell_type": "code",
   "execution_count": 37,
   "id": "5fbc20f8",
   "metadata": {},
   "outputs": [],
   "source": [
    "import numpy as np"
   ]
  },
  {
   "cell_type": "code",
   "execution_count": 38,
   "id": "45b62efb",
   "metadata": {},
   "outputs": [
    {
     "data": {
      "text/plain": [
       "array([5, 8, 9, 6, 6, 3, 6, 4, 2, 9], dtype=int32)"
      ]
     },
     "execution_count": 38,
     "metadata": {},
     "output_type": "execute_result"
    }
   ],
   "source": [
    "np.random.randint(low = 0, high = 10, size = 10)"
   ]
  },
  {
   "cell_type": "markdown",
   "id": "211a4073",
   "metadata": {},
   "source": [
    "Machine Precision (Epsilon $\\epsilon$) | 机器精度\n",
    "\n",
    "- 浮点数表示中的最小可表示误差\n",
    "- 具体定义为 `1` 和大于 `1` 的最小浮点数之间的差值。\n",
    "> The difference between 1 and the smallest floating-point number greater than 1.\n",
    "\n",
    "双精度浮点数（double-precision number）使用 `64` 位表示：`1` 位符号位、`11` 位指数位和 `52` 位有效尾数位（但实际上尾数有 `53` 位精度，包括隐含的 leading 1）。\n",
    "- 1 bit for the sign.\n",
    "- 11 bits for the exponent.\n",
    "- 52 bits for the significand.\n",
    "\n",
    "机器 $\\epsilon$ 定义为 `2^(-52)`，因为尾数的精度是 `53` 位（包括隐含位），所以最小的可表示相对误差是 `2^(-52)`。\n",
    "\n",
    "当 e 小于机器 epsilon 时，1 + e 会被舍入到 1（因为尾数没有足够的精度表示这么小的差值）。"
   ]
  },
  {
   "cell_type": "code",
   "execution_count": 39,
   "id": "af9b59fb",
   "metadata": {},
   "outputs": [
    {
     "name": "stdout",
     "output_type": "stream",
     "text": [
      "2.220446049250313e-16\n"
     ]
    }
   ],
   "source": [
    "e = 1\n",
    "while 1 + e > 1:\n",
    "    e = e / 2\n",
    "e = 2 * e\n",
    "print(e)"
   ]
  },
  {
   "cell_type": "markdown",
   "id": "9af38794",
   "metadata": {},
   "source": [
    "### Dice Roll Simulation"
   ]
  },
  {
   "cell_type": "code",
   "execution_count": 40,
   "id": "55877109",
   "metadata": {},
   "outputs": [],
   "source": [
    "import seaborn as sns"
   ]
  },
  {
   "cell_type": "code",
   "execution_count": 41,
   "id": "db32cc49",
   "metadata": {},
   "outputs": [
    {
     "data": {
      "image/png": "[encoded data removed]",
      "text/plain": [
       "<Figure size 640x480 with 1 Axes>"
      ]
     },
     "metadata": {},
     "output_type": "display_data"
    }
   ],
   "source": [
    "def Dice_Roll_Simulation():\n",
    "    n = 10000\n",
    "    x = np.zeros(n)\n",
    "    for i in np.arange(n):\n",
    "        u = np.random.rand()    # Random number in [0, 1]\n",
    "        if (u < 1 / 6):\n",
    "            x[i] = 1\n",
    "        elif (u < 2 / 6):\n",
    "            x[i] = 2\n",
    "        elif (u < 3 / 6):\n",
    "            x[i] = 3\n",
    "        elif (u < 4 / 6):\n",
    "            x[i] = 4\n",
    "        elif (u < 5 / 6):\n",
    "            x[i] = 5\n",
    "        else:\n",
    "            x[i] = 6\n",
    "    sns.histplot(x, stat = \"probability\", discrete = True)\n",
    "\n",
    "Dice_Roll_Simulation()"
   ]
  },
  {
   "cell_type": "markdown",
   "id": "e752753e",
   "metadata": {},
   "source": [
    "## Introduction to Python\n",
    "\n",
    "Python programming language https://docs.python.org/3/tutorial/\n",
    "\n",
    "NumPy\n",
    "- adds supports for vectors, matrices and multidimensional arrays. https://numpy.org/doc/stable/user/absolute_beginners.html"
   ]
  },
  {
   "cell_type": "code",
   "execution_count": 42,
   "id": "4cd36580",
   "metadata": {},
   "outputs": [],
   "source": [
    "import numpy as np"
   ]
  },
  {
   "cell_type": "code",
   "execution_count": 43,
   "id": "d7faaa62",
   "metadata": {},
   "outputs": [],
   "source": [
    "A = np.array([\n",
    "    [4, 5],\n",
    "    [7, 3]\n",
    "])\n",
    "B = np.array([\n",
    "    [2, 3],\n",
    "    [4, 1]\n",
    "])"
   ]
  },
  {
   "cell_type": "code",
   "execution_count": 44,
   "id": "a315bd54",
   "metadata": {},
   "outputs": [
    {
     "data": {
      "text/plain": [
       "array([[28, 17],\n",
       "       [26, 24]])"
      ]
     },
     "execution_count": 44,
     "metadata": {},
     "output_type": "execute_result"
    }
   ],
   "source": [
    "A.dot(B)    # 矩阵乘法"
   ]
  },
  {
   "cell_type": "code",
   "execution_count": 45,
   "id": "586328c9",
   "metadata": {},
   "outputs": [
    {
     "data": {
      "text/plain": [
       "array([[51, 35],\n",
       "       [49, 44]])"
      ]
     },
     "execution_count": 45,
     "metadata": {},
     "output_type": "execute_result"
    }
   ],
   "source": [
    "np.linalg.matrix_power(A, 2)    # 矩阵数乘"
   ]
  },
  {
   "cell_type": "code",
   "execution_count": 46,
   "id": "b147cdad",
   "metadata": {},
   "outputs": [
    {
     "name": "stdout",
     "output_type": "stream",
     "text": [
      "[9 8 0 4 7 6 1 5 2 3]\n",
      "[0 1 2 3 4 5 6 7 8 9]\n"
     ]
    }
   ],
   "source": [
    "x = np.random.permutation(10)\n",
    "print(x)\n",
    "print(np.sort(x))"
   ]
  },
  {
   "cell_type": "markdown",
   "id": "1a1fd74f",
   "metadata": {},
   "source": [
    "---"
   ]
  },
  {
   "cell_type": "markdown",
   "id": "72cce3d5",
   "metadata": {},
   "source": [
    "获取系统上双精度浮点类型（Python 中的 float）的机器epsilon"
   ]
  },
  {
   "cell_type": "code",
   "execution_count": 47,
   "id": "fd4a49b6",
   "metadata": {},
   "outputs": [
    {
     "name": "stdout",
     "output_type": "stream",
     "text": [
      "2.220446049250313e-16\n",
      "2.220446049250313e-16\n"
     ]
    }
   ],
   "source": [
    "print(np.spacing(1))\n",
    "print(np.finfo(float).eps)"
   ]
  },
  {
   "cell_type": "markdown",
   "id": "1808d52e",
   "metadata": {},
   "source": [
    "在任何计算中你可以预期的相对误差的固有极限。"
   ]
  },
  {
   "cell_type": "markdown",
   "id": "b914142c",
   "metadata": {},
   "source": [
    "---"
   ]
  },
  {
   "cell_type": "code",
   "execution_count": 48,
   "id": "a7dfc459",
   "metadata": {},
   "outputs": [
    {
     "name": "stdout",
     "output_type": "stream",
     "text": [
      "[0. 0. 0. 0. 0.]\n",
      "[1. 1. 1. 1. 1.]\n"
     ]
    }
   ],
   "source": [
    "print(np.zeros(5))\n",
    "print(np.ones(5))"
   ]
  },
  {
   "cell_type": "code",
   "execution_count": 49,
   "id": "d58bf016",
   "metadata": {},
   "outputs": [
    {
     "name": "stdout",
     "output_type": "stream",
     "text": [
      "[2 2 2 2 2 2 2]\n",
      "[0 0 0 0 0 0 0]\n"
     ]
    }
   ],
   "source": [
    "print(np.repeat(2, 7))\n",
    "print(np.zeros_like(np.repeat(2, 7)))"
   ]
  },
  {
   "cell_type": "code",
   "execution_count": 50,
   "id": "06c3e1dc",
   "metadata": {},
   "outputs": [
    {
     "name": "stdout",
     "output_type": "stream",
     "text": [
      "[[2 2 2 2 2]\n",
      " [3 3 3 3 3]] \n",
      "\n",
      "[2 2 2 2 2 3 3 3 3 3]\n"
     ]
    }
   ],
   "source": [
    "a = np.repeat(2, 5)\n",
    "b = np.repeat(3, 5)\n",
    "print(np.vstack((a, b)), \"\\n\")\n",
    "print(np.hstack((a, b)))\n"
   ]
  },
  {
   "cell_type": "code",
   "execution_count": 51,
   "id": "48136f3f",
   "metadata": {},
   "outputs": [
    {
     "name": "stdout",
     "output_type": "stream",
     "text": [
      "[1 3 5 7]\n",
      "[ 0.  1.  2.  3.  4.  5.  6.  7.  8.  9. 10.]\n"
     ]
    }
   ],
   "source": [
    "a = np.arange(1, 9, 2)\n",
    "print(a)\n",
    "b = np.linspace(0, 10, 11)\n",
    "print(b)"
   ]
  },
  {
   "cell_type": "code",
   "execution_count": 52,
   "id": "30776bc0",
   "metadata": {},
   "outputs": [
    {
     "name": "stdout",
     "output_type": "stream",
     "text": [
      "(4,)\n"
     ]
    }
   ],
   "source": [
    "print(np.shape(a))"
   ]
  },
  {
   "cell_type": "code",
   "execution_count": 53,
   "id": "18fdcd56",
   "metadata": {},
   "outputs": [
    {
     "name": "stdout",
     "output_type": "stream",
     "text": [
      "[[1 3 5 7]] \n",
      "\n",
      "[[1]\n",
      " [3]\n",
      " [5]\n",
      " [7]]\n"
     ]
    }
   ],
   "source": [
    "c = np.expand_dims(a, axis = 0)\n",
    "print(c, \"\\n\")\n",
    "c = np.expand_dims(a, axis = 1)\n",
    "print(c)"
   ]
  },
  {
   "cell_type": "code",
   "execution_count": 54,
   "id": "9bf1264f",
   "metadata": {},
   "outputs": [
    {
     "name": "stdout",
     "output_type": "stream",
     "text": [
      "[0 1 2 3] \n",
      "\n",
      "[0 0 1 1 2 2 3 3]\n"
     ]
    }
   ],
   "source": [
    "a = np.arange(4)\n",
    "print(a, \"\\n\")\n",
    "print(np.repeat(a, 2))"
   ]
  },
  {
   "cell_type": "code",
   "execution_count": 55,
   "id": "2101fd0e",
   "metadata": {},
   "outputs": [
    {
     "name": "stdout",
     "output_type": "stream",
     "text": [
      "[[0 1 2 3]\n",
      " [0 1 2 3]\n",
      " [0 1 2 3]]\n"
     ]
    }
   ],
   "source": [
    "b = np.repeat(np.expand_dims(a, axis = 0), 3, axis = 0)\n",
    "print(b)"
   ]
  },
  {
   "cell_type": "code",
   "execution_count": 56,
   "id": "09e8d8f8",
   "metadata": {},
   "outputs": [
    {
     "name": "stdout",
     "output_type": "stream",
     "text": [
      "[[0 0 0]\n",
      " [1 1 1]\n",
      " [2 2 2]\n",
      " [3 3 3]]\n"
     ]
    }
   ],
   "source": [
    "b = np.repeat(np.expand_dims(a, axis = 1), 3, axis = 1)\n",
    "print(b)"
   ]
  },
  {
   "cell_type": "code",
   "execution_count": 57,
   "id": "e3025f14",
   "metadata": {},
   "outputs": [
    {
     "name": "stdout",
     "output_type": "stream",
     "text": [
      "[1 2 3 4 5 6] \n",
      "\n",
      "[[1 2]\n",
      " [3 4]\n",
      " [5 6]] \n",
      "\n",
      "[[1]\n",
      " [2]\n",
      " [3]\n",
      " [4]\n",
      " [5]\n",
      " [6]]\n"
     ]
    }
   ],
   "source": [
    "a = np.array([\n",
    "    [1, 2, 3],\n",
    "    [4, 5, 6]\n",
    "])\n",
    "print(np.reshape(a, -1), \"\\n\")\n",
    "print(np.reshape(a, (3, 2)), \"\\n\")\n",
    "print(np.reshape(a, (-1, 1)))"
   ]
  },
  {
   "cell_type": "markdown",
   "id": "42e1b812",
   "metadata": {},
   "source": [
    "---"
   ]
  },
  {
   "cell_type": "code",
   "execution_count": 58,
   "id": "eae560c9",
   "metadata": {},
   "outputs": [],
   "source": [
    "import matplotlib.pyplot as plt"
   ]
  },
  {
   "cell_type": "code",
   "execution_count": 59,
   "id": "7f0db735",
   "metadata": {},
   "outputs": [
    {
     "data": {
      "image/png": "[encoded data removed]",
      "text/plain": [
       "<Figure size 640x480 with 1 Axes>"
      ]
     },
     "metadata": {},
     "output_type": "display_data"
    }
   ],
   "source": [
    "x = np.linspace(-4, 1, 101)\n",
    "y = x * x * np.exp(x)\n",
    "fig, ax = plt.subplots()\n",
    "ax.plot(x, y, linewidth = 3)\n",
    "ax.set_title(\"$y=x^2e^x$\", loc = \"left\")\n",
    "ax.set_xlabel(\"$x$\", loc = \"right\")\n",
    "plt.show()"
   ]
  },
  {
   "cell_type": "code",
   "execution_count": 60,
   "id": "4e3db48f",
   "metadata": {},
   "outputs": [
    {
     "name": "stdout",
     "output_type": "stream",
     "text": [
      "[[0 1 2 3 4]\n",
      " [0 1 2 3 4]\n",
      " [0 1 2 3 4]\n",
      " [0 1 2 3 4]\n",
      " [0 1 2 3 4]] \n",
      "\n",
      "[[0 0 0 0 0]\n",
      " [1 1 1 1 1]\n",
      " [2 2 2 2 2]\n",
      " [3 3 3 3 3]\n",
      " [4 4 4 4 4]] \n",
      "\n",
      "[[   0    1    8   27   64]\n",
      " [   0   -2    2   18   52]\n",
      " [   0  -11  -16   -9   16]\n",
      " [   0  -26  -46  -54  -44]\n",
      " [   0  -47  -88 -117 -128]]\n"
     ]
    }
   ],
   "source": [
    "x = np.arange(0, 5)\n",
    "y = np.arange(0, 5)\n",
    "X, Y = np.meshgrid(x, y)\n",
    "Z = X * (X * X - 3 * Y * Y)\n",
    "print(X, \"\\n\")\n",
    "print(Y, \"\\n\")\n",
    "print(Z)"
   ]
  },
  {
   "cell_type": "markdown",
   "id": "5cef90e2",
   "metadata": {},
   "source": [
    "---"
   ]
  },
  {
   "cell_type": "markdown",
   "id": "57d6e881",
   "metadata": {},
   "source": [
    "可变对象：创建后内容可以被修改的对象。"
   ]
  },
  {
   "cell_type": "markdown",
   "id": "5aa32532",
   "metadata": {},
   "source": [
    "### Copy | 创建副本\n",
    "\n",
    "#### 1. 赋值引用 | Reference Assignment\n",
    "\n",
    "When you assign a mutable object (like a list or NumPy array) to a new variable, you're merely creating a new reference (label) to the same memory object. Modifying one variable will affect the other.\n",
    "> 当将可变对象（如列表、NumPy数组）赋值给新变量时，实际上只是创建了一个新的引用（标签），指向同一内存对象。修改其中一个变量会影响另一个。\n",
    "\n",
    "- 两个变量指向同一内存块 | Two variables point to the same memory block\n"
   ]
  },
  {
   "cell_type": "code",
   "execution_count": 61,
   "id": "3915a7b6",
   "metadata": {},
   "outputs": [
    {
     "name": "stdout",
     "output_type": "stream",
     "text": [
      "[99  2  3] [99  2  3]\n",
      "True\n"
     ]
    }
   ],
   "source": [
    "a = np.array([1, 2, 3])\n",
    "b = a   # b 是 a 的引用\n",
    "b[0] = 99\n",
    "print(a, b)\n",
    "print(a is b)"
   ]
  },
  {
   "cell_type": "markdown",
   "id": "303d962e",
   "metadata": {},
   "source": [
    "#### 2. 浅拷贝 | Shallow Copy\n",
    "\n",
    "A shallow copy creates a new instance of the container object, but the elements inside are still references to the original objects. For nested structures, only the outermost level is copied, while inner objects are shared.\n",
    "> 浅拷贝创建了容器对象的新实例，但容器内的元素仍然是原对象的引用。对于嵌套结构，只有最外层被复制，内层对象仍被共享。\n",
    "\n",
    "- 新数组对象，但数据缓冲区可能共享（NumPy的view机制）或部分复制\n",
    "> New array object, but data buffer may be shared (NumPy's view mechanism) or partially copied\n",
    "\n",
    "浅拷贝就像复印一封信：信封是新的（外层对象不同），但信的内容还是原来的（内层对象共享）"
   ]
  },
  {
   "cell_type": "code",
   "execution_count": 62,
   "id": "c9abe0f7",
   "metadata": {},
   "outputs": [],
   "source": [
    "a = np.array([\n",
    "    [1, 2],\n",
    "    [3, 4]\n",
    "])\n",
    "b = np.copy(a)"
   ]
  },
  {
   "cell_type": "code",
   "execution_count": 63,
   "id": "65963eee",
   "metadata": {},
   "outputs": [
    {
     "name": "stdout",
     "output_type": "stream",
     "text": [
      "外层数组是否相同: False\n",
      "内层列表是否相同: False\n"
     ]
    }
   ],
   "source": [
    "# 修改外层不影响原数组 | Modifying outer layer doesn't affect original\n",
    "# 修改内层可变对象会影响原数组 | Modifying inner mutable objects affects original\n",
    "print(f\"外层数组是否相同: {a is b}\")  # False - 信封不同\n",
    "print(f\"内层列表是否相同: {a[0] is b[0]}\")  # True - 信内容相同！"
   ]
  },
  {
   "cell_type": "code",
   "execution_count": 73,
   "id": "827025c8",
   "metadata": {},
   "outputs": [
    {
     "name": "stdout",
     "output_type": "stream",
     "text": [
      "[1 'm' list([10, 3, 4])]\n",
      "[1 'm' list([10, 3, 4])]\n",
      "外层数组是否相同: False\n",
      "内层列表是否相同: True\n"
     ]
    }
   ],
   "source": [
    "x = np.array([1, 'm', [2,3,4]], dtype = object)\n",
    "y = np.copy(x)\n",
    "y[2][0] = 10\n",
    "print(x)\n",
    "print(y)\n",
    "print(f\"外层数组是否相同: {x is y}\")  # False - 信封不同\n",
    "print(f\"内层列表是否相同: {x[0] is y[0]}\")  # True - 信内容相同！"
   ]
  },
  {
   "cell_type": "markdown",
   "id": "73bc01ae",
   "metadata": {},
   "source": [
    "#### 3. 深拷贝 | Deep Copy\n",
    "\n",
    "A deep copy recursively copies all nested objects, creating a completely independent object hierarchy. Modifying the deep-copied object won't affect the original.\n",
    "> 深拷贝递归地复制所有嵌套对象，创建完全独立的对象层次结构。修改深拷贝后的对象不会影响原对象。\n",
    "\n",
    "- 完全独立的内存结构，所有层次都重新分配\n",
    "> Completely independent memory structure, all levels reallocated\n",
    "\n",
    "深拷贝就像重写一封信：信封是新的（外层对象不同），信的内容也是重新写的（内层对象也全新）"
   ]
  },
  {
   "cell_type": "code",
   "execution_count": 64,
   "id": "58fd545a",
   "metadata": {},
   "outputs": [],
   "source": [
    "from copy import deepcopy"
   ]
  },
  {
   "cell_type": "code",
   "execution_count": 65,
   "id": "f6431005",
   "metadata": {},
   "outputs": [],
   "source": [
    "a = np.array([\n",
    "    [1, 2],\n",
    "    [3, 4]\n",
    "])\n",
    "b = deepcopy(a)"
   ]
  },
  {
   "cell_type": "code",
   "execution_count": 66,
   "id": "4f6ed617",
   "metadata": {},
   "outputs": [
    {
     "name": "stdout",
     "output_type": "stream",
     "text": [
      "外层数组是否相同: False\n",
      "内层列表是否相同: False\n"
     ]
    }
   ],
   "source": [
    "print(f\"外层数组是否相同: {a is b}\")  # False\n",
    "print(f\"内层列表是否相同: {a[0] is b[0]}\")  # False - 完全独立！"
   ]
  },
  {
   "cell_type": "markdown",
   "id": "a7424fdb",
   "metadata": {},
   "source": [
    "#### 4. 实践建议 | Practical Recommandations\n",
    "\n",
    "- 纯数值数据：使用 `np.copy()`；\n",
    "- 包含Python对象的数组：使用 `copy.deepcopy()`；\n",
    "- 大型数组性能考虑：浅拷贝更高效，深拷贝代价更高；\n",
    "- 检查复制效果：使用 `np.shares_memory()` 检测内存共享\n",
    "\n"
   ]
  },
  {
   "cell_type": "code",
   "execution_count": 71,
   "id": "ce76a86c",
   "metadata": {},
   "outputs": [
    {
     "name": "stdout",
     "output_type": "stream",
     "text": [
      "True\n",
      "False\n",
      "False\n",
      "False\n"
     ]
    }
   ],
   "source": [
    "a = np.array([\n",
    "    [1, 2],\n",
    "    [3, 4]\n",
    "])\n",
    "b = a\n",
    "c = np.copy(a)\n",
    "print(np.shares_memory(a, b))\n",
    "print(np.shares_memory(a, c))\n",
    "print(np.shares_memory(a[0], c[0]))\n",
    "print(np.shares_memory(a[0][0], c[0][0]))"
   ]
  },
  {
   "cell_type": "code",
   "execution_count": null,
   "id": "d8327831",
   "metadata": {},
   "outputs": [],
   "source": [
    "# df = pd.read_csv(file_path)           # 原始文件安全\n",
    "# df_clean = df.copy(deep = True)       # 清洗用副本\n",
    "# df_clean = df_clean.dropna()          # 操作副本，不影响原DataFrame\n",
    "# df_clean.to_csv(\"cleaned_data.csv\")   # 保存结果到新文件（不影响原CSV）"
   ]
  }
 ],
 "metadata": {
  "kernelspec": {
   "display_name": "test2",
   "language": "python",
   "name": "python3"
  },
  "language_info": {
   "codemirror_mode": {
    "name": "ipython",
    "version": 3
   },
   "file_extension": ".py",
   "mimetype": "text/x-python",
   "name": "python",
   "nbconvert_exporter": "python",
   "pygments_lexer": "ipython3",
   "version": "3.12.11"
  }
 },
 "nbformat": 4,
 "nbformat_minor": 5
}
