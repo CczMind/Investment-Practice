{
 "cells": [
  {
   "cell_type": "code",
   "execution_count": 2,
   "metadata": {},
   "outputs": [],
   "source": [
    "import numpy as np\n",
    "import matplotlib.pyplot as plt\n",
    "np.random.seed(42)\n"
   ]
  },
  {
   "cell_type": "code",
   "execution_count": null,
   "metadata": {},
   "outputs": [],
   "source": [
    "aapl_prices = np.array([150.0, 152.5, 148.0, 155.0, 157.5])\n",
    "\n",
    "portfolio_prices = np.array([\n",
    "    [150, 152, 148, 155],\n",
    "    [300, 305, 298, 310],\n",
    "    [2800, 2850, 2780, 2900]\n",
    "])\n"
   ]
  },
  {
   "cell_type": "markdown",
   "metadata": {},
   "source": [
    "---"
   ]
  },
  {
   "cell_type": "code",
   "execution_count": 6,
   "metadata": {},
   "outputs": [
    {
     "name": "stdout",
     "output_type": "stream",
     "text": [
      "[ 0.01666667 -0.0295082   0.0472973   0.01612903]\n"
     ]
    }
   ],
   "source": [
    "aapl_returns = (aapl_prices[1:] - aapl_prices[:-1]) / aapl_prices[:-1]\n",
    "print(aapl_returns)"
   ]
  },
  {
   "cell_type": "code",
   "execution_count": 12,
   "metadata": {},
   "outputs": [
    {
     "name": "stdout",
     "output_type": "stream",
     "text": [
      "\n",
      " 1.26% \n",
      " 2.74%\n"
     ]
    }
   ],
   "source": [
    "aapl_mean_return = np.mean(aapl_returns)\n",
    "aapl_volatility = np.std(aapl_returns)\n",
    "print(f\"\\n {aapl_mean_return * 100:.2f}% \\n {aapl_volatility * 100:.2f}%\")\n"
   ]
  },
  {
   "cell_type": "markdown",
   "metadata": {},
   "source": [
    "---"
   ]
  },
  {
   "cell_type": "code",
   "execution_count": 7,
   "metadata": {},
   "outputs": [
    {
     "name": "stdout",
     "output_type": "stream",
     "text": [
      "[[ 0.01333333 -0.02631579  0.0472973 ]\n",
      " [ 0.01666667 -0.02295082  0.04026846]\n",
      " [ 0.01785714 -0.0245614   0.04316547]]\n"
     ]
    }
   ],
   "source": [
    "portfolio_returns = (portfolio_prices[:, 1:] - portfolio_prices[:, :-1]) / portfolio_prices[:, :-1]\n",
    "print(portfolio_returns)\n"
   ]
  },
  {
   "cell_type": "code",
   "execution_count": 16,
   "metadata": {},
   "outputs": [
    {
     "name": "stdout",
     "output_type": "stream",
     "text": [
      "\n",
      " [0.01143828 0.0113281  0.01215374] \n",
      " [0.03008228 0.02608377 0.02794195]\n"
     ]
    }
   ],
   "source": [
    "portfolio_mean_returns = np.mean(portfolio_returns, axis = 1)\n",
    "portfolio_volatility = np.std(portfolio_returns, axis = 1)\n",
    "print(f\"\\n {portfolio_mean_returns} \\n {portfolio_volatility}\")\n"
   ]
  },
  {
   "cell_type": "code",
   "execution_count": 17,
   "metadata": {},
   "outputs": [],
   "source": [
    "shares = np.array([100, 50, 10])"
   ]
  },
  {
   "cell_type": "code",
   "execution_count": 18,
   "metadata": {},
   "outputs": [
    {
     "name": "stdout",
     "output_type": "stream",
     "text": [
      "[58000 58950 57500 60000]\n"
     ]
    }
   ],
   "source": [
    "portfolio_values = np.sum(shares.reshape(-1, 1) * portfolio_prices, axis = 0)\n",
    "print(portfolio_values)\n"
   ]
  },
  {
   "cell_type": "code",
   "execution_count": 23,
   "metadata": {},
   "outputs": [
    {
     "name": "stdout",
     "output_type": "stream",
     "text": [
      "[25.86 25.86 48.28]%\n"
     ]
    }
   ],
   "source": [
    "initial_stock_values = shares * portfolio_prices[:, 0]\n",
    "total_initial_value = np.sum(initial_stock_values)\n",
    "portfolio_weights = initial_stock_values / total_initial_value\n",
    "print(f\"{np.round(portfolio_weights * 100, 2)}%\")\n"
   ]
  },
  {
   "cell_type": "code",
   "execution_count": 25,
   "metadata": {},
   "outputs": [
    {
     "name": "stdout",
     "output_type": "stream",
     "text": [
      "[ 1.64 -2.46  4.35]%\n"
     ]
    }
   ],
   "source": [
    "portfolio_daily_returns = (portfolio_values[1:] - portfolio_values[:-1]) / portfolio_values[:-1]\n",
    "print(f\"{np.round(portfolio_daily_returns * 100, 2)}%\")\n"
   ]
  },
  {
   "cell_type": "markdown",
   "metadata": {},
   "source": [
    "---"
   ]
  },
  {
   "cell_type": "code",
   "execution_count": 27,
   "metadata": {},
   "outputs": [
    {
     "name": "stdout",
     "output_type": "stream",
     "text": [
      "[[1. 0. 0.]\n",
      " [0. 1. 0.]\n",
      " [0. 0. 1.]]\n"
     ]
    }
   ],
   "source": [
    "correlation_matrix = np.eye(3)\n",
    "print(correlation_matrix)\n"
   ]
  },
  {
   "cell_type": "code",
   "execution_count": 28,
   "metadata": {},
   "outputs": [
    {
     "name": "stdout",
     "output_type": "stream",
     "text": [
      "[0.33333333 0.33333333 0.33333333]\n"
     ]
    }
   ],
   "source": [
    "equal_weights = np.full(3, 1 / 3)\n",
    "print(equal_weights)\n"
   ]
  },
  {
   "cell_type": "code",
   "execution_count": 29,
   "metadata": {},
   "outputs": [
    {
     "name": "stdout",
     "output_type": "stream",
     "text": [
      "252\n"
     ]
    }
   ],
   "source": [
    "trading_days = np.arange(1, 253)\n",
    "print(len(trading_days)\n",
    ")"
   ]
  },
  {
   "cell_type": "code",
   "execution_count": 30,
   "metadata": {},
   "outputs": [
    {
     "name": "stdout",
     "output_type": "stream",
     "text": [
      "[148.   148.95 149.9  150.85 151.8  152.75 153.7  154.65 155.6  156.55\n",
      " 157.5 ]\n"
     ]
    }
   ],
   "source": [
    "price_levels = np.linspace(aapl_prices.min(), aapl_prices.max(), 11)\n",
    "print(price_levels)\n"
   ]
  },
  {
   "cell_type": "markdown",
   "metadata": {},
   "source": [
    "---"
   ]
  },
  {
   "cell_type": "code",
   "execution_count": 33,
   "metadata": {},
   "outputs": [
    {
     "name": "stdout",
     "output_type": "stream",
     "text": [
      "\n",
      " [ True False  True]\n",
      " [0.01637931 0.04347826]\n"
     ]
    }
   ],
   "source": [
    "positive_return_days = portfolio_daily_returns > 0\n",
    "positive_returns = portfolio_daily_returns[positive_return_days]\n",
    "print(f\"\\n {positive_return_days}\\n {positive_returns}\")\n"
   ]
  },
  {
   "cell_type": "code",
   "execution_count": 34,
   "metadata": {},
   "outputs": [
    {
     "name": "stdout",
     "output_type": "stream",
     "text": [
      "\n",
      " [ 155  310 2900]\n",
      " [3 3 3]\n"
     ]
    }
   ],
   "source": [
    "max_prices = np.max(portfolio_prices, axis = 1)\n",
    "max_price_days = np.argmax(portfolio_prices, axis = 1)\n",
    "print(f\"\\n {max_prices}\\n {max_price_days}\")\n"
   ]
  },
  {
   "cell_type": "code",
   "execution_count": 35,
   "metadata": {},
   "outputs": [
    {
     "name": "stdout",
     "output_type": "stream",
     "text": [
      "[ True  True  True]\n"
     ]
    }
   ],
   "source": [
    "profitable_stocks = portfolio_mean_returns > 0\n",
    "print(profitable_stocks)\n"
   ]
  },
  {
   "cell_type": "code",
   "execution_count": 36,
   "metadata": {},
   "outputs": [
    {
     "name": "stdout",
     "output_type": "stream",
     "text": [
      "[[1.         1.01333333 0.98666667 1.03333333]\n",
      " [1.         1.01666667 0.99333333 1.03333333]\n",
      " [1.         1.01785714 0.99285714 1.03571429]]\n"
     ]
    }
   ],
   "source": [
    "normalized_prices = portfolio_prices / portfolio_prices[:, 0].reshape(-1, 1)\n",
    "print(normalized_prices)\n"
   ]
  },
  {
   "cell_type": "code",
   "execution_count": 37,
   "metadata": {},
   "outputs": [
    {
     "name": "stdout",
     "output_type": "stream",
     "text": [
      "[[ 0.01233333 -0.02731579  0.0462973 ]\n",
      " [ 0.01566667 -0.02395082  0.03926846]\n",
      " [ 0.01685714 -0.0255614   0.04216547]]\n"
     ]
    }
   ],
   "source": [
    "transaction_cost = 0.001\n",
    "net_returns = portfolio_returns - transaction_cost\n",
    "print(net_returns)\n"
   ]
  },
  {
   "cell_type": "code",
   "execution_count": 38,
   "metadata": {},
   "outputs": [
    {
     "name": "stdout",
     "output_type": "stream",
     "text": [
      "[ 0.01637931 -0.02459859  0.04348482]\n"
     ]
    }
   ],
   "source": [
    "weighted_portfolio_returns = np.sum(portfolio_weights.reshape(-1, 1) * portfolio_returns, axis = 0)\n",
    "print(weighted_portfolio_returns)\n"
   ]
  },
  {
   "cell_type": "code",
   "execution_count": 39,
   "metadata": {},
   "outputs": [],
   "source": [
    "num_simulations = 1000\n",
    "num_days = 30\n",
    "num_stocks = 3\n"
   ]
  },
  {
   "cell_type": "code",
   "execution_count": null,
   "metadata": {},
   "outputs": [],
   "source": [
    "simulated_returns = np.random.normal(0.001, 0.02, (num_simulations, num_days, num_stocks))\n"
   ]
  },
  {
   "cell_type": "code",
   "execution_count": 42,
   "metadata": {},
   "outputs": [],
   "source": [
    "cummulative_returns = np.cumprod(simulated_returns + 1, axis = 1) - 1\n"
   ]
  },
  {
   "cell_type": "code",
   "execution_count": 44,
   "metadata": {},
   "outputs": [],
   "source": [
    "portfolio_final_returns = cummulative_returns[:, -1, :].mean(axis = 1)\n"
   ]
  },
  {
   "cell_type": "code",
   "execution_count": 45,
   "metadata": {},
   "outputs": [
    {
     "name": "stdout",
     "output_type": "stream",
     "text": [
      "[[[ 150  152]\n",
      "  [ 148  155]]\n",
      "\n",
      " [[ 300  305]\n",
      "  [ 298  310]]\n",
      "\n",
      " [[2800 2850]\n",
      "  [2780 2900]]]\n"
     ]
    }
   ],
   "source": [
    "weekly_prices = portfolio_prices.reshape(3, 2, 2)\n",
    "print(weekly_prices)\n"
   ]
  },
  {
   "cell_type": "code",
   "execution_count": 48,
   "metadata": {},
   "outputs": [
    {
     "name": "stdout",
     "output_type": "stream",
     "text": [
      "[[0.01333333 0.0472973 ]\n",
      " [0.01666667 0.04026846]\n",
      " [0.01785714 0.04316547]]\n"
     ]
    }
   ],
   "source": [
    "weekly_returns = (weekly_prices[:, :, -1] - weekly_prices[:, :, 0]) / weekly_prices[:, :, 0]\n",
    "print(weekly_returns)\n"
   ]
  },
  {
   "cell_type": "code",
   "execution_count": 49,
   "metadata": {},
   "outputs": [
    {
     "name": "stdout",
     "output_type": "stream",
     "text": [
      "[0.01333333 0.0472973  0.01666667 0.04026846 0.01785714 0.04316547]\n"
     ]
    }
   ],
   "source": [
    "all_returns_flat = weekly_returns.flatten()\n",
    "print(all_returns_flat)\n"
   ]
  },
  {
   "cell_type": "code",
   "execution_count": 50,
   "metadata": {},
   "outputs": [
    {
     "name": "stdout",
     "output_type": "stream",
     "text": [
      "[[0.01333333 0.0472973 ]\n",
      " [0.01666667 0.04026846]\n",
      " [0.01785714 0.04316547]]\n"
     ]
    }
   ],
   "source": [
    "returns_reshaped = weekly_returns.reshape(3, 2)\n",
    "print(returns_reshaped)\n"
   ]
  }
 ],
 "metadata": {
  "kernelspec": {
   "display_name": "test2",
   "language": "python",
   "name": "python3"
  },
  "language_info": {
   "codemirror_mode": {
    "name": "ipython",
    "version": 3
   },
   "file_extension": ".py",
   "mimetype": "text/x-python",
   "name": "python",
   "nbconvert_exporter": "python",
   "pygments_lexer": "ipython3",
   "version": "3.12.11"
  }
 },
 "nbformat": 4,
 "nbformat_minor": 4
}
