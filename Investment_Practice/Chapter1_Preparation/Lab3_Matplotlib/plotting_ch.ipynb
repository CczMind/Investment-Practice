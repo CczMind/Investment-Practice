{
 "cells": [
  {
   "cell_type": "markdown",
   "metadata": {},
   "source": [
    "# 📊 使用Python进行金融数据可视化"
   ]
  },
  {
   "cell_type": "markdown",
   "metadata": {},
   "source": [
    "## 🎯 学习目标\n",
    "\n",
    "完成本综合绘图教程后，您将能够：\n",
    "\n",
    "1. **掌握matplotlib基础**，创建专业的金融图表\n",
    "2. **可视化金融时间序列数据**，使用适当的格式和样式\n",
    "3. **创建高级绘图布局**，使用子图和多轴图\n",
    "4. **使用seaborn**进行金融数据的统计可视化\n",
    "5. **生成专业金融图表**，如使用mplfinance的K线图\n",
    "6. **应用最佳实践**于投资分析中的金融数据可视化\n",
    "\n",
    "## 📈 可视化在金融中的重要性\n",
    "\n",
    "- **模式识别**：识别市场数据中的趋势、周期和异常\n",
    "- **风险评估**：可视化波动率、相关性和投资组合表现\n",
    "- **沟通交流**：清晰地向利益相关者和决策者展示发现\n",
    "- **分析速度**：快速评估大型数据集和时间序列\n",
    "- **决策支持**：基于视觉洞察做出明智的投资决策\n",
    "\n",
    "## 📚 涵盖的库\n",
    "\n",
    "- **matplotlib**：Python的核心绘图库\n",
    "- **seaborn**：基于matplotlib的统计数据可视化\n",
    "- **mplfinance**：专业金融图表（K线，OHLC）\n",
    "- **plotly**：交互式金融仪表板（附加内容）\n",
    "\n",
    "## 🗂️ 教程结构\n",
    "\n",
    "1. **Matplotlib基础** - 核心绘图概念和语法\n",
    "2. **金融时间序列图** - 线图、价格图、成交量分析\n",
    "3. **高级Matplotlib** - 子图、双轴、自定义\n",
    "4. **使用Seaborn进行统计可视化** - 分布、相关性、因子分析\n",
    "5. **金融专用图表** - K线、OHLC、技术指标\n",
    "6. **最佳实践** - 专业样式、导出格式、性能提示"
   ]
  },
  {
   "cell_type": "markdown",
   "metadata": {},
   "source": [
    "## 📦 库设置和配置\n",
    "\n",
    "**基本参考：**\n",
    "- [Matplotlib官方文档](https://matplotlib.org/stable/contents.html)\n",
    "- [Matplotlib速查表](https://github.com/matplotlib/cheatsheets)\n",
    "- [Seaborn教程](https://seaborn.pydata.org/tutorial.html)\n",
    "- [MPLFinance文档](https://github.com/DanielGoldfarb/mplfinance)"
   ]
  },
  {
   "cell_type": "code",
   "execution_count": null,
   "metadata": {},
   "outputs": [],
   "source": [
    "import matplotlib.pyplot as plt\n",
    "import seaborn as sns\n",
    "import pandas as pd\n",
    "import numpy as np\n",
    "from datetime import datetime, timedelta\n",
    "import warnings\n",
    "warnings.filterwarnings('ignore')\n",
    "\n",
    "%matplotlib inline\n",
    "\n",
    "plt.rcParams.update({\n",
    "    'figure.figsize': (12, 8),\n",
    "    'font.size': 12,\n",
    "    'axes.labelsize': 14,\n",
    "    'axes.titlesize': 16,\n",
    "    'xtick.labelsize': 12,\n",
    "    'ytick.labelsize': 12,\n",
    "    'legend.fontsize': 12,\n",
    "    'figure.titlesize': 18,\n",
    "    'axes.grid': True,\n",
    "    'grid.alpha': 0.3\n",
    "})\n",
    "\n",
    "sns.set_style(\"whitegrid\")\n",
    "sns.set_palette(\"husl\")\n",
    "\n",
    "print(\"✅ Plotting libraries configured successfully!\")\n",
    "print(f\"📊 Matplotlib version: {plt.matplotlib.__version__}\")\n",
    "print(f\"🎨 Seaborn version: {sns.__version__}\")\n",
    "print(f\"🐼 Pandas version: {pd.__version__}\")"
   ]
  },
  {
   "cell_type": "markdown",
   "metadata": {},
   "source": [
    "## 📈 加载金融数据\n",
    "\n",
    "我们将使用当前文件夹中的真实金融数据来演示绘图技术。"
   ]
  },
  {
   "cell_type": "code",
   "execution_count": null,
   "metadata": {},
   "outputs": [],
   "source": [
    "def load_financial_data():\n",
    "    \"\"\"加载多个股票数据集用于绘图演示\"\"\"\n",
    "    \n",
    "    stocks = ['AAPL', 'MSFT', 'GOOGL', 'TSLA']\n",
    "    stock_data = {}\n",
    "    \n",
    "    for symbol in stocks:\n",
    "        try:\n",
    "            file_path = f'{symbol}_stock_data.csv'\n",
    "            df = pd.read_csv(file_path, index_col='Date', parse_dates=True)\n",
    "            stock_data[symbol] = df\n",
    "            print(f\"✅ 已加载 {symbol}: {len(df)} 个交易日\")\n",
    "        except FileNotFoundError:\n",
    "            print(f\"⚠️ 当前文件夹中未找到 {symbol}_stock_data.csv\")\n",
    "    \n",
    "    return stock_data\n",
    "\n",
    "stocks = load_financial_data()\n",
    "\n",
    "if stocks:\n",
    "    close_prices = pd.DataFrame({symbol: data['Close'] for symbol, data in stocks.items()})\n",
    "    print(f\"\\n📊 合并数据集形状: {close_prices.shape}\")\n",
    "    print(f\"📅 日期范围: {close_prices.index[0].strftime('%Y-%m-%d')} 至 {close_prices.index[-1].strftime('%Y-%m-%d')}\")\n",
    "\n",
    "    print(\"\\n📋 样本数据（最近5天）:\")\n",
    "    print(close_prices.tail().round(2))\n",
    "else:\n",
    "    print(\"⚠️ 未加载股票数据。请确保CSV文件在当前文件夹中。\")"
   ]
  },
  {
   "cell_type": "markdown",
   "metadata": {},
   "source": [
    "---"
   ]
  },
  {
   "cell_type": "markdown",
   "metadata": {},
   "source": [
    "# 1. 📊 Matplotlib基础\n",
    "\n",
    "## 1.1 基本绘图结构\n",
    "\n",
    "理解matplotlib绘图的结构对于创建专业的金融可视化至关重要。"
   ]
  },
  {
   "cell_type": "markdown",
   "metadata": {},
   "source": [
    "---"
   ]
  },
  {
   "cell_type": "code",
   "execution_count": null,
   "metadata": {},
   "outputs": [],
   "source": [
    "np.random.seed(42)\n",
    "dates = pd.date_range('2020-01-01', periods=365, freq='D')\n",
    "price_base = 100\n",
    "returns = np.random.normal(0.001, 0.02, 365)  # Daily returns with 2% volatility\n",
    "prices = price_base * (1 + returns).cumprod()\n",
    "\n",
    "plt.figure(figsize=(12, 6))\n",
    "plt.plot(dates, prices, linewidth=2, color='blue')\n",
    "plt.title('Stock Price Over Time - Basic Plot')\n",
    "plt.xlabel('Date')\n",
    "plt.ylabel('Price ($)')\n",
    "plt.grid(True, alpha=0.3)\n",
    "plt.xticks(rotation=45)\n",
    "plt.tight_layout()\n",
    "plt.show()\n",
    "\n",
    "print(\"📈 这展示了金融时间序列图的基本结构\")"
   ]
  },
  {
   "cell_type": "markdown",
   "metadata": {},
   "source": [
    "---"
   ]
  },
  {
   "cell_type": "markdown",
   "metadata": {},
   "source": [
    "## 1.2 图形和轴对象（专业方法）\n",
    "\n",
    "使用图形和轴对象提供更多控制，是复杂金融可视化的推荐方法。"
   ]
  },
  {
   "cell_type": "markdown",
   "metadata": {},
   "source": [
    "---"
   ]
  },
  {
   "cell_type": "code",
   "execution_count": null,
   "metadata": {},
   "outputs": [],
   "source": [
    "fig, ax = plt.subplots(figsize=(14, 8))\n",
    "\n",
    "if 'AAPL' in stocks:\n",
    "    apple_data = stocks['AAPL']\n",
    "    ax.plot(apple_data.index, apple_data['Close'], \n",
    "            label='AAPL Close Price', linewidth=2, color='#1f77b4')\n",
    "    \n",
    "    # Add moving average\n",
    "    ma_20 = apple_data['Close'].rolling(window=20).mean()\n",
    "    ax.plot(apple_data.index, ma_20, \n",
    "            label='20-day Moving Average', linewidth=2, color='red', alpha=0.7)\n",
    "\n",
    "# Formatting\n",
    "ax.set_title('Apple Inc. (AAPL) Stock Price with Moving Average', fontsize=16, fontweight='bold')\n",
    "ax.set_xlabel('Date', fontsize=14)\n",
    "ax.set_ylabel('Price ($)', fontsize=14)\n",
    "ax.legend(loc='upper left')\n",
    "ax.grid(True, alpha=0.3)\n",
    "\n",
    "# Format x-axis dates\n",
    "fig.autofmt_xdate()\n",
    "\n",
    "plt.tight_layout()\n",
    "plt.show()\n",
    "\n",
    "print(\"✅ 使用图形和轴对象的专业绘图\")\n",
    "print(\"📊 关键特性：标题、轴标签、图例、网格、日期格式化\")"
   ]
  },
  {
   "cell_type": "markdown",
   "metadata": {},
   "source": [
    "---"
   ]
  },
  {
   "cell_type": "markdown",
   "metadata": {},
   "source": [
    "## 1.3 多线和样式\n",
    "\n",
    "比较多个金融工具需要清晰的视觉区分。"
   ]
  },
  {
   "cell_type": "markdown",
   "metadata": {},
   "source": [
    "---"
   ]
  },
  {
   "cell_type": "code",
   "execution_count": null,
   "metadata": {},
   "outputs": [],
   "source": [
    "fig, ax = plt.subplots(figsize=(14, 8))\n",
    "\n",
    "colors = ['#1f77b4', '#ff7f0e', '#2ca02c', '#d62728']\n",
    "line_styles = ['-', '--', '-.', ':']\n",
    "\n",
    "if len(stocks) > 0:\n",
    "    # 将价格标准化为从100开始以便比较\n",
    "    normalized_prices = close_prices.div(close_prices.iloc[0]) * 100\n",
    "    \n",
    "    for i, (symbol, color, style) in enumerate(zip(normalized_prices.columns, colors, line_styles)):\n",
    "        ax.plot(normalized_prices.index, normalized_prices[symbol], \n",
    "                label=f'{symbol}', color=color, linewidth=2.5, linestyle=style)\n",
    "\n",
    "ax.set_title('Stock Performance Comparison (Normalized to 100)', fontsize=16, fontweight='bold')\n",
    "ax.set_xlabel('Date', fontsize=14)\n",
    "ax.set_ylabel('Normalized Price (Base = 100)', fontsize=14)\n",
    "ax.legend(loc='best', frameon=True, fancybox=True, shadow=True)\n",
    "ax.grid(True, alpha=0.3)\n",
    "\n",
    "ax.axhline(y=100, color='black', linestyle='--', alpha=0.5, label='Starting Point')\n",
    "\n",
    "fig.autofmt_xdate()\n",
    "\n",
    "plt.tight_layout()\n",
    "plt.show()\n",
    "\n",
    "print(\"📈 使用标准化价格的多股票比较\")\n",
    "print(\"💡 提示：标准化允许比较不同价格水平的股票\")"
   ]
  },
  {
   "cell_type": "markdown",
   "metadata": {},
   "source": [
    "---"
   ]
  },
  {
   "cell_type": "markdown",
   "metadata": {},
   "source": [
    "# 2. 📊 金融时间序列可视化\n",
    "\n",
    "## 2.1 OHLC（开盘、最高、最低、收盘）数据可视化"
   ]
  },
  {
   "cell_type": "markdown",
   "metadata": {},
   "source": [
    "---"
   ]
  },
  {
   "cell_type": "code",
   "execution_count": null,
   "metadata": {},
   "outputs": [],
   "source": [
    "if 'AAPL' in stocks:\n",
    "    recent_data = stocks['AAPL'].tail(30)  # Last 30 days\n",
    "    \n",
    "    fig, (ax1, ax2) = plt.subplots(2, 1, figsize=(14, 10), \n",
    "                                   gridspec_kw={'height_ratios': [3, 1]})\n",
    "    \n",
    "    # 包含OHLC信息的价格图\n",
    "    ax1.plot(recent_data.index, recent_data['Close'], label='Close', linewidth=2, color='blue')\n",
    "    ax1.plot(recent_data.index, recent_data['High'], label='High', linewidth=1, color='green', alpha=0.7)\n",
    "    ax1.plot(recent_data.index, recent_data['Low'], label='Low', linewidth=1, color='red', alpha=0.7)\n",
    "    \n",
    "    # 填充最高价和最低价之间的区域\n",
    "    ax1.fill_between(recent_data.index, recent_data['High'], recent_data['Low'], \n",
    "                     alpha=0.2, color='gray', label='Daily Range')\n",
    "    \n",
    "    ax1.set_title('AAPL - Price Movement (Last 30 Days)', fontsize=14, fontweight='bold')\n",
    "    ax1.set_ylabel('Price ($)', fontsize=12)\n",
    "    ax1.legend()\n",
    "    ax1.grid(True, alpha=0.3)\n",
    "    \n",
    "    # 成交量图\n",
    "    volume_colors = ['green' if close >= open_ else 'red' \n",
    "                     for close, open_ in zip(recent_data['Close'], recent_data['Open'])]\n",
    "    \n",
    "    ax2.bar(recent_data.index, recent_data['Volume']/1e6, \n",
    "            color=volume_colors, alpha=0.7, width=0.8)\n",
    "    ax2.set_ylabel('Volume (Millions)', fontsize=12)\n",
    "    ax2.set_xlabel('Date', fontsize=12)\n",
    "    ax2.grid(True, alpha=0.3)\n",
    "    \n",
    "    # 格式化日期\n",
    "    fig.autofmt_xdate()\n",
    "    plt.tight_layout()\n",
    "    plt.show()\n",
    "    \n",
    "    print(\"📊 带成交量的OHLC可视化\")\n",
    "    print(\"🎨 成交量柱按价格方向着色（绿色=上涨，红色=下跌）\")"
   ]
  },
  {
   "cell_type": "markdown",
   "metadata": {},
   "source": [
    "---"
   ]
  },
  {
   "cell_type": "markdown",
   "metadata": {},
   "source": [
    "## 2.2 收益率分析可视化"
   ]
  },
  {
   "cell_type": "markdown",
   "metadata": {},
   "source": [
    "---"
   ]
  },
  {
   "cell_type": "code",
   "execution_count": null,
   "metadata": {},
   "outputs": [],
   "source": [
    "if len(stocks) > 0:\n",
    "    # 计算日收益率\n",
    "    returns = close_prices.pct_change().dropna()\n",
    "    \n",
    "    fig, axes = plt.subplots(2, 2, figsize=(16, 12))\n",
    "    \n",
    "    # 图1：收益率时间序列\n",
    "    axes[0, 0].plot(returns.index, returns.iloc[:, 0] * 100, linewidth=1, alpha=0.7)\n",
    "    axes[0, 0].set_title(f'{returns.columns[0]} Daily Returns (%)', fontweight='bold')\n",
    "    axes[0, 0].set_ylabel('Daily Return (%)')\n",
    "    axes[0, 0].axhline(y=0, color='black', linestyle='-', alpha=0.3)\n",
    "    axes[0, 0].grid(True, alpha=0.3)\n",
    "    \n",
    "    # 图2：收益率直方图\n",
    "    axes[0, 1].hist(returns.iloc[:, 0] * 100, bins=50, alpha=0.7, edgecolor='black')\n",
    "    axes[0, 1].set_title(f'{returns.columns[0]} Returns Distribution', fontweight='bold')\n",
    "    axes[0, 1].set_xlabel('Daily Return (%)')\n",
    "    axes[0, 1].set_ylabel('Frequency')\n",
    "    axes[0, 1].axvline(x=0, color='red', linestyle='--', alpha=0.7)\n",
    "    axes[0, 1].grid(True, alpha=0.3)\n",
    "    \n",
    "    # 图3：滚动波动率\n",
    "    rolling_vol = returns.rolling(window=30).std() * np.sqrt(252) * 100  # 年化波动率\n",
    "    axes[1, 0].plot(rolling_vol.index, rolling_vol.iloc[:, 0], linewidth=2)\n",
    "    axes[1, 0].set_title(f'{returns.columns[0]} Rolling 30-Day Volatility (Annualized)', fontweight='bold')\n",
    "    axes[1, 0].set_ylabel('Volatility (%)')\n",
    "    axes[1, 0].grid(True, alpha=0.3)\n",
    "    \n",
    "    # 图4：累计收益率\n",
    "    cumulative_returns = (1 + returns).cumprod() - 1\n",
    "    for i, symbol in enumerate(cumulative_returns.columns):\n",
    "        axes[1, 1].plot(cumulative_returns.index, cumulative_returns[symbol] * 100, \n",
    "                       label=symbol, linewidth=2)\n",
    "    axes[1, 1].set_title('Cumulative Returns Comparison', fontweight='bold')\n",
    "    axes[1, 1].set_ylabel('Cumulative Return (%)')\n",
    "    axes[1, 1].legend()\n",
    "    axes[1, 1].grid(True, alpha=0.3)\n",
    "    \n",
    "    plt.tight_layout()\n",
    "    plt.show()\n",
    "    \n",
    "    # 打印汇总统计\n",
    "    print(\"📊 收益率分析摘要:\")\n",
    "    for symbol in returns.columns:\n",
    "        daily_ret = returns[symbol]\n",
    "        print(f\"\\n{symbol}:\")\n",
    "        print(f\"  📈 平均日收益率: {daily_ret.mean()*100:.3f}%\")\n",
    "        print(f\"  📉 日波动率: {daily_ret.std()*100:.3f}%\")\n",
    "        print(f\"  📊 年化波动率: {daily_ret.std()*np.sqrt(252)*100:.2f}%\")\n",
    "        print(f\"  📈 总收益率: {cumulative_returns[symbol].iloc[-1]*100:.2f}%\")"
   ]
  },
  {
   "cell_type": "markdown",
   "metadata": {},
   "source": [
    "---"
   ]
  },
  {
   "cell_type": "markdown",
   "metadata": {},
   "source": [
    "# 3. 🔧 高级Matplotlib技术\n",
    "\n",
    "## 3.1 子图和多面板布局"
   ]
  },
  {
   "cell_type": "markdown",
   "metadata": {},
   "source": [
    "---"
   ]
  },
  {
   "cell_type": "code",
   "execution_count": null,
   "metadata": {},
   "outputs": [],
   "source": [
    "if 'AAPL' in stocks:\n",
    "    apple = stocks['AAPL'].copy()\n",
    "    \n",
    "    # 计算技术指标\n",
    "    apple['MA_20'] = apple['Close'].rolling(window=20).mean()\n",
    "    apple['MA_50'] = apple['Close'].rolling(window=50).mean()\n",
    "    apple['Returns'] = apple['Close'].pct_change()\n",
    "    apple['Volatility'] = apple['Returns'].rolling(window=30).std() * np.sqrt(252) * 100\n",
    "    \n",
    "    # 创建复杂的子图布局\n",
    "    fig = plt.figure(figsize=(16, 12))\n",
    "    \n",
    "    # 定义网格布局（3行，2列）\n",
    "    gs = fig.add_gridspec(3, 2, hspace=0.3, wspace=0.3, height_ratios=[2, 1, 1])\n",
    "    \n",
    "    # 主价格图（跨2列）\n",
    "    ax1 = fig.add_subplot(gs[0, :])\n",
    "    ax1.plot(apple.index, apple['Close'], label='Close Price', linewidth=2, color='blue')\n",
    "    ax1.plot(apple.index, apple['MA_20'], label='20-day MA', linewidth=2, color='orange')\n",
    "    ax1.plot(apple.index, apple['MA_50'], label='50-day MA', linewidth=2, color='green')\n",
    "    ax1.set_title('AAPL Stock Analysis Dashboard', fontsize=16, fontweight='bold')\n",
    "    ax1.set_ylabel('Price ($)', fontsize=12)\n",
    "    ax1.legend()\n",
    "    ax1.grid(True, alpha=0.3)\n",
    "    \n",
    "    # 成交量图\n",
    "    ax2 = fig.add_subplot(gs[1, 0])\n",
    "    ax2.bar(apple.index, apple['Volume']/1e6, alpha=0.7, color='purple')\n",
    "    ax2.set_title('Trading Volume', fontweight='bold')\n",
    "    ax2.set_ylabel('Volume (Millions)')\n",
    "    ax2.grid(True, alpha=0.3)\n",
    "    \n",
    "    # 收益率分布\n",
    "    ax3 = fig.add_subplot(gs[1, 1])\n",
    "    ax3.hist(apple['Returns'].dropna() * 100, bins=50, alpha=0.7, color='red', edgecolor='black')\n",
    "    ax3.set_title('Returns Distribution', fontweight='bold')\n",
    "    ax3.set_xlabel('Daily Return (%)')\n",
    "    ax3.set_ylabel('Frequency')\n",
    "    ax3.axvline(x=0, color='black', linestyle='--', alpha=0.7)\n",
    "    ax3.grid(True, alpha=0.3)\n",
    "    \n",
    "    # 滚动波动率\n",
    "    ax4 = fig.add_subplot(gs[2, :])\n",
    "    ax4.plot(apple.index, apple['Volatility'], linewidth=2, color='darkred')\n",
    "    ax4.set_title('Rolling 30-Day Volatility (Annualized)', fontweight='bold')\n",
    "    ax4.set_ylabel('Volatility (%)')\n",
    "    ax4.set_xlabel('Date')\n",
    "    ax4.grid(True, alpha=0.3)\n",
    "    \n",
    "    # 格式化x轴日期\n",
    "    for ax in [ax2, ax4]:\n",
    "        fig.autofmt_xdate()\n",
    "    \n",
    "    plt.show()\n",
    "    \n",
    "    print(\"📊 高级多面板金融仪表板\")\n",
    "    print(\"🎛️ 特性：价格图、成交量、收益率分布、波动率\")"
   ]
  },
  {
   "cell_type": "markdown",
   "metadata": {},
   "source": [
    "---"
   ]
  },
  {
   "cell_type": "markdown",
   "metadata": {},
   "source": [
    "## 3.2 双Y轴图"
   ]
  },
  {
   "cell_type": "markdown",
   "metadata": {},
   "source": [
    "---"
   ]
  },
  {
   "cell_type": "code",
   "execution_count": null,
   "metadata": {},
   "outputs": [],
   "source": [
    "if 'AAPL' in stocks:\n",
    "    apple = stocks['AAPL'].tail(60)  # Last 60 days for clarity\n",
    "    \n",
    "    fig, ax1 = plt.subplots(figsize=(14, 8))\n",
    "    \n",
    "    # 主Y轴：价格\n",
    "    color1 = 'tab:blue'\n",
    "    ax1.set_xlabel('Date', fontsize=12)\n",
    "    ax1.set_ylabel('Price ($)', color=color1, fontsize=12)\n",
    "    line1 = ax1.plot(apple.index, apple['Close'], color=color1, linewidth=3, label='Close Price')\n",
    "    ax1.tick_params(axis='y', labelcolor=color1)\n",
    "    ax1.grid(True, alpha=0.3)\n",
    "    \n",
    "    # 次Y轴：成交量\n",
    "    ax2 = ax1.twinx()\n",
    "    color2 = 'tab:red'\n",
    "    ax2.set_ylabel('Volume (Millions)', color=color2, fontsize=12)\n",
    "    bars = ax2.bar(apple.index, apple['Volume']/1e6, alpha=0.4, color=color2, \n",
    "                   width=0.8, label='Volume')\n",
    "    ax2.tick_params(axis='y', labelcolor=color2)\n",
    "    \n",
    "    # 标题和格式化\n",
    "    ax1.set_title('AAPL: Price vs Volume (Dual Y-Axis)', fontsize=16, fontweight='bold')\n",
    "    \n",
    "    # 组合图例\n",
    "    lines1, labels1 = ax1.get_legend_handles_labels()\n",
    "    lines2, labels2 = ax2.get_legend_handles_labels()\n",
    "    ax1.legend(lines1 + lines2, labels1 + labels2, loc='upper left')\n",
    "    \n",
    "    # 格式化日期\n",
    "    fig.autofmt_xdate()\n",
    "    \n",
    "    plt.tight_layout()\n",
    "    plt.show()\n",
    "    \n",
    "    print(\"📊 双Y轴图：价格和成交量\")\n",
    "    print(\"💡 在比较不同尺度的指标时很有用\")"
   ]
  },
  {
   "cell_type": "markdown",
   "metadata": {},
   "source": [
    "---"
   ]
  },
  {
   "cell_type": "markdown",
   "metadata": {},
   "source": [
    "# 4. 🎨 使用Seaborn进行统计可视化\n",
    "\n",
    "## 4.1 相关性分析"
   ]
  },
  {
   "cell_type": "markdown",
   "metadata": {},
   "source": [
    "---"
   ]
  },
  {
   "cell_type": "code",
   "execution_count": null,
   "metadata": {},
   "outputs": [],
   "source": [
    "if len(stocks) > 1:\n",
    "    # 计算收益率的相关性矩阵\n",
    "    returns = close_prices.pct_change().dropna()\n",
    "    correlation_matrix = returns.corr()\n",
    "    \n",
    "    # 创建相关性热力图\n",
    "    plt.figure(figsize=(10, 8))\n",
    "    \n",
    "    # 使用自定义样式的seaborn热力图\n",
    "    mask = np.triu(np.ones_like(correlation_matrix, dtype=bool))  # 掩码上三角\n",
    "    \n",
    "    sns.heatmap(correlation_matrix, \n",
    "                mask=mask,\n",
    "                annot=True, \n",
    "                cmap='RdYlBu_r', \n",
    "                center=0,\n",
    "                square=True, \n",
    "                fmt='.3f',\n",
    "                cbar_kws={'label': 'Correlation Coefficient'})\n",
    "    \n",
    "    plt.title('Stock Returns Correlation Matrix', fontsize=16, fontweight='bold')\n",
    "    plt.tight_layout()\n",
    "    plt.show()\n",
    "    \n",
    "    print(\"📊 股票收益率的相关性热力图\")\n",
    "    print(\"🔍 相关性越高 = 价格走势越相似\")\n",
    "\n",
    "    # 打印相关性洞察\n",
    "    print(\"\\n📈 相关性洞察:\")\n",
    "    high_corr_pairs = []\n",
    "    for i in range(len(correlation_matrix.columns)):\n",
    "        for j in range(i+1, len(correlation_matrix.columns)):\n",
    "            corr_value = correlation_matrix.iloc[i, j]\n",
    "            if corr_value > 0.7:\n",
    "                high_corr_pairs.append((correlation_matrix.columns[i], \n",
    "                                      correlation_matrix.columns[j], \n",
    "                                      corr_value))\n",
    "    \n",
    "    if high_corr_pairs:\n",
    "        for stock1, stock2, corr in high_corr_pairs:\n",
    "            print(f\"  🔗 {stock1} & {stock2}: {corr:.3f} (高相关性)\")\n",
    "    else:\n",
    "        print(\"  📊 未找到高度相关的配对 (>0.7)\")\n"
   ]
  },
  {
   "cell_type": "markdown",
   "metadata": {},
   "source": [
    "---"
   ]
  },
  {
   "cell_type": "markdown",
   "metadata": {},
   "source": [
    "## 4.2 分布分析\n"
   ]
  },
  {
   "cell_type": "markdown",
   "metadata": {},
   "source": [
    "---"
   ]
  },
  {
   "cell_type": "code",
   "execution_count": null,
   "metadata": {},
   "outputs": [],
   "source": [
    "if len(stocks) > 0:\n",
    "    returns = close_prices.pct_change().dropna() * 100  # 转换为百分比\n",
    "    \n",
    "    fig, axes = plt.subplots(2, 2, figsize=(16, 12))\n",
    "    \n",
    "    # 图1：多重分布\n",
    "    for symbol in returns.columns:\n",
    "        sns.histplot(returns[symbol], kde=True, alpha=0.6, label=symbol, ax=axes[0, 0])\n",
    "    axes[0, 0].set_title('Returns Distribution Comparison', fontweight='bold')\n",
    "    axes[0, 0].set_xlabel('Daily Return (%)')\n",
    "    axes[0, 0].legend()\n",
    "    axes[0, 0].axvline(x=0, color='black', linestyle='--', alpha=0.7)\n",
    "    \n",
    "    # 图2：箱线图 - 五数概括可视化\n",
    "    # 箱线图显示五数概括：最小值、第一四分位数（Q1）、\n",
    "    # 中位数（Q2）、第三四分位数（Q3）和最大值\n",
    "    # - 箱体跨越Q1到Q3（四分位距，IQR），包含50%的数据\n",
    "    # - 箱体内部的线显示中位数（Q2）\n",
    "    # - 须线延伸到箱体边缘外的1.5*IQR\n",
    "    # - 须线之外的点是异常值（潜在的极端市场事件）\n",
    "    # 金融意义：帮助识别收益率对称性、波动率聚集，\n",
    "    # 以及可能需要风险管理关注的极端市场事件\n",
    "    sns.boxplot(data=returns, ax=axes[0, 1])\n",
    "    axes[0, 1].set_title('Returns Box Plots', fontweight='bold')\n",
    "    axes[0, 1].set_ylabel('Daily Return (%)')\n",
    "    axes[0, 1].tick_params(axis='x', rotation=45)\n",
    "\n",
    "    # 图3：小提琴图 - 分布形状 + 箱线图组合\n",
    "    # 小提琴图结合了箱线图和核密度估计（KDE）\n",
    "    # - 宽度变化显示不同收益率水平的概率密度\n",
    "    # - 较宽的部分 = 观察到这些收益值的较高概率\n",
    "    # - 白点代表中位数\n",
    "    # - 粗黑条显示四分位距（Q1到Q3）\n",
    "    # - 细黑线延伸到数据极值（在1.5*IQR内）\n",
    "    # 金融应用：揭示分布形状（正态、偏态、双峰）、\n",
    "    # 尾部厚度（厚尾表明极端事件概率更高）、\n",
    "    # 并帮助评估投资组合模型的收益率分布假设\n",
    "    sns.violinplot(data=returns, ax=axes[1, 0])\n",
    "    axes[1, 0].set_title('Returns Violin Plots', fontweight='bold')\n",
    "    axes[1, 0].set_ylabel('Daily Return (%)')\n",
    "    axes[1, 0].tick_params(axis='x', rotation=45)\n",
    "\n",
    "    # 图4：Q-Q图（分位数-分位数图）- 正态性评估\n",
    "    # Q-Q图将样本数据的分位数与理论正态分布进行比较\n",
    "    # - 对角线参考线代表完美的正态分布\n",
    "    # - 接近线的点表明数据遵循正态分布\n",
    "    # - S形曲线表明偏态分布（左偏=凹，右偏=凸）\n",
    "    # - 极端处的偏离点表明厚尾（极端事件概率更高）\n",
    "    # 金融重要性：许多风险模型（VaR，投资组合优化）假设正态性。\n",
    "    # 偏离正态性需要替代模型或风险调整。\n",
    "    # 厚尾尤其关键，因为它们低估了极端损失概率。\n",
    "    from scipy import stats\n",
    "    symbol = returns.columns[0]  # Use first stock\n",
    "    stats.probplot(returns[symbol], dist=\"norm\", plot=axes[1, 1])\n",
    "    axes[1, 1].set_title(f'{symbol} Q-Q Plot (Normality Check)', fontweight='bold')\n",
    "    axes[1, 1].grid(True, alpha=0.3)\n",
    "    \n",
    "    plt.tight_layout()\n",
    "    plt.show()\n",
    "    \n",
    "    print(\"📊 金融收益率的高级统计分布分析\")\n",
    "    print(\"📦 箱线图：五数概括揭示异常值和收益率对称性\")\n",
    "    print(\"   - 箱体边缘显示Q1（第25百分位数）和Q3（第75百分位数）\")\n",
    "    print(\"   - 中位数线将数据分成两半，须线延伸到合理的极值\")\n",
    "    print(\"   - 须线之外的异常值可能表明需要关注的极端市场事件\")\n",
    "    print(\"🎻 小提琴图：结合箱线图和概率密度可视化\")\n",
    "    print(\"   - 宽度变化揭示每个水平的收益率概率\")\n",
    "    print(\"   - 较厚的部分 = 观察到这些收益的较高可能性\")\n",
    "    print(\"   - 形状揭示分布特征（正态、偏态、多峰）\")\n",
    "    print(\"📐 Q-Q图：金融风险模型的基本正态性评估\")\n",
    "    print(\"   - 沿对角线的点 = 正态分布（许多模型假设这一点）\")\n",
    "    print(\"   - S曲线表明偏度，末端偏离显示厚尾\")\n",
    "    print(\"   - 厚尾很关键：正态模型低估了极端损失风险\")\n",
    "    print(\"💡 金融影响：非正态分布需要稳健的风险模型和压力测试\")"
   ]
  },
  {
   "cell_type": "markdown",
   "metadata": {},
   "source": [
    "---"
   ]
  },
  {
   "cell_type": "markdown",
   "metadata": {},
   "source": [
    "## 4.3 配对图分析"
   ]
  },
  {
   "cell_type": "markdown",
   "metadata": {},
   "source": [
    "---"
   ]
  },
  {
   "cell_type": "code",
   "execution_count": null,
   "metadata": {},
   "outputs": [],
   "source": [
    "if len(stocks) >= 3:  # 至少需要3只股票进行有意义的配对图\n",
    "    returns = close_prices.pct_change().dropna() * 100\n",
    "    \n",
    "    # 创建配对图\n",
    "    g = sns.pairplot(returns, \n",
    "                     diag_kind='kde',  # 对角线上的KDE图\n",
    "                     plot_kws={'alpha': 0.6, 's': 20},  # 散点图样式\n",
    "                     diag_kws={'shade': True})  # KDE样式\n",
    "    \n",
    "    g.fig.suptitle('Stock Returns Pair Plot Analysis', fontsize=16, fontweight='bold', y=1.02)\n",
    "    \n",
    "    # 在上三角添加相关系数\n",
    "    def corrfunc(x, y, **kws):\n",
    "        r = np.corrcoef(x, y)[0][1]\n",
    "        ax = plt.gca()\n",
    "        ax.annotate(f'ρ = {r:.3f}', xy=(0.1, 0.9), xycoords=ax.transAxes,\n",
    "                   fontsize=12, fontweight='bold')\n",
    "    \n",
    "    g.map_upper(corrfunc)\n",
    "    \n",
    "    plt.show()\n",
    "    \n",
    "    print(\"📊 配对图分析显示所有股票对之间的关系\")\n",
    "    print(\"📈 对角线：每只股票收益率的分布\")\n",
    "    print(\"📉 非对角线：显示相关性的散点图\")\n",
    "    print(\"ρ：每对的相关系数\")"
   ]
  },
  {
   "cell_type": "markdown",
   "metadata": {},
   "source": [
    "---"
   ]
  },
  {
   "cell_type": "markdown",
   "metadata": {},
   "source": [
    "# 5. 📈 使用MPLFinance的金融专用图表\n",
    "\n",
    "## 5.1 K线图"
   ]
  },
  {
   "cell_type": "markdown",
   "metadata": {},
   "source": [
    "---"
   ]
  },
  {
   "cell_type": "code",
   "execution_count": null,
   "metadata": {},
   "outputs": [],
   "source": [
    "try:\n",
    "    import mplfinance as mpf\n",
    "    mplfinance_available = True\n",
    "    print(\"✅ mplfinance 导入成功\")\n",
    "except ImportError:\n",
    "    mplfinance_available = False\n",
    "    print(\"⚠️ mplfinance 不可用。使用以下命令安装: pip install mplfinance\")\n",
    "\n",
    "if mplfinance_available and 'AAPL' in stocks:\n",
    "    # 为mplfinance准备数据（需要特定的列名）\n",
    "    apple_data = stocks['AAPL'].copy()\n",
    "    apple_data.columns = ['Open', 'High', 'Low', 'Close', 'Volume', 'Dividends', 'Stock Splits']\n",
    "    \n",
    "    # 使用近期数据以获得更好的可见性\n",
    "    recent_data = apple_data.tail(60)\n",
    "    \n",
    "    # 基本K线图\n",
    "    mpf.plot(recent_data,\n",
    "             type='candle',\n",
    "             style='yahoo',\n",
    "             volume=True,\n",
    "             title='AAPL Candlestick Chart (Last 60 Days)',\n",
    "             ylabel='Price ($)',\n",
    "             figsize=(14, 10))\n",
    "    \n",
    "    print(\"🕯️ K线图创建成功\")\n",
    "    print(\"📊 绿色蜡烛 = 价格上涨，红色蜡烛 = 价格下跌\")\n",
    "    print(\"📈 每个蜡烛显示当天的开盘价、最高价、最低价、收盘价\")\n",
    "else:\n",
    "    print(\"⚠️ 跳过K线图 - mplfinance不可用或无数据\")"
   ]
  },
  {
   "cell_type": "markdown",
   "metadata": {},
   "source": [
    "---"
   ]
  },
  {
   "cell_type": "markdown",
   "metadata": {},
   "source": [
    "## 5.2 带技术指标的高级K线图"
   ]
  },
  {
   "cell_type": "markdown",
   "metadata": {},
   "source": [
    "---"
   ]
  },
  {
   "cell_type": "code",
   "execution_count": null,
   "metadata": {},
   "outputs": [],
   "source": [
    "if mplfinance_available and 'AAPL' in stocks:\n",
    "    # 使用更多数据用于移动平均线\n",
    "    chart_data = apple_data.tail(100)\n",
    "\n",
    "    # 创建自定义样式\n",
    "    custom_style = mpf.make_mpf_style(\n",
    "        marketcolors=mpf.make_marketcolors(\n",
    "            up='#00ff00',      # 上涨蜡烛为绿色\n",
    "            down='#ff0000',    # 下跌蜡烛为红色\n",
    "            edge='inherit',\n",
    "            wick={'up': '#00ff00', 'down': '#ff0000'},\n",
    "            volume='in'\n",
    "        ),\n",
    "        gridaxis='both',\n",
    "        gridstyle='-',\n",
    "        y_on_right=True\n",
    "    )\n",
    "\n",
    "    # 绘制带移动平均线的图\n",
    "    mpf.plot(chart_data,\n",
    "             type='candle',\n",
    "             style=custom_style,\n",
    "             volume=True,\n",
    "             mav=(5, 10, 20),  # 移动平均线：5, 10, 20天\n",
    "             title='AAPL Advanced Candlestick Chart with Moving Averages',\n",
    "             ylabel='Price ($)',\n",
    "             figsize=(16, 12),\n",
    "             savefig='apple_candlestick.png')  # 保存图表\n",
    "    \n",
    "    print(\"🕯️ 带技术指标的高级K线图\")\n",
    "    print(\"📈 移动平均线：5日（最快）、10日、20日（最慢）\")\n",
    "    print(\"💾 图表已保存为 'apple_candlestick.png'\")\n",
    "else:\n",
    "    print(\"⚠️ 跳过高级K线图\")\n"
   ]
  },
  {
   "cell_type": "markdown",
   "metadata": {},
   "source": [
    "---"
   ]
  },
  {
   "cell_type": "markdown",
   "metadata": {},
   "source": [
    "## 5.3 自定义金融指标"
   ]
  },
  {
   "cell_type": "markdown",
   "metadata": {},
   "source": [
    "---"
   ]
  },
  {
   "cell_type": "code",
   "execution_count": null,
   "metadata": {},
   "outputs": [],
   "source": [
    "if 'AAPL' in stocks:\n",
    "    apple = stocks['AAPL'].copy()\n",
    "    \n",
    "    # 计算技术指标\n",
    "    # 简单移动平均线\n",
    "    apple['SMA_20'] = apple['Close'].rolling(window=20).mean()\n",
    "    apple['SMA_50'] = apple['Close'].rolling(window=50).mean()\n",
    "    \n",
    "    # 布林带\n",
    "    apple['BB_Middle'] = apple['Close'].rolling(window=20).mean()\n",
    "    apple['BB_Std'] = apple['Close'].rolling(window=20).std()\n",
    "    apple['BB_Upper'] = apple['BB_Middle'] + (apple['BB_Std'] * 2)\n",
    "    apple['BB_Lower'] = apple['BB_Middle'] - (apple['BB_Std'] * 2)\n",
    "    \n",
    "    # RSI（相对强弱指数）\n",
    "    def calculate_rsi(prices, period=14):\n",
    "        delta = prices.diff()\n",
    "        gain = (delta.where(delta > 0, 0)).rolling(window=period).mean()\n",
    "        loss = (-delta.where(delta < 0, 0)).rolling(window=period).mean()\n",
    "        rs = gain / loss\n",
    "        rsi = 100 - (100 / (1 + rs))\n",
    "        return rsi\n",
    "    \n",
    "    apple['RSI'] = calculate_rsi(apple['Close'])\n",
    "    \n",
    "    # 创建综合技术分析图\n",
    "    fig, (ax1, ax2, ax3) = plt.subplots(3, 1, figsize=(16, 14), \n",
    "                                        gridspec_kw={'height_ratios': [3, 1, 1]})\n",
    "    \n",
    "    # 近期数据以获得更好的可见性\n",
    "    recent = apple.tail(120)\n",
    "    \n",
    "    # 图1：带布林带和移动平均线的价格\n",
    "    ax1.plot(recent.index, recent['Close'], label='Close Price', linewidth=2, color='blue')\n",
    "    ax1.plot(recent.index, recent['SMA_20'], label='SMA 20', linewidth=2, color='orange')\n",
    "    ax1.plot(recent.index, recent['SMA_50'], label='SMA 50', linewidth=2, color='green')\n",
    "    \n",
    "    # 布林带\n",
    "    ax1.plot(recent.index, recent['BB_Upper'], label='BB Upper', linewidth=1, color='red', alpha=0.7)\n",
    "    ax1.plot(recent.index, recent['BB_Lower'], label='BB Lower', linewidth=1, color='red', alpha=0.7)\n",
    "    ax1.fill_between(recent.index, recent['BB_Upper'], recent['BB_Lower'], \n",
    "                     alpha=0.1, color='gray', label='BB Band')\n",
    "    \n",
    "    ax1.set_title('AAPL Technical Analysis Dashboard', fontsize=16, fontweight='bold')\n",
    "    ax1.set_ylabel('Price ($)', fontsize=12)\n",
    "    ax1.legend(loc='upper left')\n",
    "    ax1.grid(True, alpha=0.3)\n",
    "    \n",
    "    # 图2：成交量\n",
    "    volume_colors = ['green' if close >= open_ else 'red' \n",
    "                     for close, open_ in zip(recent['Close'], recent['Open'])]\n",
    "    ax2.bar(recent.index, recent['Volume']/1e6, color=volume_colors, alpha=0.7)\n",
    "    ax2.set_ylabel('Volume (Millions)', fontsize=12)\n",
    "    ax2.grid(True, alpha=0.3)\n",
    "    \n",
    "    # 图3：RSI\n",
    "    ax3.plot(recent.index, recent['RSI'], linewidth=2, color='purple')\n",
    "    ax3.axhline(y=70, color='red', linestyle='--', alpha=0.7, label='Overbought (70)')\n",
    "    ax3.axhline(y=30, color='green', linestyle='--', alpha=0.7, label='Oversold (30)')\n",
    "    ax3.axhline(y=50, color='black', linestyle='-', alpha=0.5)\n",
    "    ax3.set_ylabel('RSI', fontsize=12)\n",
    "    ax3.set_xlabel('Date', fontsize=12)\n",
    "    ax3.set_ylim(0, 100)\n",
    "    ax3.legend()\n",
    "    ax3.grid(True, alpha=0.3)\n",
    "    \n",
    "    # 格式化日期\n",
    "    fig.autofmt_xdate()\n",
    "    plt.tight_layout()\n",
    "    plt.show()\n",
    "    \n",
    "    print(\"📊 综合技术分析仪表板\")\n",
    "    print(\"📈 布林带：价格波动率和潜在的支撑/阻力\")\n",
    "    print(\"📉 RSI：超买 (>70) 和超卖 (<30) 条件\")\n",
    "    print(\"📊 成交量：带颜色编码价格方向的交易活动\")"
   ]
  },
  {
   "cell_type": "markdown",
   "metadata": {},
   "source": [
    "---"
   ]
  },
  {
   "cell_type": "markdown",
   "metadata": {},
   "source": [
    "# 6. 🎯 最佳实践和专业提示\n",
    "\n",
    "## 6.1 配色方案和样式"
   ]
  },
  {
   "cell_type": "markdown",
   "metadata": {},
   "source": [
    "---"
   ]
  },
  {
   "cell_type": "code",
   "execution_count": null,
   "metadata": {},
   "outputs": [],
   "source": [
    "if len(stocks) > 0:\n",
    "    # 定义专业调色板\n",
    "    financial_colors = {\n",
    "        'profit': '#2E8B57',     # Sea Green\n",
    "        'loss': '#DC143C',       # Crimson\n",
    "        'neutral': '#4682B4',    # Steel Blue\n",
    "        'volume': '#708090',     # Slate Gray\n",
    "        'ma_short': '#FF8C00',   # Dark Orange\n",
    "        'ma_long': '#32CD32',    # Lime Green\n",
    "        'background': '#F5F5F5'  # White Smoke\n",
    "    }\n",
    "\n",
    "    fig, ax = plt.subplots(figsize=(14, 8))\n",
    "    \n",
    "    # 设置背景颜色\n",
    "    fig.patch.set_facecolor(financial_colors['background'])\n",
    "    ax.set_facecolor('white')\n",
    "    \n",
    "    # 使用专业样式绘制标准化价格\n",
    "    normalized_prices = close_prices.div(close_prices.iloc[0]) * 100\n",
    "    \n",
    "    colors = ['#1f77b4', '#ff7f0e', '#2ca02c', '#d62728', '#9467bd']\n",
    "    \n",
    "    for i, symbol in enumerate(normalized_prices.columns):\n",
    "        ax.plot(normalized_prices.index, normalized_prices[symbol],\n",
    "                label=symbol, linewidth=2.5, color=colors[i % len(colors)])\n",
    "    \n",
    "    # 专业样式\n",
    "    ax.set_title('Stock Performance Comparison\\nProfessional Styling Example', \n",
    "                fontsize=16, fontweight='bold', pad=20)\n",
    "    ax.set_xlabel('Date', fontsize=12, fontweight='bold')\n",
    "    ax.set_ylabel('Normalized Price (Base = 100)', fontsize=12, fontweight='bold')\n",
    "    \n",
    "    # 自定义图例\n",
    "    legend = ax.legend(loc='upper left', frameon=True, fancybox=True, \n",
    "                      shadow=True, framealpha=0.9)\n",
    "    legend.get_frame().set_facecolor('white')\n",
    "    \n",
    "    # 网格样式\n",
    "    ax.grid(True, linestyle='--', alpha=0.7, color='gray')\n",
    "    ax.set_axisbelow(True)\n",
    "    \n",
    "    # 参考线\n",
    "    ax.axhline(y=100, color='black', linestyle='-', alpha=0.8, linewidth=1)\n",
    "    \n",
    "    # 移除顶部和右侧脊柱\n",
    "    ax.spines['top'].set_visible(False)\n",
    "    ax.spines['right'].set_visible(False)\n",
    "    \n",
    "    # 格式化日期\n",
    "    fig.autofmt_xdate()\n",
    "    \n",
    "    plt.tight_layout()\n",
    "    plt.show()\n",
    "    \n",
    "    print(\"🎨 演示的专业样式技术:\")\n",
    "    print(\"  📊 金融数据的自定义调色板\")\n",
    "    print(\"  🎭 干净的背景和网格样式\")\n",
    "    print(\"  📝 专业的图例和轴格式化\")\n",
    "    print(\"  ✨ 移除了不必要的图表元素（顶部/右侧脊柱）\")\n"
   ]
  },
  {
   "cell_type": "markdown",
   "metadata": {},
   "source": [
    "---"
   ]
  },
  {
   "cell_type": "markdown",
   "metadata": {},
   "source": [
    "## 6.2 导出和保存格式"
   ]
  },
  {
   "cell_type": "markdown",
   "metadata": {},
   "source": [
    "---"
   ]
  },
  {
   "cell_type": "code",
   "execution_count": null,
   "metadata": {},
   "outputs": [],
   "source": [
    "if 'AAPL' in stocks:\n",
    "    apple = stocks['AAPL'].tail(60)\n",
    "    \n",
    "    # 创建用于导出的高质量图表\n",
    "    fig, ax = plt.subplots(figsize=(12, 8))\n",
    "    \n",
    "    # 绘制数据\n",
    "    ax.plot(apple.index, apple['Close'], linewidth=3, color='#1f77b4', label='AAPL Close')\n",
    "    ax.plot(apple.index, apple['Close'].rolling(20).mean(), \n",
    "            linewidth=2, color='#ff7f0e', label='20-day MA')\n",
    "    \n",
    "    # 专业格式化\n",
    "    ax.set_title('AAPL Stock Price - Export Quality Chart', \n",
    "                fontsize=16, fontweight='bold')\n",
    "    ax.set_xlabel('Date', fontsize=14)\n",
    "    ax.set_ylabel('Price ($)', fontsize=14)\n",
    "    ax.legend(fontsize=12)\n",
    "    ax.grid(True, alpha=0.3)\n",
    "    \n",
    "    # 移除顶部和右侧脊柱\n",
    "    ax.spines['top'].set_visible(False)\n",
    "    ax.spines['right'].set_visible(False)\n",
    "    \n",
    "    fig.autofmt_xdate()\n",
    "    plt.tight_layout()\n",
    "    \n",
    "    # 以多种格式导出\n",
    "    export_formats = {\n",
    "        'PNG (High DPI)': {'format': 'png', 'dpi': 300, 'bbox_inches': 'tight'},\n",
    "        'PDF (Vector)': {'format': 'pdf', 'dpi': 300, 'bbox_inches': 'tight'},\n",
    "        'SVG (Web)': {'format': 'svg', 'bbox_inches': 'tight'}\n",
    "    }\n",
    "    \n",
    "    print(\"💾 以多种格式导出图表:\")\n",
    "    \n",
    "    for name, params in export_formats.items():\n",
    "        filename = f\"aapl_chart.{params['format']}\"\n",
    "        plt.savefig(filename, **params)\n",
    "        print(f\"  ✅ {name}: {filename}\")\n",
    "    \n",
    "    plt.show()\n",
    "    \n",
    "    print(\"\\n📄 导出格式指南:\")\n",
    "    print(\"  🖼️  PNG：最适合演示和网页（高质量，文件较大）\")\n",
    "    print(\"  📑 PDF：完美适合报告和打印（矢量格式，可缩放）\")\n",
    "    print(\"  🌐 SVG：Web应用程序和交互式图表（矢量，XML）\")\n",
    "    print(\"  📸 JPG：社交媒体和电子邮件（压缩，文件较小）\")\n",
    "    print(\"\\n💡 专业提示：打印使用DPI 300+，网页使用150-200\")"
   ]
  },
  {
   "cell_type": "markdown",
   "metadata": {},
   "source": [
    "---"
   ]
  },
  {
   "cell_type": "markdown",
   "metadata": {},
   "source": [
    "## 6.3 大型数据集的性能提示"
   ]
  },
  {
   "cell_type": "markdown",
   "metadata": {},
   "source": [
    "---"
   ]
  },
  {
   "cell_type": "code",
   "execution_count": null,
   "metadata": {},
   "outputs": [],
   "source": [
    "# 性能优化技术\n",
    "import time\n",
    "\n",
    "if len(stocks) > 0:\n",
    "    print(\"⚡ 金融数据可视化的性能优化技术:\")\n",
    "    print(\"\\n1. 📊 大型数据集的数据采样\")\n",
    "\n",
    "    # 演示数据采样\n",
    "    full_data = close_prices\n",
    "    sampled_data = full_data.iloc[::5]  # 每第5个数据点\n",
    "    \n",
    "    print(f\"   原始数据点: {len(full_data)}\")\n",
    "    print(f\"   采样数据点: {len(sampled_data)} (减少5倍)\")\n",
    "\n",
    "    # 时间比较\n",
    "    print(\"\\n2. ⏱️ 绘图速度比较\")\n",
    "    \n",
    "    # 绘制完整数据\n",
    "    start_time = time.time()\n",
    "    fig, ax = plt.subplots(figsize=(10, 6))\n",
    "    ax.plot(full_data.index, full_data.iloc[:, 0])\n",
    "    ax.set_title('Full Dataset Plotting')\n",
    "    plt.close()  # 关闭以节省内存\n",
    "    full_time = time.time() - start_time\n",
    "    \n",
    "    # 绘制采样数据\n",
    "    start_time = time.time()\n",
    "    fig, ax = plt.subplots(figsize=(10, 6))\n",
    "    ax.plot(sampled_data.index, sampled_data.iloc[:, 0])\n",
    "    ax.set_title('Sampled Dataset Plotting')\n",
    "    plt.close()  # 关闭以节省内存\n",
    "    sampled_time = time.time() - start_time\n",
    "    \n",
    "    print(f\"   完整数据集: {full_time:.4f} 秒\")\n",
    "    print(f\"   采样数据集: {sampled_time:.4f} 秒\")\n",
    "    print(f\"   速度提升: {full_time/sampled_time:.1f}倍更快\")\n",
    "\n",
    "    print(\"\\n3. 🎯 优化最佳实践:\")\n",
    "    print(\"   📉 对时间序列使用线图而不是散点图\")\n",
    "    print(\"   🎨 限制颜色数量和透明度效果\")\n",
    "    print(\"   📊 智能采样数据（保留关键点如峰值/谷值）\")\n",
    "    print(\"   💾 缓存计算指标以避免重新计算\")\n",
    "    print(\"   🖼️ 对具有许多数据点的图表使用栅格化输出\")\n",
    "    print(\"   📱 考虑对大型数据集使用交互式图表（plotly）\")\n",
    "\n",
    "    # 演示智能采样\n",
    "    print(\"\\n4. 🧠 智能采样示例:\")\n",
    "\n",
    "    def smart_sample(data, max_points=500):\n",
    "        \"\"\"采样数据同时保留重要特征\"\"\"\n",
    "        if len(data) <= max_points:\n",
    "            return data\n",
    "\n",
    "        # 计算采样间隔\n",
    "        interval = len(data) // max_points\n",
    "\n",
    "        # 取每第n个点\n",
    "        sampled_indices = list(range(0, len(data), interval))\n",
    "\n",
    "        # 始终包含最后一个点\n",
    "        if sampled_indices[-1] != len(data) - 1:\n",
    "            sampled_indices.append(len(data) - 1)\n",
    "\n",
    "        return data.iloc[sampled_indices]\n",
    "\n",
    "    smart_sampled = smart_sample(full_data)\n",
    "    print(f\"   智能采样: {len(full_data)} → {len(smart_sampled)} 点\")\n",
    "    print(f\"   保持起始点和结束点以确保准确性\")\n",
    "else:\n",
    "    print(\"⚠️ 无可用数据进行性能演示\")"
   ]
  },
  {
   "cell_type": "markdown",
   "metadata": {},
   "source": [
    "---"
   ]
  },
  {
   "cell_type": "markdown",
   "metadata": {},
   "source": [
    "# 7 总结和后续步骤"
   ]
  },
  {
   "cell_type": "markdown",
   "metadata": {},
   "source": [
    "---"
   ]
  },
  {
   "cell_type": "code",
   "execution_count": null,
   "metadata": {},
   "outputs": [],
   "source": [
    "print(\"🎓 金融数据可视化精通完成！\")\n",
    "print(\"=\" * 60)\n",
    "\n",
    "print(\"\\n📚 您学到的内容:\")\n",
    "skills = [\n",
    "    \"✅ Matplotlib基础和专业样式\",\n",
    "    \"✅ 金融时间序列可视化技术\",\n",
    "    \"✅ 高级子图布局和多轴图\",\n",
    "    \"✅ 使用Seaborn进行统计可视化\",\n",
    "    \"✅ 专业金融图表（K线，OHLC）\",\n",
    "    \"✅ 技术指标可视化\",\n",
    "    \"✅ 专业导出格式和优化\",\n",
    "    \"✅ 大型数据集的性能提示\",\n",
    "    \"✅ 金融图表设计的最佳实践\"\n",
    "]\n",
    "\n",
    "for skill in skills:\n",
    "    print(f\"  {skill}\")\n",
    "\n",
    "print(\"\\n🎯 关键要点:\")\n",
    "takeaways = {\n",
    "    \"📊 始终讲述故事\": \"您的图表应该清晰地传达洞察\",\n",
    "    \"🎨 专业外观很重要\": \"干净、样式良好的图表建立可信度\",\n",
    "    \"📈 上下文至关重要\": \"始终提供参考点和尺度\",\n",
    "    \"🔍 交互性增强参与度\": \"考虑交互式图表进行探索\",\n",
    "    \"⚡ 性能影响用户体验\": \"为您的受众和使用案例进行优化\"\n",
    "}\n",
    "\n",
    "for principle, explanation in takeaways.items():\n",
    "    print(f\"  {principle}: {explanation}\")\n",
    "\n",
    "print(\"\\n🚀 您旅程的下一步:\")\n",
    "next_steps = [\n",
    "    \"📊 练习不同的资产类别（债券、商品、加密货币）\",\n",
    "    \"🤖 探索使用matplotlib自动生成报告\",\n",
    "    \"🌐 使用Plotly Dash或Streamlit构建交互式仪表板\",\n",
    "    \"📱 创建移动响应式金融可视化\",\n",
    "    \"🎓 学习高级主题：3D图、动画、实时图表\",\n",
    "    \"💼 将这些技能应用到您自己的金融分析项目中\"\n",
    "]\n",
    "\n",
    "for step in next_steps:\n",
    "    print(f\"  {step}\")\n",
    "\n",
    "print(\"\\n📖 附加资源:\")\n",
    "resources = {\n",
    "    \"Matplotlib图库\": \"https://matplotlib.org/stable/gallery/index.html\",\n",
    "    \"Seaborn教程\": \"https://seaborn.pydata.org/tutorial.html\",\n",
    "    \"MPLFinance示例\": \"https://github.com/DanielGoldfarb/mplfinance\",\n",
    "    \"Plotly金融图表\": \"https://plotly.com/python/financial-charts/\",\n",
    "    \"Python图库\": \"https://python-graph-gallery.com/\"\n",
    "}\n",
    "\n",
    "for name, url in resources.items():\n",
    "    print(f\"  📚 {name}: {url}\")\n",
    "\n",
    "print(\"\\n🌟 记住：伟大的可视化既是艺术也是科学。\")\n",
    "print(\"    持续练习，保持好奇，始终优先考虑清晰度！\")\n",
    "print(\"\\n\" + \"=\" * 60)\n",
    "print(\"🎉 绘图愉快！ 📈📊🎨\")"
   ]
  }
 ],
 "metadata": {
  "kernelspec": {
   "display_name": "Python 3",
   "language": "python",
   "name": "python3"
  },
  "language_info": {
   "codemirror_mode": {
    "name": "ipython",
    "version": 3
   },
   "file_extension": ".py",
   "mimetype": "text/x-python",
   "name": "python",
   "nbconvert_exporter": "python",
   "pygments_lexer": "ipython3",
   "version": "3.6.8"
  }
 },
 "nbformat": 4,
 "nbformat_minor": 4
}
