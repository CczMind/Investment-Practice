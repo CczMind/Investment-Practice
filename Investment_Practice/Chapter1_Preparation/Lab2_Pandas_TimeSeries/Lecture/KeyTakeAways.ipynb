{
 "cells": [
  {
   "cell_type": "markdown",
   "id": "4411a637",
   "metadata": {},
   "source": [
    "---\n",
    "\n",
    "## 1\n",
    "\n",
    "---"
   ]
  },
  {
   "cell_type": "code",
   "execution_count": 1,
   "id": "8f863807",
   "metadata": {},
   "outputs": [],
   "source": [
    "import pandas as pd\n",
    "import numpy as np"
   ]
  },
  {
   "cell_type": "code",
   "execution_count": 3,
   "id": "845b8e04",
   "metadata": {},
   "outputs": [
    {
     "data": {
      "text/html": [
       "<div>\n",
       "<style scoped>\n",
       "    .dataframe tbody tr th:only-of-type {\n",
       "        vertical-align: middle;\n",
       "    }\n",
       "\n",
       "    .dataframe tbody tr th {\n",
       "        vertical-align: top;\n",
       "    }\n",
       "\n",
       "    .dataframe thead th {\n",
       "        text-align: right;\n",
       "    }\n",
       "</style>\n",
       "<table border=\"1\" class=\"dataframe\">\n",
       "  <thead>\n",
       "    <tr style=\"text-align: right;\">\n",
       "      <th></th>\n",
       "      <th>Open</th>\n",
       "      <th>High</th>\n",
       "      <th>Low</th>\n",
       "      <th>Close</th>\n",
       "      <th>Volume</th>\n",
       "      <th>Dividends</th>\n",
       "      <th>Stock Splits</th>\n",
       "    </tr>\n",
       "    <tr>\n",
       "      <th>Date</th>\n",
       "      <th></th>\n",
       "      <th></th>\n",
       "      <th></th>\n",
       "      <th></th>\n",
       "      <th></th>\n",
       "      <th></th>\n",
       "      <th></th>\n",
       "    </tr>\n",
       "  </thead>\n",
       "  <tbody>\n",
       "    <tr>\n",
       "      <th>2020-09-21</th>\n",
       "      <td>101.687917</td>\n",
       "      <td>107.183774</td>\n",
       "      <td>100.287201</td>\n",
       "      <td>107.076775</td>\n",
       "      <td>195713800</td>\n",
       "      <td>0.0</td>\n",
       "      <td>0.0</td>\n",
       "    </tr>\n",
       "    <tr>\n",
       "      <th>2020-09-22</th>\n",
       "      <td>109.605834</td>\n",
       "      <td>109.780924</td>\n",
       "      <td>106.181871</td>\n",
       "      <td>108.759567</td>\n",
       "      <td>183055400</td>\n",
       "      <td>0.0</td>\n",
       "      <td>0.0</td>\n",
       "    </tr>\n",
       "    <tr>\n",
       "      <th>2020-09-23</th>\n",
       "      <td>108.574771</td>\n",
       "      <td>109.051400</td>\n",
       "      <td>103.857083</td>\n",
       "      <td>104.197540</td>\n",
       "      <td>150718700</td>\n",
       "      <td>0.0</td>\n",
       "      <td>0.0</td>\n",
       "    </tr>\n",
       "  </tbody>\n",
       "</table>\n",
       "</div>"
      ],
      "text/plain": [
       "                  Open        High         Low       Close     Volume  \\\n",
       "Date                                                                    \n",
       "2020-09-21  101.687917  107.183774  100.287201  107.076775  195713800   \n",
       "2020-09-22  109.605834  109.780924  106.181871  108.759567  183055400   \n",
       "2020-09-23  108.574771  109.051400  103.857083  104.197540  150718700   \n",
       "\n",
       "            Dividends  Stock Splits  \n",
       "Date                                 \n",
       "2020-09-21        0.0           0.0  \n",
       "2020-09-22        0.0           0.0  \n",
       "2020-09-23        0.0           0.0  "
      ]
     },
     "execution_count": 3,
     "metadata": {},
     "output_type": "execute_result"
    }
   ],
   "source": [
    "apple_stock = pd.read_csv(\n",
    "    \"./AAPL_stock_data.csv\", index_col = \"Date\", parse_dates = True\n",
    ")\n",
    "apple_stock.head(3)"
   ]
  },
  {
   "cell_type": "code",
   "execution_count": 4,
   "id": "93fecb19",
   "metadata": {},
   "outputs": [
    {
     "name": "stdout",
     "output_type": "stream",
     "text": [
      "<class 'pandas.core.frame.DataFrame'>\n",
      "DatetimeIndex: 1254 entries, 2020-09-21 to 2025-09-17\n",
      "Data columns (total 7 columns):\n",
      " #   Column        Non-Null Count  Dtype  \n",
      "---  ------        --------------  -----  \n",
      " 0   Open          1254 non-null   float64\n",
      " 1   High          1254 non-null   float64\n",
      " 2   Low           1254 non-null   float64\n",
      " 3   Close         1254 non-null   float64\n",
      " 4   Volume        1254 non-null   int64  \n",
      " 5   Dividends     1254 non-null   float64\n",
      " 6   Stock Splits  1254 non-null   float64\n",
      "dtypes: float64(6), int64(1)\n",
      "memory usage: 78.4 KB\n"
     ]
    }
   ],
   "source": [
    "apple_stock.info()"
   ]
  },
  {
   "cell_type": "code",
   "execution_count": 5,
   "id": "e1851c87",
   "metadata": {},
   "outputs": [
    {
     "data": {
      "text/html": [
       "<div>\n",
       "<style scoped>\n",
       "    .dataframe tbody tr th:only-of-type {\n",
       "        vertical-align: middle;\n",
       "    }\n",
       "\n",
       "    .dataframe tbody tr th {\n",
       "        vertical-align: top;\n",
       "    }\n",
       "\n",
       "    .dataframe thead th {\n",
       "        text-align: right;\n",
       "    }\n",
       "</style>\n",
       "<table border=\"1\" class=\"dataframe\">\n",
       "  <thead>\n",
       "    <tr style=\"text-align: right;\">\n",
       "      <th></th>\n",
       "      <th>Open</th>\n",
       "      <th>High</th>\n",
       "      <th>Low</th>\n",
       "      <th>Close</th>\n",
       "      <th>Volume</th>\n",
       "      <th>Dividends</th>\n",
       "      <th>Stock Splits</th>\n",
       "    </tr>\n",
       "  </thead>\n",
       "  <tbody>\n",
       "    <tr>\n",
       "      <th>count</th>\n",
       "      <td>1254.000000</td>\n",
       "      <td>1254.000000</td>\n",
       "      <td>1254.000000</td>\n",
       "      <td>1254.000000</td>\n",
       "      <td>1.254000e+03</td>\n",
       "      <td>1254.000000</td>\n",
       "      <td>1254.0</td>\n",
       "    </tr>\n",
       "    <tr>\n",
       "      <th>mean</th>\n",
       "      <td>170.840685</td>\n",
       "      <td>172.731233</td>\n",
       "      <td>169.114972</td>\n",
       "      <td>171.013027</td>\n",
       "      <td>7.391611e+07</td>\n",
       "      <td>0.003740</td>\n",
       "      <td>0.0</td>\n",
       "    </tr>\n",
       "    <tr>\n",
       "      <th>std</th>\n",
       "      <td>36.331935</td>\n",
       "      <td>36.576027</td>\n",
       "      <td>36.118564</td>\n",
       "      <td>36.388981</td>\n",
       "      <td>3.247052e+07</td>\n",
       "      <td>0.029458</td>\n",
       "      <td>0.0</td>\n",
       "    </tr>\n",
       "    <tr>\n",
       "      <th>min</th>\n",
       "      <td>101.687917</td>\n",
       "      <td>107.183774</td>\n",
       "      <td>100.287201</td>\n",
       "      <td>104.197540</td>\n",
       "      <td>2.323470e+07</td>\n",
       "      <td>0.000000</td>\n",
       "      <td>0.0</td>\n",
       "    </tr>\n",
       "    <tr>\n",
       "      <th>25%</th>\n",
       "      <td>142.441186</td>\n",
       "      <td>144.382061</td>\n",
       "      <td>140.835627</td>\n",
       "      <td>142.785820</td>\n",
       "      <td>5.052690e+07</td>\n",
       "      <td>0.000000</td>\n",
       "      <td>0.0</td>\n",
       "    </tr>\n",
       "    <tr>\n",
       "      <th>50%</th>\n",
       "      <td>168.000910</td>\n",
       "      <td>169.855044</td>\n",
       "      <td>167.019502</td>\n",
       "      <td>168.480125</td>\n",
       "      <td>6.665190e+07</td>\n",
       "      <td>0.000000</td>\n",
       "      <td>0.0</td>\n",
       "    </tr>\n",
       "    <tr>\n",
       "      <th>75%</th>\n",
       "      <td>194.547014</td>\n",
       "      <td>197.443420</td>\n",
       "      <td>193.177027</td>\n",
       "      <td>195.668049</td>\n",
       "      <td>8.909990e+07</td>\n",
       "      <td>0.000000</td>\n",
       "      <td>0.0</td>\n",
       "    </tr>\n",
       "    <tr>\n",
       "      <th>max</th>\n",
       "      <td>257.276679</td>\n",
       "      <td>259.179926</td>\n",
       "      <td>256.718662</td>\n",
       "      <td>258.103729</td>\n",
       "      <td>3.186799e+08</td>\n",
       "      <td>0.260000</td>\n",
       "      <td>0.0</td>\n",
       "    </tr>\n",
       "  </tbody>\n",
       "</table>\n",
       "</div>"
      ],
      "text/plain": [
       "              Open         High          Low        Close        Volume  \\\n",
       "count  1254.000000  1254.000000  1254.000000  1254.000000  1.254000e+03   \n",
       "mean    170.840685   172.731233   169.114972   171.013027  7.391611e+07   \n",
       "std      36.331935    36.576027    36.118564    36.388981  3.247052e+07   \n",
       "min     101.687917   107.183774   100.287201   104.197540  2.323470e+07   \n",
       "25%     142.441186   144.382061   140.835627   142.785820  5.052690e+07   \n",
       "50%     168.000910   169.855044   167.019502   168.480125  6.665190e+07   \n",
       "75%     194.547014   197.443420   193.177027   195.668049  8.909990e+07   \n",
       "max     257.276679   259.179926   256.718662   258.103729  3.186799e+08   \n",
       "\n",
       "         Dividends  Stock Splits  \n",
       "count  1254.000000        1254.0  \n",
       "mean      0.003740           0.0  \n",
       "std       0.029458           0.0  \n",
       "min       0.000000           0.0  \n",
       "25%       0.000000           0.0  \n",
       "50%       0.000000           0.0  \n",
       "75%       0.000000           0.0  \n",
       "max       0.260000           0.0  "
      ]
     },
     "execution_count": 5,
     "metadata": {},
     "output_type": "execute_result"
    }
   ],
   "source": [
    "apple_stock.describe()"
   ]
  },
  {
   "cell_type": "code",
   "execution_count": 6,
   "id": "eed4ffa6",
   "metadata": {},
   "outputs": [
    {
     "data": {
      "text/plain": [
       "Open            1.826734e+02\n",
       "High            1.843195e+02\n",
       "Low             1.818900e+02\n",
       "Close           1.827032e+02\n",
       "Volume          5.841450e+07\n",
       "Dividends       0.000000e+00\n",
       "Stock Splits    0.000000e+00\n",
       "Name: 2024-01-03 00:00:00, dtype: float64"
      ]
     },
     "execution_count": 6,
     "metadata": {},
     "output_type": "execute_result"
    }
   ],
   "source": [
    "apple_stock.loc['2024-01-03']"
   ]
  },
  {
   "cell_type": "code",
   "execution_count": 7,
   "id": "4ef6ee20",
   "metadata": {},
   "outputs": [
    {
     "data": {
      "text/html": [
       "<div>\n",
       "<style scoped>\n",
       "    .dataframe tbody tr th:only-of-type {\n",
       "        vertical-align: middle;\n",
       "    }\n",
       "\n",
       "    .dataframe tbody tr th {\n",
       "        vertical-align: top;\n",
       "    }\n",
       "\n",
       "    .dataframe thead th {\n",
       "        text-align: right;\n",
       "    }\n",
       "</style>\n",
       "<table border=\"1\" class=\"dataframe\">\n",
       "  <thead>\n",
       "    <tr style=\"text-align: right;\">\n",
       "      <th></th>\n",
       "      <th>Open</th>\n",
       "      <th>High</th>\n",
       "      <th>Low</th>\n",
       "      <th>Close</th>\n",
       "      <th>Volume</th>\n",
       "      <th>Dividends</th>\n",
       "      <th>Stock Splits</th>\n",
       "    </tr>\n",
       "    <tr>\n",
       "      <th>Date</th>\n",
       "      <th></th>\n",
       "      <th></th>\n",
       "      <th></th>\n",
       "      <th></th>\n",
       "      <th></th>\n",
       "      <th></th>\n",
       "      <th></th>\n",
       "    </tr>\n",
       "  </thead>\n",
       "  <tbody>\n",
       "    <tr>\n",
       "      <th>2024-01-03</th>\n",
       "      <td>182.673424</td>\n",
       "      <td>184.319491</td>\n",
       "      <td>181.890048</td>\n",
       "      <td>182.703171</td>\n",
       "      <td>58414500</td>\n",
       "      <td>0.0</td>\n",
       "      <td>0.0</td>\n",
       "    </tr>\n",
       "    <tr>\n",
       "      <th>2024-01-04</th>\n",
       "      <td>180.620788</td>\n",
       "      <td>181.552899</td>\n",
       "      <td>179.361461</td>\n",
       "      <td>180.382812</td>\n",
       "      <td>71983600</td>\n",
       "      <td>0.0</td>\n",
       "      <td>0.0</td>\n",
       "    </tr>\n",
       "    <tr>\n",
       "      <th>2024-01-05</th>\n",
       "      <td>180.462163</td>\n",
       "      <td>181.225688</td>\n",
       "      <td>178.657435</td>\n",
       "      <td>179.658951</td>\n",
       "      <td>62379700</td>\n",
       "      <td>0.0</td>\n",
       "      <td>0.0</td>\n",
       "    </tr>\n",
       "    <tr>\n",
       "      <th>2024-01-08</th>\n",
       "      <td>180.561297</td>\n",
       "      <td>184.041839</td>\n",
       "      <td>179.976254</td>\n",
       "      <td>184.002167</td>\n",
       "      <td>59144500</td>\n",
       "      <td>0.0</td>\n",
       "      <td>0.0</td>\n",
       "    </tr>\n",
       "    <tr>\n",
       "      <th>2024-01-09</th>\n",
       "      <td>182.375934</td>\n",
       "      <td>183.595604</td>\n",
       "      <td>181.195922</td>\n",
       "      <td>183.585693</td>\n",
       "      <td>42841800</td>\n",
       "      <td>0.0</td>\n",
       "      <td>0.0</td>\n",
       "    </tr>\n",
       "    <tr>\n",
       "      <th>...</th>\n",
       "      <td>...</td>\n",
       "      <td>...</td>\n",
       "      <td>...</td>\n",
       "      <td>...</td>\n",
       "      <td>...</td>\n",
       "      <td>...</td>\n",
       "      <td>...</td>\n",
       "    </tr>\n",
       "    <tr>\n",
       "      <th>2025-01-03</th>\n",
       "      <td>242.499161</td>\n",
       "      <td>243.316252</td>\n",
       "      <td>241.034359</td>\n",
       "      <td>242.499161</td>\n",
       "      <td>40244100</td>\n",
       "      <td>0.0</td>\n",
       "      <td>0.0</td>\n",
       "    </tr>\n",
       "    <tr>\n",
       "      <th>2025-01-06</th>\n",
       "      <td>243.445785</td>\n",
       "      <td>246.455106</td>\n",
       "      <td>242.339711</td>\n",
       "      <td>244.133347</td>\n",
       "      <td>45045600</td>\n",
       "      <td>0.0</td>\n",
       "      <td>0.0</td>\n",
       "    </tr>\n",
       "    <tr>\n",
       "      <th>2025-01-07</th>\n",
       "      <td>242.120491</td>\n",
       "      <td>244.681407</td>\n",
       "      <td>240.496267</td>\n",
       "      <td>241.353226</td>\n",
       "      <td>40856000</td>\n",
       "      <td>0.0</td>\n",
       "      <td>0.0</td>\n",
       "    </tr>\n",
       "    <tr>\n",
       "      <th>2025-01-08</th>\n",
       "      <td>241.064252</td>\n",
       "      <td>242.847929</td>\n",
       "      <td>239.200872</td>\n",
       "      <td>241.841492</td>\n",
       "      <td>37628900</td>\n",
       "      <td>0.0</td>\n",
       "      <td>0.0</td>\n",
       "    </tr>\n",
       "    <tr>\n",
       "      <th>2025-01-10</th>\n",
       "      <td>239.161002</td>\n",
       "      <td>239.310481</td>\n",
       "      <td>232.175804</td>\n",
       "      <td>236.012192</td>\n",
       "      <td>61710900</td>\n",
       "      <td>0.0</td>\n",
       "      <td>0.0</td>\n",
       "    </tr>\n",
       "  </tbody>\n",
       "</table>\n",
       "<p>257 rows × 7 columns</p>\n",
       "</div>"
      ],
      "text/plain": [
       "                  Open        High         Low       Close    Volume  \\\n",
       "Date                                                                   \n",
       "2024-01-03  182.673424  184.319491  181.890048  182.703171  58414500   \n",
       "2024-01-04  180.620788  181.552899  179.361461  180.382812  71983600   \n",
       "2024-01-05  180.462163  181.225688  178.657435  179.658951  62379700   \n",
       "2024-01-08  180.561297  184.041839  179.976254  184.002167  59144500   \n",
       "2024-01-09  182.375934  183.595604  181.195922  183.585693  42841800   \n",
       "...                ...         ...         ...         ...       ...   \n",
       "2025-01-03  242.499161  243.316252  241.034359  242.499161  40244100   \n",
       "2025-01-06  243.445785  246.455106  242.339711  244.133347  45045600   \n",
       "2025-01-07  242.120491  244.681407  240.496267  241.353226  40856000   \n",
       "2025-01-08  241.064252  242.847929  239.200872  241.841492  37628900   \n",
       "2025-01-10  239.161002  239.310481  232.175804  236.012192  61710900   \n",
       "\n",
       "            Dividends  Stock Splits  \n",
       "Date                                 \n",
       "2024-01-03        0.0           0.0  \n",
       "2024-01-04        0.0           0.0  \n",
       "2024-01-05        0.0           0.0  \n",
       "2024-01-08        0.0           0.0  \n",
       "2024-01-09        0.0           0.0  \n",
       "...               ...           ...  \n",
       "2025-01-03        0.0           0.0  \n",
       "2025-01-06        0.0           0.0  \n",
       "2025-01-07        0.0           0.0  \n",
       "2025-01-08        0.0           0.0  \n",
       "2025-01-10        0.0           0.0  \n",
       "\n",
       "[257 rows x 7 columns]"
      ]
     },
     "execution_count": 7,
     "metadata": {},
     "output_type": "execute_result"
    }
   ],
   "source": [
    "apple_stock.loc['2024-01-03':'2025-01-10']"
   ]
  },
  {
   "cell_type": "code",
   "execution_count": 9,
   "id": "efb131cd",
   "metadata": {},
   "outputs": [
    {
     "name": "stdout",
     "output_type": "stream",
     "text": [
      "Index([2020, 2021, 2022, 2023, 2024, 2025], dtype='int32', name='Date')\n"
     ]
    }
   ],
   "source": [
    "available_years = apple_stock.index.year.unique()\n",
    "print(available_years)"
   ]
  },
  {
   "cell_type": "code",
   "execution_count": 18,
   "id": "674ee2a1",
   "metadata": {},
   "outputs": [
    {
     "name": "stdout",
     "output_type": "stream",
     "text": [
      "2025\n",
      "                  Open        High         Low       Close    Volume  Dividends  Stock Splits\n",
      "Date                                                                                         \n",
      "2025-09-15  237.000000  238.190002  235.029999  236.699997  42699500        0.0           0.0\n",
      "2025-09-16  237.179993  241.220001  236.320007  238.149994  63421100        0.0           0.0\n",
      "2025-09-17  238.970001  240.100006  237.729996  238.990005  46435200        0.0           0.0\n"
     ]
    }
   ],
   "source": [
    "target_year = available_years[-1]\n",
    "print(target_year)\n",
    "year_data = apple_stock[apple_stock.index.year == target_year]\n",
    "print(year_data.tail(3).to_string())"
   ]
  },
  {
   "cell_type": "code",
   "execution_count": 17,
   "id": "f84a9ef3",
   "metadata": {},
   "outputs": [
    {
     "name": "stdout",
     "output_type": "stream",
     "text": [
      "1\n",
      "                  Open        High         Low       Close     Volume  Dividends  Stock Splits\n",
      "Date                                                                                          \n",
      "2025-01-29  233.291836  239.011537  233.182224  238.513306   45486100        0.0           0.0\n",
      "2025-01-30  237.825739  239.938235  236.370912  236.749557   55658300        0.0           0.0\n",
      "2025-01-31  246.315611  246.315611  232.614250  235.165192  100959800        0.0           0.0\n"
     ]
    }
   ],
   "source": [
    "target_month = year_data.index[0].month\n",
    "print(target_month)\n",
    "month_data = apple_stock[(apple_stock.index.year == target_year) & (apple_stock.index.month == target_month)]\n",
    "print(month_data.tail(3).to_string())"
   ]
  },
  {
   "cell_type": "code",
   "execution_count": 24,
   "id": "dba33ed7",
   "metadata": {},
   "outputs": [
    {
     "name": "stdout",
     "output_type": "stream",
     "text": [
      "2025-08-18 00:00:00\n",
      "                  Open        High         Low       Close    Volume  Dividends  Stock Splits\n",
      "Date                                                                                         \n",
      "2025-08-18  231.699997  233.119995  230.110001  230.889999  37476200        0.0           0.0\n",
      "2025-08-19  231.279999  232.869995  229.350006  230.559998  39402600        0.0           0.0\n",
      "2025-08-20  229.979996  230.470001  225.770004  226.009995  42263900        0.0           0.0\n"
     ]
    }
   ],
   "source": [
    "thirty_days_ago = apple_stock.index[-1] - pd.Timedelta(days=30)\n",
    "print(thirty_days_ago)\n",
    "last_30_days = apple_stock.loc[thirty_days_ago:]\n",
    "print(last_30_days.head(3).to_string())"
   ]
  },
  {
   "cell_type": "code",
   "execution_count": 25,
   "id": "6213b3a0",
   "metadata": {},
   "outputs": [
    {
     "name": "stdout",
     "output_type": "stream",
     "text": [
      "2025-03-17 00:00:00\n",
      "                  Open        High         Low       Close    Volume  Dividends  Stock Splits\n",
      "Date                                                                                         \n",
      "2025-03-17  212.789145  214.694485  209.457304  213.477463  48073400        0.0           0.0\n",
      "2025-03-18  213.637066  214.624639  210.973588  212.170654  42432400        0.0           0.0\n",
      "2025-03-19  213.696918  218.225826  213.228065  214.714432  54385400        0.0           0.0\n"
     ]
    }
   ],
   "source": [
    "six_months_ago = apple_stock.index[-1] - pd.DateOffset(months=6)\n",
    "print(six_months_ago)\n",
    "last_6_months = apple_stock.loc[six_months_ago:]\n",
    "print(last_6_months.head(3).to_string())"
   ]
  },
  {
   "cell_type": "code",
   "execution_count": 28,
   "id": "51b277e9",
   "metadata": {},
   "outputs": [
    {
     "data": {
      "text/html": [
       "<div>\n",
       "<style scoped>\n",
       "    .dataframe tbody tr th:only-of-type {\n",
       "        vertical-align: middle;\n",
       "    }\n",
       "\n",
       "    .dataframe tbody tr th {\n",
       "        vertical-align: top;\n",
       "    }\n",
       "\n",
       "    .dataframe thead th {\n",
       "        text-align: right;\n",
       "    }\n",
       "</style>\n",
       "<table border=\"1\" class=\"dataframe\">\n",
       "  <thead>\n",
       "    <tr style=\"text-align: right;\">\n",
       "      <th></th>\n",
       "      <th>Open</th>\n",
       "      <th>High</th>\n",
       "      <th>Low</th>\n",
       "      <th>Close</th>\n",
       "      <th>Volume</th>\n",
       "      <th>Dividends</th>\n",
       "      <th>Stock Splits</th>\n",
       "    </tr>\n",
       "    <tr>\n",
       "      <th>Date</th>\n",
       "      <th></th>\n",
       "      <th></th>\n",
       "      <th></th>\n",
       "      <th></th>\n",
       "      <th></th>\n",
       "      <th></th>\n",
       "      <th></th>\n",
       "    </tr>\n",
       "  </thead>\n",
       "  <tbody>\n",
       "    <tr>\n",
       "      <th>2025-01-02</th>\n",
       "      <td>248.049428</td>\n",
       "      <td>248.218840</td>\n",
       "      <td>240.964594</td>\n",
       "      <td>242.987411</td>\n",
       "      <td>55740700</td>\n",
       "      <td>0.0</td>\n",
       "      <td>0.0</td>\n",
       "    </tr>\n",
       "    <tr>\n",
       "      <th>2025-01-03</th>\n",
       "      <td>242.499161</td>\n",
       "      <td>243.316252</td>\n",
       "      <td>241.034359</td>\n",
       "      <td>242.499161</td>\n",
       "      <td>40244100</td>\n",
       "      <td>0.0</td>\n",
       "      <td>0.0</td>\n",
       "    </tr>\n",
       "    <tr>\n",
       "      <th>2025-01-06</th>\n",
       "      <td>243.445785</td>\n",
       "      <td>246.455106</td>\n",
       "      <td>242.339711</td>\n",
       "      <td>244.133347</td>\n",
       "      <td>45045600</td>\n",
       "      <td>0.0</td>\n",
       "      <td>0.0</td>\n",
       "    </tr>\n",
       "  </tbody>\n",
       "</table>\n",
       "</div>"
      ],
      "text/plain": [
       "                  Open        High         Low       Close    Volume  \\\n",
       "Date                                                                   \n",
       "2025-01-02  248.049428  248.218840  240.964594  242.987411  55740700   \n",
       "2025-01-03  242.499161  243.316252  241.034359  242.499161  40244100   \n",
       "2025-01-06  243.445785  246.455106  242.339711  244.133347  45045600   \n",
       "\n",
       "            Dividends  Stock Splits  \n",
       "Date                                 \n",
       "2025-01-02        0.0           0.0  \n",
       "2025-01-03        0.0           0.0  \n",
       "2025-01-06        0.0           0.0  "
      ]
     },
     "execution_count": 28,
     "metadata": {},
     "output_type": "execute_result"
    }
   ],
   "source": [
    "apple_stock.query('index > \"2025-01-01\"').head(3)"
   ]
  },
  {
   "cell_type": "code",
   "execution_count": 31,
   "id": "9099bc3d",
   "metadata": {},
   "outputs": [
    {
     "name": "stdout",
     "output_type": "stream",
     "text": [
      "2020\n",
      "2021\n",
      "2022\n",
      "2023\n",
      "2024\n",
      "2025\n"
     ]
    }
   ],
   "source": [
    "for year in available_years:\n",
    "    print(year)"
   ]
  },
  {
   "cell_type": "markdown",
   "id": "3760bbab",
   "metadata": {},
   "source": [
    "---\n",
    "\n",
    "## 2\n",
    "\n",
    "---"
   ]
  },
  {
   "cell_type": "code",
   "execution_count": 37,
   "id": "7cde0248",
   "metadata": {},
   "outputs": [
    {
     "name": "stdout",
     "output_type": "stream",
     "text": [
      "Date\n",
      "2025-09-15    236.699997\n",
      "2025-09-16    238.149994\n",
      "2025-09-17    238.990005\n",
      "Name: Close, dtype: float64\n"
     ]
    }
   ],
   "source": [
    "close_prices = apple_stock['Close']\n",
    "print(close_prices.tail(3))"
   ]
  },
  {
   "cell_type": "code",
   "execution_count": 36,
   "id": "ab84798d",
   "metadata": {},
   "outputs": [
    {
     "data": {
      "text/plain": [
       "np.float64(238.99)"
      ]
     },
     "execution_count": 36,
     "metadata": {},
     "output_type": "execute_result"
    }
   ],
   "source": [
    "close_prices.iloc[-1].round(2)"
   ]
  },
  {
   "cell_type": "markdown",
   "id": "76841b8f",
   "metadata": {},
   "source": [
    "---\n",
    "\n",
    "## 3\n",
    "\n",
    "---"
   ]
  },
  {
   "cell_type": "code",
   "execution_count": 41,
   "id": "df2c69ee",
   "metadata": {},
   "outputs": [
    {
     "name": "stdout",
     "output_type": "stream",
     "text": [
      "Date\n",
      "2020-09-21         NaN\n",
      "2020-09-22    1.571576\n",
      "2020-09-23   -4.194598\n",
      "Name: Daily_Return, dtype: float64\n"
     ]
    }
   ],
   "source": [
    "apple_stock['Daily_Return'] = apple_stock['Close'].pct_change() * 100\n",
    "print(apple_stock['Daily_Return'].head(3))"
   ]
  },
  {
   "cell_type": "code",
   "execution_count": 47,
   "id": "a76bd3b6",
   "metadata": {},
   "outputs": [],
   "source": [
    "apple_stock['Weekly_Return'] = apple_stock['Close'].pct_change(periods=5)\n",
    "# print(apple_stock['Weekly_Return'].head(6))"
   ]
  },
  {
   "cell_type": "code",
   "execution_count": 48,
   "id": "b1f7c633",
   "metadata": {},
   "outputs": [],
   "source": [
    "apple_stock['Monthly_Return'] = apple_stock['Close'].pct_change(periods=21)\n",
    "# print(apple_stock['Monthly_Return'].head(22))"
   ]
  },
  {
   "cell_type": "code",
   "execution_count": 49,
   "id": "e1222b2d",
   "metadata": {},
   "outputs": [
    {
     "name": "stdout",
     "output_type": "stream",
     "text": [
      "Date\n",
      "2020-09-21           NaN\n",
      "2020-09-22           NaN\n",
      "2020-09-23           NaN\n",
      "2020-09-24           NaN\n",
      "2020-09-25           NaN\n",
      "2020-09-28           NaN\n",
      "2020-09-29           NaN\n",
      "2020-09-30           NaN\n",
      "2020-10-01           NaN\n",
      "2020-10-02    109.350984\n",
      "Name: SMA_10, dtype: float64\n"
     ]
    }
   ],
   "source": [
    "apple_stock['SMA_10'] = apple_stock['Close'].rolling(window=10).mean()\n",
    "print(apple_stock['SMA_10'].head(10))"
   ]
  },
  {
   "cell_type": "code",
   "execution_count": 51,
   "id": "71cdedf1",
   "metadata": {},
   "outputs": [
    {
     "name": "stdout",
     "output_type": "stream",
     "text": [
      "Date\n",
      "2020-09-21    107.076775\n",
      "2020-09-22    107.988287\n",
      "2020-09-23    106.508758\n",
      "Name: EMA_12, dtype: float64\n"
     ]
    }
   ],
   "source": [
    "apple_stock['EMA_12'] = apple_stock['Close'].ewm(span=12).mean()\n",
    "print(apple_stock['EMA_12'].head(3))"
   ]
  },
  {
   "cell_type": "code",
   "execution_count": 55,
   "id": "40127c40",
   "metadata": {},
   "outputs": [],
   "source": [
    "apple_stock['BB_Middle'] = apple_stock['Close'].rolling(window=20).mean()\n",
    "# print(apple_stock['BB_Middle'].head(20))"
   ]
  },
  {
   "cell_type": "code",
   "execution_count": 56,
   "id": "789c5cb3",
   "metadata": {},
   "outputs": [
    {
     "name": "stdout",
     "output_type": "stream",
     "text": [
      "Date\n",
      "2020-09-21         NaN\n",
      "2020-09-22    1.682793\n",
      "2020-09-23   -4.562027\n",
      "Name: Close, dtype: float64\n"
     ]
    }
   ],
   "source": [
    "delta = apple_stock['Close'].diff()\n",
    "print(delta.head(3))"
   ]
  },
  {
   "cell_type": "code",
   "execution_count": 59,
   "id": "b3e388f6",
   "metadata": {},
   "outputs": [],
   "source": [
    "gain = (delta.where(delta > 0, 0)).rolling(window=14).mean()\n",
    "# print(gain.head(14))"
   ]
  },
  {
   "cell_type": "code",
   "execution_count": 62,
   "id": "3c537102",
   "metadata": {},
   "outputs": [],
   "source": [
    "apple_stock['Volatility_10d'] = apple_stock['Daily_Return'].rolling(window=10).std() * np.sqrt(252) * 100\n",
    "# print(apple_stock['Volatility_10d'].head(11))"
   ]
  },
  {
   "cell_type": "markdown",
   "id": "5b119cb7",
   "metadata": {},
   "source": [
    "---\n",
    "\n",
    "## 4\n",
    "\n",
    "---"
   ]
  },
  {
   "cell_type": "code",
   "execution_count": 64,
   "id": "4b852deb",
   "metadata": {},
   "outputs": [
    {
     "name": "stdout",
     "output_type": "stream",
     "text": [
      "            Portfolio_Value  Portfolio_Returns  AAPL_Price  AAPL_Returns  MSFT_Price  MSFT_Returns  GOOGL_Price  GOOGL_Returns  TSLA_Price  TSLA_Returns   JNJ_Price  JNJ_Returns\n",
      "Date                                                                                                                                                                             \n",
      "2020-09-21       100.000000           0.000000  107.076775           NaN  194.200500           NaN    71.017189            NaN  149.796661           NaN  125.812180          NaN\n",
      "2020-09-22        99.968843          -0.000312  108.759567      0.015716  198.879562      0.024094    72.491013       0.020753  141.410004     -0.055987  125.040489    -0.006134\n",
      "2020-09-23        95.745452          -0.042247  104.197540     -0.041946  192.330780     -0.032928    69.986801      -0.034545  126.786667     -0.103411  125.239929     0.001595\n"
     ]
    }
   ],
   "source": [
    "portfolio_data = pd.read_csv(\n",
    "    \"sample_portfolio.csv\", index_col = \"Date\", parse_dates = True\n",
    ")\n",
    "print(portfolio_data.head(3).to_string())"
   ]
  },
  {
   "cell_type": "code",
   "execution_count": 67,
   "id": "dbdf5679",
   "metadata": {},
   "outputs": [
    {
     "name": "stdout",
     "output_type": "stream",
     "text": [
      "61\n",
      "Date\n",
      "2025-07-31    247.12\n",
      "2025-08-31    264.18\n",
      "2025-09-30    288.93\n",
      "Freq: ME, Name: Portfolio_Value, dtype: float64\n"
     ]
    }
   ],
   "source": [
    "resampled_M = portfolio_data['Portfolio_Value'].resample(\"ME\").last()\n",
    "print(len(resampled_M))\n",
    "print(resampled_M.tail(3).round(2))"
   ]
  },
  {
   "cell_type": "code",
   "execution_count": 68,
   "id": "dd1f857d",
   "metadata": {},
   "outputs": [
    {
     "name": "stdout",
     "output_type": "stream",
     "text": [
      "              Open    High     Low   Close     Volume\n",
      "Date                                                 \n",
      "2025-09-07  229.25  241.32  226.97  239.69  212923200\n",
      "2025-09-14  239.30  240.15  225.95  234.07  304787000\n",
      "2025-09-21  237.00  241.22  235.03  238.99  152555800\n"
     ]
    }
   ],
   "source": [
    "ohlcv_data = apple_stock[['Open', 'High', 'Low', 'Close', 'Volume']].dropna()\n",
    "weekly_ohlc = ohlcv_data.resample('W').agg({\n",
    "    'Open': 'first',    # First trading day's opening price\n",
    "    'High': 'max',      # Highest price during the week\n",
    "    'Low': 'min',       # Lowest price during the week\n",
    "    'Close': 'last',    # Last trading day's closing price\n",
    "    'Volume': 'sum'     # Total volume traded during the week\n",
    "})\n",
    "print(weekly_ohlc.tail(3).round(2))"
   ]
  },
  {
   "cell_type": "code",
   "execution_count": 76,
   "id": "e25c42cf",
   "metadata": {},
   "outputs": [
    {
     "name": "stdout",
     "output_type": "stream",
     "text": [
      "             Close                                      Volume                          \n",
      "             first    last     min     max    mean         sum         mean          std\n",
      "Date                                                                                    \n",
      "2020-09-30  107.08  112.65  104.20  112.65  108.75  1226942400  153367800.0  29700408.92\n",
      "2020-10-31  113.60  105.89  105.89  121.01  113.24  2894666500  131575750.0  47433503.70\n",
      "2020-11-30  105.80  116.00  105.80  117.22  113.80  2123077300  106153865.0  31591396.07\n",
      "            Close_first  Close_last  Close_min  Close_max  Close_mean  Volume_sum  Volume_mean   Volume_std\n",
      "Date                                                                                                       \n",
      "2025-07-31       207.58      207.33     207.33     214.16      211.04  1079935600  49087981.82  11929225.88\n",
      "2025-08-31       202.15      232.14     202.15     233.33      224.58  1218079100  58003766.67  26223599.11\n",
      "2025-09-30       229.72      238.99     226.79     239.78      235.39   670266000  55855500.00  12018100.30\n"
     ]
    }
   ],
   "source": [
    "monthly_stats = ohlcv_data.resample('ME').agg({\n",
    "    'Close': ['first', 'last', 'min', 'max', 'mean'],\n",
    "    'Volume': ['sum', 'mean', 'std']\n",
    "})\n",
    "print(monthly_stats.head(3).round(2).to_string())\n",
    "monthly_stats.columns = ['_'.join(col) for col in monthly_stats.columns]\n",
    "print(monthly_stats.tail(3).round(2).to_string())"
   ]
  },
  {
   "cell_type": "markdown",
   "id": "b9d71951",
   "metadata": {},
   "source": [
    "---\n",
    "\n",
    "## 5\n",
    "\n",
    "---"
   ]
  },
  {
   "cell_type": "markdown",
   "id": "8f07f36c",
   "metadata": {},
   "source": [
    "---\n",
    "\n",
    "## 6\n",
    "\n",
    "---"
   ]
  },
  {
   "cell_type": "code",
   "execution_count": 78,
   "id": "f37862f9",
   "metadata": {},
   "outputs": [
    {
     "name": "stdout",
     "output_type": "stream",
     "text": [
      "              AAPL    MSFT  GOOGL    TSLA   NVDA   BRK-B     JNJ    WMT      PG       V     SPY     QQQ     TLT     GLD     VTI    VEA  BTC-USD  ETH-USD  EURUSD=X  GBPUSD=X  USDJPY=X\n",
      "Date                                                                                                                                                                                  \n",
      "2020-09-21  107.08  194.20  71.02  149.80  12.48  213.02  125.81  42.62  120.81  190.51  305.67  259.76  142.04  179.52  155.28  35.13      NaN      NaN       NaN       NaN       NaN\n",
      "2020-09-22  108.76  198.88  72.49  141.41  12.60  214.16  125.04  43.01  121.91  193.51  308.78  264.59  141.93  178.65  156.83  35.12      NaN      NaN       NaN       NaN       NaN\n",
      "2020-09-23  104.20  192.33  69.99  126.79  12.09  209.61  125.24  42.28  120.45  188.50  301.62  256.51  142.12  174.79  153.04  34.76      NaN      NaN       NaN       NaN       NaN\n"
     ]
    }
   ],
   "source": [
    "multi_asset_prices = pd.read_csv(\n",
    "    \"financial_close_prices.csv\", index_col = \"Date\", parse_dates = True\n",
    ")\n",
    "print(multi_asset_prices.head(3).round(2).to_string())"
   ]
  },
  {
   "cell_type": "code",
   "execution_count": null,
   "id": "68a1ef63",
   "metadata": {},
   "outputs": [],
   "source": []
  }
 ],
 "metadata": {
  "kernelspec": {
   "display_name": "test2",
   "language": "python",
   "name": "python3"
  },
  "language_info": {
   "codemirror_mode": {
    "name": "ipython",
    "version": 3
   },
   "file_extension": ".py",
   "mimetype": "text/x-python",
   "name": "python",
   "nbconvert_exporter": "python",
   "pygments_lexer": "ipython3",
   "version": "3.12.11"
  }
 },
 "nbformat": 4,
 "nbformat_minor": 5
}
