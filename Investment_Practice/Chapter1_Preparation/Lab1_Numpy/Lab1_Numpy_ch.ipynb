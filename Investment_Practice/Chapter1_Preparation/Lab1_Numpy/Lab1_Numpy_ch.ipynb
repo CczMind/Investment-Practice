{
 "cells": [
  {
   "cell_type": "markdown",
   "metadata": {},
   "source": [
    "---"
   ]
  },
  {
   "cell_type": "markdown",
   "metadata": {},
   "source": [
    "# 实验一：使用NumPy进行投资分析\n",
    "\n",
    "## 学习目标\n",
    "完成本实验后，您将能够：\n",
    "- 创建和操作用于金融数据的NumPy数组\n",
    "- 对投资回报进行基本统计计算\n",
    "- 使用数组操作分析投资组合表现\n",
    "- 应用NumPy广播机制进行投资组合计算\n",
    "- 重塑和聚合金融数据数组\n",
    "\n",
    "## 简介\n",
    "NumPy在量化金融和投资分析中至关重要。本实验演示如何使用NumPy数组处理股票价格、回报率和投资组合数据。"
   ]
  },
  {
   "cell_type": "code",
   "execution_count": 1,
   "metadata": {},
   "outputs": [],
   "source": [
    "import numpy as np\n",
    "import matplotlib.pyplot as plt\n",
    "\n",
    "# Set random seed for reproducible results\n",
    "np.random.seed(42)"
   ]
  },
  {
   "cell_type": "markdown",
   "metadata": {},
   "source": [
    "---"
   ]
  },
  {
   "cell_type": "markdown",
   "metadata": {},
   "source": [
    "## 练习1：股票价格数组\n",
    "创建 NumPy 数组来表示股票价格数据。"
   ]
  },
  {
   "cell_type": "markdown",
   "metadata": {},
   "source": [
    "---"
   ]
  },
  {
   "cell_type": "markdown",
   "metadata": {},
   "source": [
    "创建一个NumPy数组 `aapl_prices`，包含苹果公司 5天 的股票价格。\n",
    "\n",
    "`Use prices: [150.0, 152.5, 148.0, 155.0, 157.5]`"
   ]
  },
  {
   "cell_type": "code",
   "execution_count": 2,
   "metadata": {},
   "outputs": [],
   "source": [
    "aapl_prices = np.array([150.0, 152.5, 148.0, 155.0, 157.5])"
   ]
  },
  {
   "cell_type": "markdown",
   "metadata": {},
   "source": [
    "创建一个二维数组 'portfolio_prices'，表示 3 只股票 4 天的价格。\n",
    "\n",
    "`Row 0: AAPL prices [150, 152, 148, 155]`\n",
    "\n",
    "`Row 1: MSFT prices [300, 305, 298, 310]`\n",
    "\n",
    "`Row 2: GOOGL prices [2800, 2850, 2780, 2900]`\n"
   ]
  },
  {
   "cell_type": "code",
   "execution_count": 3,
   "metadata": {},
   "outputs": [],
   "source": [
    "portfolio_prices = np.array([\n",
    "    [150, 152, 148, 155],\n",
    "    [300, 305, 298, 310],\n",
    "    [2800, 2850, 2780, 2900]\n",
    "])"
   ]
  },
  {
   "cell_type": "code",
   "execution_count": 4,
   "metadata": {},
   "outputs": [],
   "source": [
    "# print(\"Apple Stock Prices:\", aapl_prices)\n",
    "# print(\"\\nPortfolio Prices:\")\n",
    "# print(portfolio_prices)\n",
    "# print(\"\\nArray shapes:\")\n",
    "# print(f\"AAPL prices shape: {aapl_prices.shape}\")\n",
    "# print(f\"Portfolio prices shape: {portfolio_prices.shape}\")"
   ]
  },
  {
   "cell_type": "markdown",
   "metadata": {},
   "source": [
    "---"
   ]
  },
  {
   "cell_type": "markdown",
   "metadata": {},
   "source": [
    "## 练习 2：回报率计算\n",
    "使用 NumPy 操作计算投资回报率。"
   ]
  },
  {
   "cell_type": "markdown",
   "metadata": {},
   "source": [
    "---"
   ]
  },
  {
   "cell_type": "markdown",
   "metadata": {},
   "source": [
    "计算 AAPL 股票的日回报率\n",
    "\n",
    "日回报率 = (今日价格 - 昨日价格) / 昨日价格"
   ]
  },
  {
   "cell_type": "code",
   "execution_count": 5,
   "metadata": {},
   "outputs": [],
   "source": [
    "aapl_returns = (aapl_prices[1:] - aapl_prices[:-1]) / aapl_prices[:-1]"
   ]
  },
  {
   "cell_type": "markdown",
   "metadata": {},
   "source": [
    "计算 AAPL 在期间内的总回报率\n",
    "\n",
    "总回报率 = (最终价格 - 初始价格) / 初始价格"
   ]
  },
  {
   "cell_type": "code",
   "execution_count": 6,
   "metadata": {},
   "outputs": [],
   "source": [
    "aapl_total_return = (aapl_prices[-1] - aapl_prices[0]) / aapl_prices[0]"
   ]
  },
  {
   "cell_type": "markdown",
   "metadata": {},
   "source": [
    "计算投资组合中每个股票的日回报率"
   ]
  },
  {
   "cell_type": "code",
   "execution_count": 7,
   "metadata": {},
   "outputs": [],
   "source": [
    "portfolio_returns = (portfolio_prices[:, 1:] - portfolio_prices[:, :-1]) / portfolio_prices[:, :-1]"
   ]
  },
  {
   "cell_type": "code",
   "execution_count": 8,
   "metadata": {},
   "outputs": [],
   "source": [
    "# print(\"AAPL Daily Returns:\", aapl_returns)\n",
    "# print(f\"AAPL Total Return: {aapl_total_return:.4f} or {aapl_total_return*100:.2f}%\")\n",
    "# print(\"\\nPortfolio Daily Returns:\")\n",
    "# print(portfolio_returns)\n",
    "# print(\"\\nReturn shapes:\")\n",
    "# print(f\"AAPL daily returns shape: {aapl_returns.shape}\")\n",
    "# print(f\"Portfolio returns shape: {portfolio_returns.shape}\")"
   ]
  },
  {
   "cell_type": "markdown",
   "metadata": {},
   "source": [
    "---"
   ]
  },
  {
   "cell_type": "markdown",
   "metadata": {},
   "source": [
    "## 练习3：统计分析\n",
    "计算用于投资分析的关键统计指标。"
   ]
  },
  {
   "cell_type": "markdown",
   "metadata": {},
   "source": [
    "---"
   ]
  },
  {
   "cell_type": "markdown",
   "metadata": {},
   "source": [
    "计算AAPL的日均收益率"
   ]
  },
  {
   "cell_type": "code",
   "execution_count": 9,
   "metadata": {},
   "outputs": [],
   "source": [
    "aapl_mean_return = np.mean(aapl_returns)"
   ]
  },
  {
   "cell_type": "markdown",
   "metadata": {},
   "source": [
    "计算AAPL收益率的标准差（波动率）"
   ]
  },
  {
   "cell_type": "code",
   "execution_count": 10,
   "metadata": {},
   "outputs": [],
   "source": [
    "aapl_volatility = np.std(aapl_returns)"
   ]
  },
  {
   "cell_type": "markdown",
   "metadata": {},
   "source": [
    "计算投资组合中每只股票的平均收益率"
   ]
  },
  {
   "cell_type": "code",
   "execution_count": 11,
   "metadata": {},
   "outputs": [],
   "source": [
    "portfolio_mean_returns = np.mean(portfolio_returns, axis = 1)"
   ]
  },
  {
   "cell_type": "markdown",
   "metadata": {},
   "source": [
    "计算投资组合中每只股票的波动率"
   ]
  },
  {
   "cell_type": "code",
   "execution_count": 12,
   "metadata": {},
   "outputs": [],
   "source": [
    "portfolio_volatility = np.std(portfolio_returns, axis = 1)"
   ]
  },
  {
   "cell_type": "markdown",
   "metadata": {},
   "source": [
    "找出平均收益率最高和最低的股票"
   ]
  },
  {
   "cell_type": "code",
   "execution_count": 13,
   "metadata": {},
   "outputs": [],
   "source": [
    "best_stock_idx = np.argmax(portfolio_mean_returns)\n",
    "worst_stock_idx = np.argmin(portfolio_mean_returns)"
   ]
  },
  {
   "cell_type": "code",
   "execution_count": 14,
   "metadata": {},
   "outputs": [],
   "source": [
    "# stock_names = ['AAPL', 'MSFT', 'GOOGL']\n",
    "\n",
    "# print(f\"AAPL Mean Daily Return: {aapl_mean_return:.4f} ({aapl_mean_return*100:.2f}%)\")\n",
    "# print(f\"AAPL Volatility: {aapl_volatility:.4f} ({aapl_volatility*100:.2f}%)\")\n",
    "# print(\"\\nPortfolio Statistics:\")\n",
    "# for i, stock in enumerate(stock_names):\n",
    "#     print(f\"{stock}: Mean Return = {portfolio_mean_returns[i]:.4f} ({portfolio_mean_returns[i]*100:.2f}%), Volatility = {portfolio_volatility[i]:.4f} ({portfolio_volatility[i]*100:.2f}%)\")\n",
    "\n",
    "# print(f\"\\nBest performing stock: {stock_names[best_stock_idx]}\")\n",
    "# print(f\"Worst performing stock: {stock_names[worst_stock_idx]}\")"
   ]
  },
  {
   "cell_type": "markdown",
   "metadata": {},
   "source": [
    "---"
   ]
  },
  {
   "cell_type": "markdown",
   "metadata": {},
   "source": [
    "## 练习 4：投资组合权重与价值\n",
    "本练习涉及投资组合构成的处理及投资组合价值的计算。"
   ]
  },
  {
   "cell_type": "markdown",
   "metadata": {},
   "source": [
    "---"
   ]
  },
  {
   "cell_type": "markdown",
   "metadata": {},
   "source": [
    "定义各股票的持股数量"
   ]
  },
  {
   "cell_type": "code",
   "execution_count": 15,
   "metadata": {},
   "outputs": [],
   "source": [
    "shares = np.array([100, 50, 10])  # AAPL, MSFT, GOOGL shares"
   ]
  },
  {
   "cell_type": "markdown",
   "metadata": {},
   "source": [
    "计算每日投资组合价值\n",
    "\n",
    "投资组合价值 = 每只股票的（持股数量 × 价格）之和"
   ]
  },
  {
   "cell_type": "code",
   "execution_count": 16,
   "metadata": {},
   "outputs": [],
   "source": [
    "portfolio_values = np.sum(shares.reshape(-1, 1) * portfolio_prices, axis = 0)"
   ]
  },
  {
   "cell_type": "markdown",
   "metadata": {},
   "source": [
    "基于初始价值计算投资组合权重"
   ]
  },
  {
   "cell_type": "code",
   "execution_count": 17,
   "metadata": {},
   "outputs": [],
   "source": [
    "initial_stock_values = shares * portfolio_prices[:, 0]\n",
    "total_initial_value = np.sum(initial_stock_values)\n",
    "portfolio_weights = initial_stock_values / total_initial_value"
   ]
  },
  {
   "cell_type": "markdown",
   "metadata": {},
   "source": [
    "计算投资组合的日收益率"
   ]
  },
  {
   "cell_type": "code",
   "execution_count": 18,
   "metadata": {},
   "outputs": [],
   "source": [
    "portfolio_daily_returns = (portfolio_values[1:] - portfolio_values[:-1]) / portfolio_values[:-1]"
   ]
  },
  {
   "cell_type": "code",
   "execution_count": 19,
   "metadata": {},
   "outputs": [],
   "source": [
    "# print(\"Number of shares:\", shares)\n",
    "# print(\"Portfolio values over time:\", portfolio_values)\n",
    "# print(\"\\nInitial stock values:\", initial_stock_values)\n",
    "# print(\"Portfolio weights:\", portfolio_weights)\n",
    "# print(f\"Weight percentages: AAPL={portfolio_weights[0]*100:.1f}%, MSFT={portfolio_weights[1]*100:.1f}%, GOOGL={portfolio_weights[2]*100:.1f}%\")\n",
    "# print(\"\\nPortfolio daily returns:\", portfolio_daily_returns)\n",
    "# print(f\"Portfolio mean daily return: {np.mean(portfolio_daily_returns):.4f} ({np.mean(portfolio_daily_returns)*100:.2f}%)\")"
   ]
  },
  {
   "cell_type": "markdown",
   "metadata": {},
   "source": [
    "---"
   ]
  },
  {
   "cell_type": "markdown",
   "metadata": {},
   "source": [
    "## 练习5：数组创建函数\n",
    "使用NumPy函数创建用于金融建模的数组。"
   ]
  },
  {
   "cell_type": "markdown",
   "metadata": {},
   "source": [
    "---"
   ]
  },
  {
   "cell_type": "markdown",
   "metadata": {},
   "source": [
    "创建相关系数矩阵（使用3×3单位矩阵作为占位符）"
   ]
  },
  {
   "cell_type": "code",
   "execution_count": 20,
   "metadata": {},
   "outputs": [],
   "source": [
    "correlation_matrix = np.eye(3)"
   ]
  },
  {
   "cell_type": "markdown",
   "metadata": {},
   "source": [
    "创建等权重投资组合数组（所有权重 = 1/3）"
   ]
  },
  {
   "cell_type": "code",
   "execution_count": 21,
   "metadata": {},
   "outputs": [],
   "source": [
    "equal_weights = np.full(3, 1 / 3)"
   ]
  },
  {
   "cell_type": "markdown",
   "metadata": {},
   "source": [
    "创建252个交易日（1年）的时间数组"
   ]
  },
  {
   "cell_type": "code",
   "execution_count": 22,
   "metadata": {},
   "outputs": [],
   "source": [
    "trading_days = np.arange(1, 253)"
   ]
  },
  {
   "cell_type": "markdown",
   "metadata": {},
   "source": [
    "为股票图表创建等间距的价格水平"
   ]
  },
  {
   "cell_type": "code",
   "execution_count": 23,
   "metadata": {},
   "outputs": [],
   "source": [
    "price_levels = np.linspace(100, 200, 21)"
   ]
  },
  {
   "cell_type": "code",
   "execution_count": 24,
   "metadata": {},
   "outputs": [],
   "source": [
    "# print(\"Correlation Matrix:\")\n",
    "# print(correlation_matrix)\n",
    "# print(\"\\nEqual weights portfolio:\", equal_weights)\n",
    "# print(\"\\nFirst 10 trading days:\", trading_days[:10])\n",
    "# print(f\"Total trading days: {len(trading_days)}\")\n",
    "# print(\"\\nPrice levels for analysis:\")\n",
    "# print(price_levels)"
   ]
  },
  {
   "cell_type": "markdown",
   "metadata": {},
   "source": [
    "---"
   ]
  },
  {
   "cell_type": "markdown",
   "metadata": {},
   "source": [
    "## 练习6：高级数组索引\n",
    "使用高级索引来分析股票表现"
   ]
  },
  {
   "cell_type": "markdown",
   "metadata": {},
   "source": [
    "---"
   ]
  },
  {
   "cell_type": "markdown",
   "metadata": {},
   "source": [
    "找出投资组合收益为正的日期"
   ]
  },
  {
   "cell_type": "code",
   "execution_count": 25,
   "metadata": {},
   "outputs": [],
   "source": [
    "positive_return_days = portfolio_daily_returns > 0\n",
    "positive_returns = portfolio_daily_returns[positive_return_days]"
   ]
  },
  {
   "cell_type": "markdown",
   "metadata": {},
   "source": [
    "获取每只股票的最高价格"
   ]
  },
  {
   "cell_type": "code",
   "execution_count": 26,
   "metadata": {},
   "outputs": [],
   "source": [
    "max_prices = np.max(portfolio_prices, axis = 1)"
   ]
  },
  {
   "cell_type": "markdown",
   "metadata": {},
   "source": [
    "找出每只股票达到最高价格的日期"
   ]
  },
  {
   "cell_type": "code",
   "execution_count": 27,
   "metadata": {},
   "outputs": [],
   "source": [
    "max_price_days = np.argmax(portfolio_prices, axis = 1)"
   ]
  },
  {
   "cell_type": "markdown",
   "metadata": {},
   "source": [
    "为平均收益为正的股票创建布尔掩码"
   ]
  },
  {
   "cell_type": "code",
   "execution_count": 28,
   "metadata": {},
   "outputs": [],
   "source": [
    "profitable_stocks = portfolio_mean_returns > 0"
   ]
  },
  {
   "cell_type": "code",
   "execution_count": 29,
   "metadata": {},
   "outputs": [],
   "source": [
    "# print(\"Positive return days:\", positive_return_days)\n",
    "# print(\"Positive returns:\", positive_returns)\n",
    "# print(f\"Number of positive return days: {np.sum(positive_return_days)}\")\n",
    "# print(\"\\nMaximum prices by stock:\", max_prices)\n",
    "# print(\"Days of maximum prices:\", max_price_days)\n",
    "# print(\"\\nStocks with positive average returns:\", profitable_stocks)\n",
    "# profitable_stock_names = np.array(stock_names)[profitable_stocks]\n",
    "# print(\"Profitable stock names:\", profitable_stock_names)"
   ]
  },
  {
   "cell_type": "markdown",
   "metadata": {},
   "source": [
    "---"
   ]
  },
  {
   "cell_type": "markdown",
   "metadata": {},
   "source": [
    "## 练习7：广播机制与投资组合分析\n",
    "使用NumPy广播机制高效计算投资组合。"
   ]
  },
  {
   "cell_type": "markdown",
   "metadata": {},
   "source": [
    "---"
   ]
  },
  {
   "cell_type": "markdown",
   "metadata": {},
   "source": [
    "计算归一化价格（将所有价格除以初始价格）"
   ]
  },
  {
   "cell_type": "code",
   "execution_count": 30,
   "metadata": {},
   "outputs": [],
   "source": [
    "normalized_prices = portfolio_prices / portfolio_prices[:, 0].reshape(-1, 1)\n",
    "# normalized_prices = portfolio_prices / portfolio_prices[:, [0]]"
   ]
  },
  {
   "cell_type": "markdown",
   "metadata": {},
   "source": [
    "为所有收益率添加0.1%的交易成本"
   ]
  },
  {
   "cell_type": "code",
   "execution_count": 31,
   "metadata": {},
   "outputs": [],
   "source": [
    "transaction_cost = 0.001\n",
    "net_returns = portfolio_returns - transaction_cost"
   ]
  },
  {
   "cell_type": "markdown",
   "metadata": {},
   "source": [
    "使用广播机制计算加权投资组合收益率\n",
    "\n",
    "加权收益率 = 权重 * 个股收益率，再对股票求和"
   ]
  },
  {
   "cell_type": "code",
   "execution_count": 32,
   "metadata": {},
   "outputs": [],
   "source": [
    "weighted_portfolio_returns = np.sum(portfolio_weights.reshape(-1, 1) * portfolio_returns, axis = 0)"
   ]
  },
  {
   "cell_type": "code",
   "execution_count": 33,
   "metadata": {},
   "outputs": [],
   "source": [
    "# print(\"Normalized prices (relative to initial price):\")\n",
    "# print(normalized_prices)\n",
    "# print(\"\\nNet returns (after transaction costs):\")\n",
    "# print(net_returns)\n",
    "# print(\"\\nWeighted portfolio returns:\", weighted_portfolio_returns)\n",
    "# print(f\"Average weighted portfolio return: {np.mean(weighted_portfolio_returns):.4f} ({np.mean(weighted_portfolio_returns)*100:.2f}%)\")"
   ]
  },
  {
   "cell_type": "markdown",
   "metadata": {},
   "source": [
    "---"
   ]
  },
  {
   "cell_type": "markdown",
   "metadata": {},
   "source": [
    "## 练习 8：随机投资组合模拟\n",
    "生成随机数据以模拟投资组合场景。"
   ]
  },
  {
   "cell_type": "markdown",
   "metadata": {},
   "source": [
    "---"
   ]
  },
  {
   "cell_type": "markdown",
   "metadata": {},
   "source": [
    "为蒙特卡洛模拟生成随机日收益率\n",
    "\n",
    "模拟 3 只股票，每只 30 天，共 1000 个场景"
   ]
  },
  {
   "cell_type": "code",
   "execution_count": 34,
   "metadata": {},
   "outputs": [],
   "source": [
    "num_simulations = 1000\n",
    "num_days = 30\n",
    "num_stocks = 3"
   ]
  },
  {
   "cell_type": "markdown",
   "metadata": {},
   "source": [
    "生成随机收益率（正态分布，均值=0.001，标准差=0.02）"
   ]
  },
  {
   "cell_type": "code",
   "execution_count": 35,
   "metadata": {},
   "outputs": [],
   "source": [
    "simulated_returns = np.random.normal(0.001, 0.02, size = (num_simulations, num_stocks, num_days))"
   ]
  },
  {
   "cell_type": "markdown",
   "metadata": {},
   "source": [
    "计算每个模拟的累积收益率"
   ]
  },
  {
   "cell_type": "code",
   "execution_count": 36,
   "metadata": {},
   "outputs": [],
   "source": [
    "cumulative_returns = np.cumprod(1 + simulated_returns, axis = 2) - 1"
   ]
  },
  {
   "cell_type": "markdown",
   "metadata": {},
   "source": [
    "计算每个模拟的最终投资组合价值"
   ]
  },
  {
   "cell_type": "code",
   "execution_count": null,
   "metadata": {},
   "outputs": [],
   "source": [
    "final_returns = cumulative_returns[:, :, -1]  # 获取最后一天的收益率\n",
    "portfolio_final_returns = np.sum(final_returns * portfolio_weights, axis = 1)"
   ]
  },
  {
   "cell_type": "code",
   "execution_count": 38,
   "metadata": {},
   "outputs": [],
   "source": [
    "# print(f\"Simulated returns shape: {simulated_returns.shape}\")\n",
    "# print(f\"Final portfolio returns statistics:\")\n",
    "# print(f\"Mean: {np.mean(portfolio_final_returns):.4f} ({np.mean(portfolio_final_returns)*100:.2f}%)\")\n",
    "# print(f\"Std: {np.std(portfolio_final_returns):.4f} ({np.std(portfolio_final_returns)*100:.2f}%)\")\n",
    "# print(f\"5th percentile (VaR): {np.percentile(portfolio_final_returns, 5):.4f} ({np.percentile(portfolio_final_returns, 5)*100:.2f}%)\")\n",
    "# print(f\"95th percentile: {np.percentile(portfolio_final_returns, 95):.4f} ({np.percentile(portfolio_final_returns, 95)*100:.2f}%)\")"
   ]
  },
  {
   "cell_type": "markdown",
   "metadata": {},
   "source": [
    "---"
   ]
  },
  {
   "cell_type": "markdown",
   "metadata": {},
   "source": [
    "## 练习9：数组重塑与聚合\n",
    "通过重塑金融数据，实现多角度分析。"
   ]
  },
  {
   "cell_type": "markdown",
   "metadata": {},
   "source": [
    "---"
   ]
  },
  {
   "cell_type": "markdown",
   "metadata": {},
   "source": [
    "重塑投资组合价格以计算周收益率\n",
    "\n",
    "假设我们有4周的数据（4天），将其重塑为(3, 2, 2)结构，以表示2周（每周2天）"
   ]
  },
  {
   "cell_type": "code",
   "execution_count": 39,
   "metadata": {},
   "outputs": [],
   "source": [
    "weekly_prices = portfolio_prices.reshape(3, 2, 2)"
   ]
  },
  {
   "cell_type": "markdown",
   "metadata": {},
   "source": [
    "计算周收益率（比较周最后一天与第一天）"
   ]
  },
  {
   "cell_type": "code",
   "execution_count": 40,
   "metadata": {},
   "outputs": [],
   "source": [
    "weekly_returns = (weekly_prices[:, :, -1] - weekly_prices[:, :, 0]) / weekly_prices[:, :, 0]"
   ]
  },
  {
   "cell_type": "markdown",
   "metadata": {},
   "source": [
    "展平收益率数组并计算总体统计量"
   ]
  },
  {
   "cell_type": "code",
   "execution_count": 41,
   "metadata": {},
   "outputs": [],
   "source": [
    "all_returns_flat = weekly_prices.flatten()"
   ]
  },
  {
   "cell_type": "code",
   "execution_count": 42,
   "metadata": {},
   "outputs": [],
   "source": [
    "# print(\"Original portfolio prices shape:\", portfolio_prices.shape)\n",
    "# print(\"Weekly prices shape:\", weekly_prices.shape)\n",
    "# print(\"\\nWeekly returns:\")\n",
    "# print(weekly_returns)\n",
    "# print(\"\\nFlattened returns shape:\", all_returns_flat.shape)\n",
    "# print(\"Flattened returns:\", all_returns_flat)\n",
    "# print(\"Overall return statistics:\")\n",
    "# print(f\"Mean: {np.mean(all_returns_flat):.4f}\")\n",
    "# print(f\"Std: {np.std(all_returns_flat):.4f}\")\n",
    "# print(f\"Min: {np.min(all_returns_flat):.4f}\")\n",
    "# print(f\"Max: {np.max(all_returns_flat):.4f}\")"
   ]
  },
  {
   "cell_type": "markdown",
   "metadata": {},
   "source": [
    "## 实验总结\n",
    "\n",
    "通过本实验，您已学会：\n",
    "\n",
    "1. **创建和操作数组**以表示金融数据\n",
    "2. 使用**向量化操作**计算回报率\n",
    "3. 计算**统计指标**（如均值、标准差和百分位数）\n",
    "4. 处理**投资组合数据**（包括权重和价值）\n",
    "5. 使用**高级索引**筛选和分析数据\n",
    "6. 应用**广播机制**进行高效计算\n",
    "7. 生成**随机数据**用于蒙特卡洛模拟\n",
    "8. **重塑和聚合**数据以获得不同分析视角\n",
    "\n",
    "这些NumPy技能构成了未来实验中更高级的金融分析和投资组合优化技术的基础。"
   ]
  }
 ],
 "metadata": {
  "kernelspec": {
   "display_name": "test2",
   "language": "python",
   "name": "python3"
  },
  "language_info": {
   "codemirror_mode": {
    "name": "ipython",
    "version": 3
   },
   "file_extension": ".py",
   "mimetype": "text/x-python",
   "name": "python",
   "nbconvert_exporter": "python",
   "pygments_lexer": "ipython3",
   "version": "3.12.11"
  }
 },
 "nbformat": 4,
 "nbformat_minor": 4
}
