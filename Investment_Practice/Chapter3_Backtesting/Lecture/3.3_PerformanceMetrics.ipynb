{
 "cells": [
  {
   "cell_type": "markdown",
   "metadata": {},
   "source": [
    "# 3.3 Performance Measure Metrics"
   ]
  },
  {
   "cell_type": "markdown",
   "metadata": {},
   "source": [
    "* You can design various trading strategies, but how to compare different strategies, or evaluate a trading strategy, we need `evaluation metrics`.\n",
    "* There are hundreds of performance metrics that can be applied. Here we only introduce the most commonly and widely used metrics.\n",
    "* These performance metrics are typically displayed in a strategy performance report, a compilation of data based on different mathematical aspects of a system's performance (like below figure)."
   ]
  },
  {
   "cell_type": "markdown",
   "metadata": {},
   "source": [
    "* A strategy performance report is an objective evaluation of a trading system's performance."
   ]
  },
  {
   "cell_type": "markdown",
   "metadata": {},
   "source": [
    "**Total Return**: This is the most fundamental indicator, representing the overall gain or loss of the strategy over the backtesting period. It takes into account both capital appreciation (increases in stock prices) and any dividends or interest earned."
   ]
  },
  {
   "cell_type": "markdown",
   "metadata": {},
   "source": [
    "**Annualized Return**: The annualized return shows the average annual percentage gain or loss of the strategy over the backtesting period. It allows for easy comparison with other investment options and helps in understanding the strategy's long-term potential."
   ]
  },
  {
   "cell_type": "markdown",
   "metadata": {},
   "source": [
    "$$ Annualized Return = \\big((1+r_1) * (1+r_2) *...* (1+r_n)\\big)^{\\frac{1}{n}} - 1$$"
   ]
  },
  {
   "cell_type": "markdown",
   "metadata": {},
   "source": [
    "Example:\n",
    "\n",
    "Mutual Fund A's 5 year returns are 3%, 7%, 5%, 12% and 1% respectively, then the annualized return is $$\\big((1+.03) * (1+.07) * (1+.05) * (1+.12) * (1+.01)\\big)^{\\frac{1}{5}} - 1 = .0553 = 5.53\\%$$"
   ]
  },
  {
   "cell_type": "markdown",
   "metadata": {},
   "source": [
    "An annualized return does not have to be limited to yearly returns. If an investor has a cumulative return for a given period, even if it is a specific number of days, an annualized performance figure can be calculated"
   ]
  },
  {
   "cell_type": "markdown",
   "metadata": {},
   "source": [
    "$$ Annualized Return = (1+Cumulative Return)^{\\frac{365}{DaysHold}} - 1$$"
   ]
  },
  {
   "cell_type": "markdown",
   "metadata": {},
   "source": [
    "Or"
   ]
  },
  {
   "cell_type": "markdown",
   "metadata": {},
   "source": [
    "$$Annualized\\ Return = (\\frac{Ending\\ Value}{Beginning\\ Value}) ^ {\\frac{1}{Number\\ of\\ Years}} - 1$$"
   ]
  },
  {
   "cell_type": "markdown",
   "metadata": {},
   "source": [
    "Example:\n",
    "\n",
    "Assume a mutual fund was held by an investor for 575 days and earned a cumulative return of 23.74%. The annualized rate of return would be:\n",
    "\n",
    "$$ Annualized Return = (1+.2374)^{\\frac{365}{575}} - 1 = .145 = 14.5\\%$$"
   ]
  },
  {
   "cell_type": "markdown",
   "metadata": {},
   "source": [
    "**Win/Loss Ratio**: The win/loss ratio quantifies the number of winning trades divided by the number of losing trades. It gives an idea of the strategy's consistency in generating profitable trades."
   ]
  },
  {
   "cell_type": "markdown",
   "metadata": {},
   "source": [
    "**Profit factor** is calculated by dividing the total profit from winning trades by the total loss from losing trades. A profit factor greater than 1 indicates that the strategy is profitable."
   ]
  },
  {
   "cell_type": "markdown",
   "metadata": {},
   "source": [
    "$$ Profit Factor = \\frac{G𝑟𝑜𝑠𝑠 P𝑟𝑜𝑓𝑖𝑡}{𝐺𝑟𝑜𝑠𝑠𝐿𝑜𝑠𝑠} $$"
   ]
  },
  {
   "cell_type": "markdown",
   "metadata": {},
   "source": [
    "**Percent Profitable** is the winning ratio."
   ]
  },
  {
   "cell_type": "markdown",
   "metadata": {},
   "source": [
    "$$ \\%Profitable = \\frac{Winning Trades}{Total Trades}$$"
   ]
  },
  {
   "cell_type": "markdown",
   "metadata": {},
   "source": [
    "* Some trading strategy may profit even with less than 50% profitable. For example, `trend trading` (a trading style that attempts to capture gains through the analysis of an asset's momentum in a particular direction) can be profitable with as few as 40% of trades making money and 60% losts, because the trades that win follow the trend and typically achieve large gains while the trades that do not win are usually closed for a small loss. \n",
    "\n",
    "* However, `intraday traders` who look to gain a small amount on any one trade while risking a similar amount will require a higher percent profitable metric to create a winning system. This is due to the fact that the winning trades tend to be close in value to the losing trades; in order to \"get ahead\" there needs to be a significantly higher percent profitable."
   ]
  },
  {
   "cell_type": "markdown",
   "metadata": {},
   "source": [
    "**Maximum Drawdown (MDD)** is the maximum observed loss from a peak to a trough of a portfolio, before a new peak is attained (a measure of an asset's largest price drop from a peak to a trough). \n",
    "* Maximum drawdown is an indicator of downside risk over a specified time period, as it focuses on capital preservation, which is a key concern for most investors."
   ]
  },
  {
   "cell_type": "markdown",
   "metadata": {},
   "source": [
    "$$ MDD = \\frac{Trough Value - Peak Value}{Peak Value}$$"
   ]
  },
  {
   "cell_type": "markdown",
   "metadata": {},
   "source": [
    "* A low maximum drawdown is preferred as this indicates that losses from investment were small. If an investment never lost a penny, the maximum drawdown would be zero. The worst possible maximum drawdown would be -100%, meaning the investment is completely worthless.\n",
    "\n",
    "* Example: Assume an investment portfolio has an initial value of 500,000. The portfolio increases to 750,000 over a period of time, before plunging to 400,000 in a ferocious bear market. It then rebounds to 600,000, before dropping again to 350,000. Subsequently, it more than doubles to 800,000. What is the maximum drawdown?"
   ]
  },
  {
   "cell_type": "markdown",
   "metadata": {},
   "source": [
    "$$MDD = \\frac{350,000-750,000}{750,000} = -53.33\\% $$ "
   ]
  },
  {
   "cell_type": "markdown",
   "metadata": {},
   "source": [
    "## Annualized Volatility"
   ]
  },
  {
   "cell_type": "markdown",
   "metadata": {},
   "source": [
    "$$ Annualized Volatility = STDV(Daily Returns) * \\sqrt{\\#TradingDaysPerYear}$$"
   ]
  },
  {
   "cell_type": "markdown",
   "metadata": {},
   "source": [
    "where *STDV* is short for standard deviation, and $𝐷𝑎𝑖𝑙𝑦𝑅𝑒𝑡𝑢𝑟𝑛𝑠 = (Today's Price - Yesterday's Price)/Yesterday's Price$."
   ]
  },
  {
   "cell_type": "markdown",
   "metadata": {},
   "source": [
    "Volatility is used as a measure of risk, therefore higher vol implies riskier model."
   ]
  },
  {
   "cell_type": "markdown",
   "metadata": {},
   "source": [
    "#### Example"
   ]
  },
  {
   "cell_type": "code",
   "execution_count": 1,
   "metadata": {},
   "outputs": [],
   "source": [
    "import os\n",
    "import datetime\n",
    "import numpy as np \n",
    "import pandas as pd"
   ]
  },
  {
   "cell_type": "code",
   "execution_count": 2,
   "metadata": {},
   "outputs": [
    {
     "data": {
      "text/html": [
       "<div>\n",
       "<style scoped>\n",
       "    .dataframe tbody tr th:only-of-type {\n",
       "        vertical-align: middle;\n",
       "    }\n",
       "\n",
       "    .dataframe tbody tr th {\n",
       "        vertical-align: top;\n",
       "    }\n",
       "\n",
       "    .dataframe thead th {\n",
       "        text-align: right;\n",
       "    }\n",
       "</style>\n",
       "<table border=\"1\" class=\"dataframe\">\n",
       "  <thead>\n",
       "    <tr style=\"text-align: right;\">\n",
       "      <th></th>\n",
       "      <th>Open</th>\n",
       "      <th>High</th>\n",
       "      <th>Low</th>\n",
       "      <th>Close</th>\n",
       "      <th>Adj Close</th>\n",
       "      <th>Volume</th>\n",
       "    </tr>\n",
       "    <tr>\n",
       "      <th>Date</th>\n",
       "      <th></th>\n",
       "      <th></th>\n",
       "      <th></th>\n",
       "      <th></th>\n",
       "      <th></th>\n",
       "      <th></th>\n",
       "    </tr>\n",
       "  </thead>\n",
       "  <tbody>\n",
       "    <tr>\n",
       "      <th>2020-10-19</th>\n",
       "      <td>220.419998</td>\n",
       "      <td>222.300003</td>\n",
       "      <td>213.720001</td>\n",
       "      <td>214.220001</td>\n",
       "      <td>205.399567</td>\n",
       "      <td>27625800</td>\n",
       "    </tr>\n",
       "    <tr>\n",
       "      <th>2020-10-20</th>\n",
       "      <td>215.800003</td>\n",
       "      <td>217.369995</td>\n",
       "      <td>213.089996</td>\n",
       "      <td>214.649994</td>\n",
       "      <td>205.811859</td>\n",
       "      <td>22753500</td>\n",
       "    </tr>\n",
       "    <tr>\n",
       "      <th>2020-10-21</th>\n",
       "      <td>213.119995</td>\n",
       "      <td>216.919998</td>\n",
       "      <td>213.119995</td>\n",
       "      <td>214.800003</td>\n",
       "      <td>205.955688</td>\n",
       "      <td>22724900</td>\n",
       "    </tr>\n",
       "    <tr>\n",
       "      <th>2020-10-22</th>\n",
       "      <td>213.929993</td>\n",
       "      <td>216.059998</td>\n",
       "      <td>211.699997</td>\n",
       "      <td>214.889999</td>\n",
       "      <td>206.041977</td>\n",
       "      <td>22351500</td>\n",
       "    </tr>\n",
       "    <tr>\n",
       "      <th>2020-10-23</th>\n",
       "      <td>215.029999</td>\n",
       "      <td>216.279999</td>\n",
       "      <td>213.160004</td>\n",
       "      <td>216.229996</td>\n",
       "      <td>207.326828</td>\n",
       "      <td>18879600</td>\n",
       "    </tr>\n",
       "    <tr>\n",
       "      <th>...</th>\n",
       "      <td>...</td>\n",
       "      <td>...</td>\n",
       "      <td>...</td>\n",
       "      <td>...</td>\n",
       "      <td>...</td>\n",
       "      <td>...</td>\n",
       "    </tr>\n",
       "    <tr>\n",
       "      <th>2025-10-09</th>\n",
       "      <td>522.340027</td>\n",
       "      <td>524.330017</td>\n",
       "      <td>517.400024</td>\n",
       "      <td>522.400024</td>\n",
       "      <td>522.400024</td>\n",
       "      <td>18343600</td>\n",
       "    </tr>\n",
       "    <tr>\n",
       "      <th>2025-10-10</th>\n",
       "      <td>519.640015</td>\n",
       "      <td>523.580017</td>\n",
       "      <td>509.630005</td>\n",
       "      <td>510.959991</td>\n",
       "      <td>510.959991</td>\n",
       "      <td>24133800</td>\n",
       "    </tr>\n",
       "    <tr>\n",
       "      <th>2025-10-13</th>\n",
       "      <td>516.409973</td>\n",
       "      <td>516.409973</td>\n",
       "      <td>511.679993</td>\n",
       "      <td>514.049988</td>\n",
       "      <td>514.049988</td>\n",
       "      <td>14284200</td>\n",
       "    </tr>\n",
       "    <tr>\n",
       "      <th>2025-10-14</th>\n",
       "      <td>510.230011</td>\n",
       "      <td>515.280029</td>\n",
       "      <td>506.000000</td>\n",
       "      <td>513.570007</td>\n",
       "      <td>513.570007</td>\n",
       "      <td>14684300</td>\n",
       "    </tr>\n",
       "    <tr>\n",
       "      <th>2025-10-15</th>\n",
       "      <td>514.960022</td>\n",
       "      <td>517.190002</td>\n",
       "      <td>510.000000</td>\n",
       "      <td>513.429993</td>\n",
       "      <td>513.429993</td>\n",
       "      <td>14682400</td>\n",
       "    </tr>\n",
       "  </tbody>\n",
       "</table>\n",
       "<p>1254 rows × 6 columns</p>\n",
       "</div>"
      ],
      "text/plain": [
       "                  Open        High         Low       Close   Adj Close  \\\n",
       "Date                                                                     \n",
       "2020-10-19  220.419998  222.300003  213.720001  214.220001  205.399567   \n",
       "2020-10-20  215.800003  217.369995  213.089996  214.649994  205.811859   \n",
       "2020-10-21  213.119995  216.919998  213.119995  214.800003  205.955688   \n",
       "2020-10-22  213.929993  216.059998  211.699997  214.889999  206.041977   \n",
       "2020-10-23  215.029999  216.279999  213.160004  216.229996  207.326828   \n",
       "...                ...         ...         ...         ...         ...   \n",
       "2025-10-09  522.340027  524.330017  517.400024  522.400024  522.400024   \n",
       "2025-10-10  519.640015  523.580017  509.630005  510.959991  510.959991   \n",
       "2025-10-13  516.409973  516.409973  511.679993  514.049988  514.049988   \n",
       "2025-10-14  510.230011  515.280029  506.000000  513.570007  513.570007   \n",
       "2025-10-15  514.960022  517.190002  510.000000  513.429993  513.429993   \n",
       "\n",
       "              Volume  \n",
       "Date                  \n",
       "2020-10-19  27625800  \n",
       "2020-10-20  22753500  \n",
       "2020-10-21  22724900  \n",
       "2020-10-22  22351500  \n",
       "2020-10-23  18879600  \n",
       "...              ...  \n",
       "2025-10-09  18343600  \n",
       "2025-10-10  24133800  \n",
       "2025-10-13  14284200  \n",
       "2025-10-14  14684300  \n",
       "2025-10-15  14682400  \n",
       "\n",
       "[1254 rows x 6 columns]"
      ]
     },
     "execution_count": 2,
     "metadata": {},
     "output_type": "execute_result"
    }
   ],
   "source": [
    "# Load MSFT data from CSV file\n",
    "df = pd.read_csv('MSFT.csv', index_col='Date', parse_dates=True)\n",
    "df"
   ]
  },
  {
   "cell_type": "code",
   "execution_count": 3,
   "metadata": {},
   "outputs": [
    {
     "data": {
      "text/plain": [
       "Date\n",
       "2020-10-19         NaN\n",
       "2020-10-20    0.002007\n",
       "2020-10-21    0.000699\n",
       "2020-10-22    0.000419\n",
       "2020-10-23    0.006236\n",
       "                ...   \n",
       "2025-10-09   -0.004668\n",
       "2025-10-10   -0.021899\n",
       "2025-10-13    0.006047\n",
       "2025-10-14   -0.000934\n",
       "2025-10-15   -0.000273\n",
       "Name: Close, Length: 1254, dtype: float64"
      ]
     },
     "execution_count": 3,
     "metadata": {},
     "output_type": "execute_result"
    }
   ],
   "source": [
    "# Calculate daily returns\n",
    "DailyReturns = df['Close'].pct_change()\n",
    "DailyReturns"
   ]
  },
  {
   "cell_type": "code",
   "execution_count": 4,
   "metadata": {},
   "outputs": [
    {
     "name": "stdout",
     "output_type": "stream",
     "text": [
      "Microsoft (MSFT) Annualized Volatility is: 0.5786\n",
      "Number of trading days: 1253\n"
     ]
    }
   ],
   "source": [
    "# Calculate annualized volatility\n",
    "# Remove NaN values from daily returns\n",
    "DailyReturns_clean = DailyReturns.dropna()\n",
    "NumTradingDaysPerYear = len(DailyReturns_clean)\n",
    "AnnualizedVolitility = np.std(DailyReturns_clean) * np.sqrt(NumTradingDaysPerYear)\n",
    "print('Microsoft (MSFT) Annualized Volatility is: {:.4f}'.format(AnnualizedVolitility))\n",
    "print('Number of trading days: {}'.format(NumTradingDaysPerYear))"
   ]
  },
  {
   "cell_type": "markdown",
   "metadata": {},
   "source": [
    "#### Sharpe Ratio"
   ]
  },
  {
   "cell_type": "markdown",
   "metadata": {},
   "source": [
    "$$ Sharpe Ratio = \\frac{Annualized Return - Risk Free Return}{Annualized Volatility}$$"
   ]
  },
  {
   "cell_type": "markdown",
   "metadata": {},
   "source": [
    "The ratio is the average return earned in excess of the risk-free rate per unit of volatility or total risk. "
   ]
  },
  {
   "cell_type": "markdown",
   "metadata": {},
   "source": [
    "#### Beta"
   ]
  },
  {
   "cell_type": "markdown",
   "metadata": {},
   "source": [
    "* Different to `Annualized Volatility`, `beta` is used to determine the volatility of an asset or portfolio **in relation to the overall market**. For example, stock A's annualized volatility is large, this may be due to A's own volatility, but the volatility may also come from the whole market's (e.g. 2008 financial crisis, 2020 March COVID 19 panic, stock markets have great volatile). Below is the math to calculate `Beta`."
   ]
  },
  {
   "cell_type": "markdown",
   "metadata": {},
   "source": [
    "$$ Beta(Stock) = \\frac{Cov(Stock, Market)}{Var(Market)}$$"
   ]
  },
  {
   "cell_type": "markdown",
   "metadata": {},
   "source": [
    "* If you do not understand covariance that well, there's a good post talking about it [here](https://www.zhihu.com/question/20852004)."
   ]
  },
  {
   "cell_type": "markdown",
   "metadata": {},
   "source": [
    "* We can see the overall market has a beta of 1.0 since ($Cov(Market, Market) = Var(Market)$), and individual stocks are ranked according to how much they deviate from the market."
   ]
  },
  {
   "cell_type": "markdown",
   "metadata": {},
   "source": [
    "<video width=\"900\" height=\"450\" src=\"beta.mp4\"  controls></video>"
   ]
  },
  {
   "cell_type": "markdown",
   "metadata": {},
   "source": [
    "#### Alpha"
   ]
  },
  {
   "cell_type": "markdown",
   "metadata": {},
   "source": [
    "* Alpha (α) is a term used in investing to describe an investment strategy's ability to beat the market, or it's \"edge.\" Alpha is thus also often referred to as “excess return” or “abnormal rate of return,” which refers to the idea that markets are efficient, and so there is no way to systematically earn returns that exceed the broad market as a whole. Alpha is often used in conjunction with beta (the Greek letter β).\n",
    "\n",
    "* Alpha is used in finance as a measure of performance, indicating when a strategy, trader, or portfolio manager has managed to beat the market return over some period. Alpha, often considered the active return on an investment, gauges the performance of an investment against a market index or benchmark that is considered to represent the market’s movement as a whole. The excess return of an investment relative to the return of a benchmark index is the investment’s alpha. "
   ]
  },
  {
   "cell_type": "markdown",
   "metadata": {},
   "source": [
    "$$ Alpha = R – R_f – beta (R_m-R_f) $$"
   ]
  },
  {
   "cell_type": "markdown",
   "metadata": {},
   "source": [
    "where:\n",
    "\n",
    "\n",
    "* $R$ represents the portfolio return\n",
    "* $R_f$ represents the risk-free rate of return\n",
    "* $Beta$ represents the systematic risk of a portfolio\n",
    "* $R_m$ represents the market return, per a benchmark"
   ]
  },
  {
   "cell_type": "markdown",
   "metadata": {},
   "source": [
    "<video width=\"900\" height=\"450\" src=\"alpha.mp4\"  controls></video>"
   ]
  },
  {
   "cell_type": "markdown",
   "metadata": {},
   "source": [
    "For example, assuming that the actual return of the fund is 30%, the risk-free rate is 8%, beta is 1.1, and the benchmark index return is 20%, alpha is calculated as:\n",
    "\n",
    "Alpha = (0.30-0.08) – 1.1 (0.20-0.08)\n",
    "\n",
    "= 0.088 or 8.8%"
   ]
  },
  {
   "cell_type": "markdown",
   "metadata": {},
   "source": [
    "## Practice: "
   ]
  },
  {
   "cell_type": "markdown",
   "metadata": {},
   "source": [
    "Suppose you use the Buy and Hold strategy, your portfolio contains half AAPL and half TSLA in the period between Jan 1, 2015 to Jan 1, 2021"
   ]
  },
  {
   "cell_type": "markdown",
   "metadata": {},
   "source": [
    "1. Calculate the `Total Net Profit`"
   ]
  },
  {
   "cell_type": "code",
   "execution_count": null,
   "metadata": {},
   "outputs": [],
   "source": []
  },
  {
   "cell_type": "markdown",
   "metadata": {},
   "source": [
    "2. Calculate the beta of AAPL and TSLA in the period between Jan 1, 2015 to Jan 1, 2021."
   ]
  },
  {
   "cell_type": "code",
   "execution_count": null,
   "metadata": {},
   "outputs": [],
   "source": []
  },
  {
   "cell_type": "markdown",
   "metadata": {},
   "source": [
    "3. Calculate portfolio's Alpha in the same period."
   ]
  },
  {
   "cell_type": "code",
   "execution_count": null,
   "metadata": {},
   "outputs": [],
   "source": []
  }
 ],
 "metadata": {
  "kernelspec": {
   "display_name": "test2",
   "language": "python",
   "name": "python3"
  },
  "language_info": {
   "codemirror_mode": {
    "name": "ipython",
    "version": 3
   },
   "file_extension": ".py",
   "mimetype": "text/x-python",
   "name": "python",
   "nbconvert_exporter": "python",
   "pygments_lexer": "ipython3",
   "version": "3.12.11"
  }
 },
 "nbformat": 4,
 "nbformat_minor": 4
}
