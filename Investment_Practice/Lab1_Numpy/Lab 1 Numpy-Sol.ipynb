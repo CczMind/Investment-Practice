{
 "cells": [
  {
   "cell_type": "markdown",
   "metadata": {},
   "source": [
    "Before you turn this problem in, make sure everything runs as expected. First, **restart the kernel** (in the menubar, select Kernel$\\rightarrow$Restart) and then **run all cells** (in the menubar, select Cell$\\rightarrow$Run All).\n",
    "\n",
    "Make sure you fill in any place that says `YOUR CODE HERE` or \"YOUR ANSWER HERE\", as well as your name and collaborators below:"
   ]
  },
  {
   "cell_type": "code",
   "execution_count": null,
   "metadata": {},
   "outputs": [],
   "source": [
    "NAME = \"\"\n",
    "COLLABORATORS = \"\""
   ]
  },
  {
   "cell_type": "markdown",
   "metadata": {},
   "source": [
    "---"
   ]
  },
  {
   "cell_type": "markdown",
   "metadata": {},
   "source": [
    "# Lab 1: NumPy for Investment Analysis - Solutions"
   ]
  },
  {
   "cell_type": "markdown",
   "metadata": {},
   "source": [
    "Created by Dr. Pengfei Zhao\n",
    "\n",
    "Beijing Normal University-Hong Kong Baptist University"
   ]
  },
  {
   "cell_type": "markdown",
   "metadata": {},
   "source": [
    "\n",
    "\n",
    "\n",
    "\n",
    "**© 2025 Investment Practice Course**  \n",
    "\n",
    "## Learning Objectives\n",
    "By the end of this lab, you will be able to:\n",
    "- Create and manipulate NumPy arrays for financial data\n",
    "- Perform basic statistical calculations on investment returns\n",
    "- Use array operations to analyze portfolio performance\n",
    "- Apply NumPy broadcasting for portfolio calculations\n",
    "- Reshape and aggregate financial data arrays\n",
    "\n",
    "## Introduction\n",
    "NumPy is essential for quantitative finance and investment analysis. This lab demonstrates how to use NumPy arrays to work with stock prices, returns, and portfolio data."
   ]
  },
  {
   "cell_type": "markdown",
   "metadata": {},
   "source": [
    "## Setup and Imports"
   ]
  },
  {
   "cell_type": "code",
   "execution_count": null,
   "metadata": {},
   "outputs": [],
   "source": [
    "import numpy as np\n",
    "import matplotlib.pyplot as plt\n",
    "\n",
    "# Set random seed for reproducible results\n",
    "np.random.seed(42)"
   ]
  },
  {
   "cell_type": "markdown",
   "metadata": {},
   "source": [
    "## Exercise 1: Stock Price Arrays\n",
    "Create NumPy arrays to represent stock price data."
   ]
  },
  {
   "cell_type": "code",
   "execution_count": null,
   "metadata": {},
   "outputs": [],
   "source": [
    "# 1.1 Create a NumPy array 'aapl_prices' with Apple stock prices over 5 days\n",
    "# Use prices: [150.0, 152.5, 148.0, 155.0, 157.5]\n",
    "aapl_prices = np.array([150.0, 152.5, 148.0, 155.0, 157.5])\n",
    "\n",
    "# 1.2 Create a 2D array 'portfolio_prices' representing prices for 3 stocks over 4 days\n",
    "# Row 0: AAPL prices [150, 152, 148, 155]\n",
    "# Row 1: MSFT prices [300, 305, 298, 310] \n",
    "# Row 2: GOOGL prices [2800, 2850, 2780, 2900]\n",
    "portfolio_prices = np.array([[150, 152, 148, 155],\n",
    "                            [300, 305, 298, 310],\n",
    "                            [2800, 2850, 2780, 2900]])\n",
    "\n",
    "print(\"Apple Stock Prices:\", aapl_prices)\n",
    "print(\"\\nPortfolio Prices:\")\n",
    "print(portfolio_prices)\n",
    "print(\"\\nArray shapes:\")\n",
    "print(f\"AAPL prices shape: {aapl_prices.shape}\")\n",
    "print(f\"Portfolio prices shape: {portfolio_prices.shape}\")"
   ]
  },
  {
   "cell_type": "markdown",
   "metadata": {},
   "source": [
    "## Exercise 2: Return Calculations\n",
    "Calculate investment returns using NumPy operations."
   ]
  },
  {
   "cell_type": "code",
   "execution_count": null,
   "metadata": {},
   "outputs": [],
   "source": [
    "# 2.1 Calculate daily returns for AAPL stock\n",
    "# Daily return = (Price_today - Price_yesterday) / Price_yesterday\n",
    "aapl_returns = (aapl_prices[1:] - aapl_prices[:-1]) / aapl_prices[:-1]\n",
    "\n",
    "# 2.2 Calculate the total return for AAPL over the period\n",
    "# Total return = (Final_price - Initial_price) / Initial_price\n",
    "aapl_total_return = (aapl_prices[-1] - aapl_prices[0]) / aapl_prices[0]\n",
    "\n",
    "# 2.3 Calculate portfolio daily returns for each stock\n",
    "portfolio_returns = (portfolio_prices[:, 1:] - portfolio_prices[:, :-1]) / portfolio_prices[:, :-1]\n",
    "\n",
    "print(\"AAPL Daily Returns:\", aapl_returns)\n",
    "print(f\"AAPL Total Return: {aapl_total_return:.4f} or {aapl_total_return*100:.2f}%\")\n",
    "print(\"\\nPortfolio Daily Returns:\")\n",
    "print(portfolio_returns)\n",
    "print(\"\\nReturn shapes:\")\n",
    "print(f\"AAPL daily returns shape: {aapl_returns.shape}\")\n",
    "print(f\"Portfolio returns shape: {portfolio_returns.shape}\")"
   ]
  },
  {
   "cell_type": "markdown",
   "metadata": {},
   "source": [
    "## Exercise 3: Statistical Analysis\n",
    "Compute key statistical measures for investment analysis."
   ]
  },
  {
   "cell_type": "code",
   "execution_count": null,
   "metadata": {},
   "outputs": [],
   "source": [
    "# 3.1 Calculate mean daily return for AAPL\n",
    "aapl_mean_return = np.mean(aapl_returns)\n",
    "\n",
    "# 3.2 Calculate standard deviation (volatility) of AAPL returns\n",
    "aapl_volatility = np.std(aapl_returns)\n",
    "\n",
    "# 3.3 Calculate mean returns for each stock in the portfolio\n",
    "portfolio_mean_returns = np.mean(portfolio_returns, axis=1)\n",
    "\n",
    "# 3.4 Calculate volatility for each stock in the portfolio\n",
    "portfolio_volatility = np.std(portfolio_returns, axis=1)\n",
    "\n",
    "# 3.5 Find the stock with highest and lowest average return\n",
    "best_stock_idx = np.argmax(portfolio_mean_returns)\n",
    "worst_stock_idx = np.argmin(portfolio_mean_returns)\n",
    "\n",
    "stock_names = ['AAPL', 'MSFT', 'GOOGL']\n",
    "\n",
    "print(f\"AAPL Mean Daily Return: {aapl_mean_return:.4f} ({aapl_mean_return*100:.2f}%)\")\n",
    "print(f\"AAPL Volatility: {aapl_volatility:.4f} ({aapl_volatility*100:.2f}%)\")\n",
    "print(\"\\nPortfolio Statistics:\")\n",
    "for i, stock in enumerate(stock_names):\n",
    "    print(f\"{stock}: Mean Return = {portfolio_mean_returns[i]:.4f} ({portfolio_mean_returns[i]*100:.2f}%), Volatility = {portfolio_volatility[i]:.4f} ({portfolio_volatility[i]*100:.2f}%)\")\n",
    "\n",
    "print(f\"\\nBest performing stock: {stock_names[best_stock_idx]}\")\n",
    "print(f\"Worst performing stock: {stock_names[worst_stock_idx]}\")"
   ]
  },
  {
   "cell_type": "markdown",
   "metadata": {},
   "source": [
    "## Exercise 4: Portfolio Weights and Values\n",
    "Work with portfolio composition and calculate portfolio values."
   ]
  },
  {
   "cell_type": "code",
   "execution_count": null,
   "metadata": {},
   "outputs": [],
   "source": [
    "# 4.1 Define number of shares owned for each stock\n",
    "shares = np.array([100, 50, 10])  # AAPL, MSFT, GOOGL shares\n",
    "\n",
    "# 4.2 Calculate portfolio value for each day\n",
    "# Portfolio value = sum of (shares * prices) for each stock\n",
    "portfolio_values = np.sum(shares.reshape(-1, 1) * portfolio_prices, axis=0)\n",
    "\n",
    "# 4.3 Calculate portfolio weights based on initial values\n",
    "initial_stock_values = shares * portfolio_prices[:, 0]\n",
    "portfolio_weights = initial_stock_values / np.sum(initial_stock_values)\n",
    "\n",
    "# 4.4 Calculate portfolio daily returns\n",
    "portfolio_daily_returns = (portfolio_values[1:] - portfolio_values[:-1]) / portfolio_values[:-1]\n",
    "\n",
    "print(\"Number of shares:\", shares)\n",
    "print(\"Portfolio values over time:\", portfolio_values)\n",
    "print(\"\\nInitial stock values:\", initial_stock_values)\n",
    "print(\"Portfolio weights:\", portfolio_weights)\n",
    "print(f\"Weight percentages: AAPL={portfolio_weights[0]*100:.1f}%, MSFT={portfolio_weights[1]*100:.1f}%, GOOGL={portfolio_weights[2]*100:.1f}%\")\n",
    "print(\"\\nPortfolio daily returns:\", portfolio_daily_returns)\n",
    "print(f\"Portfolio mean daily return: {np.mean(portfolio_daily_returns):.4f} ({np.mean(portfolio_daily_returns)*100:.2f}%)\")"
   ]
  },
  {
   "cell_type": "markdown",
   "metadata": {},
   "source": [
    "## Exercise 5: Array Creation Functions\n",
    "Use NumPy functions to create arrays for financial modeling."
   ]
  },
  {
   "cell_type": "code",
   "execution_count": null,
   "metadata": {},
   "outputs": [],
   "source": [
    "# 5.1 Create a correlation matrix (3x3 identity matrix as placeholder)\n",
    "correlation_matrix = np.eye(3)\n",
    "\n",
    "# 5.2 Create an array of equally-weighted portfolio (all weights = 1/3)\n",
    "equal_weights = np.ones(3) / 3\n",
    "\n",
    "# 5.3 Create a time array for 252 trading days (1 year)\n",
    "trading_days = np.arange(1, 253)\n",
    "\n",
    "# 5.4 Create evenly spaced price levels for a stock chart\n",
    "price_levels = np.linspace(100, 200, 21)  # 21 price levels from $100 to $200\n",
    "\n",
    "print(\"Correlation Matrix:\")\n",
    "print(correlation_matrix)\n",
    "print(\"\\nEqual weights portfolio:\", equal_weights)\n",
    "print(\"\\nFirst 10 trading days:\", trading_days[:10])\n",
    "print(f\"Total trading days: {len(trading_days)}\")\n",
    "print(\"\\nPrice levels for analysis:\")\n",
    "print(price_levels)"
   ]
  },
  {
   "cell_type": "markdown",
   "metadata": {},
   "source": [
    "## Exercise 6: Advanced Array Indexing\n",
    "Use advanced indexing to analyze stock performance."
   ]
  },
  {
   "cell_type": "code",
   "execution_count": null,
   "metadata": {},
   "outputs": [],
   "source": [
    "# 6.1 Find days where portfolio returns were positive\n",
    "positive_return_days = portfolio_daily_returns > 0\n",
    "positive_returns = portfolio_daily_returns[positive_return_days]\n",
    "\n",
    "# 6.2 Get the maximum price for each stock\n",
    "max_prices = np.max(portfolio_prices, axis=1)\n",
    "\n",
    "# 6.3 Find the day when each stock reached its maximum price\n",
    "max_price_days = np.argmax(portfolio_prices, axis=1)\n",
    "\n",
    "# 6.4 Create a boolean mask for stocks that had positive average returns\n",
    "profitable_stocks = portfolio_mean_returns > 0\n",
    "\n",
    "print(\"Positive return days:\", positive_return_days)\n",
    "print(\"Positive returns:\", positive_returns)\n",
    "print(f\"Number of positive return days: {np.sum(positive_return_days)}\")\n",
    "print(\"\\nMaximum prices by stock:\", max_prices)\n",
    "print(\"Days of maximum prices:\", max_price_days)\n",
    "print(\"\\nStocks with positive average returns:\", profitable_stocks)\n",
    "profitable_stock_names = np.array(stock_names)[profitable_stocks]\n",
    "print(\"Profitable stock names:\", profitable_stock_names)"
   ]
  },
  {
   "cell_type": "markdown",
   "metadata": {},
   "source": [
    "## Exercise 7: Broadcasting and Portfolio Analysis\n",
    "Use NumPy broadcasting for efficient portfolio calculations."
   ]
  },
  {
   "cell_type": "code",
   "execution_count": null,
   "metadata": {},
   "outputs": [],
   "source": [
    "# 7.1 Calculate normalized prices (divide all prices by initial price)\n",
    "normalized_prices = portfolio_prices / portfolio_prices[:, [0]]  # Broadcasting division\n",
    "\n",
    "# 7.2 Add a transaction cost of 0.1% to all returns\n",
    "transaction_cost = 0.001\n",
    "net_returns = portfolio_returns - transaction_cost  # Broadcasting subtraction\n",
    "\n",
    "# 7.3 Calculate weighted portfolio returns using broadcasting\n",
    "# weighted_returns = weights * individual_returns, then sum across stocks\n",
    "weighted_portfolio_returns = np.sum(portfolio_weights.reshape(-1, 1) * portfolio_returns, axis=0)\n",
    "\n",
    "print(\"Normalized prices (relative to initial price):\")\n",
    "print(normalized_prices)\n",
    "print(\"\\nNet returns (after transaction costs):\")\n",
    "print(net_returns)\n",
    "print(\"\\nWeighted portfolio returns:\", weighted_portfolio_returns)\n",
    "print(f\"Average weighted portfolio return: {np.mean(weighted_portfolio_returns):.4f} ({np.mean(weighted_portfolio_returns)*100:.2f}%)\")"
   ]
  },
  {
   "cell_type": "markdown",
   "metadata": {},
   "source": [
    "## Exercise 8: Random Portfolio Simulation\n",
    "Generate random data to simulate portfolio scenarios."
   ]
  },
  {
   "cell_type": "code",
   "execution_count": null,
   "metadata": {},
   "outputs": [],
   "source": []
  },
  {
   "cell_type": "code",
   "execution_count": null,
   "metadata": {},
   "outputs": [],
   "source": [
    "cumulative_returns"
   ]
  },
  {
   "cell_type": "code",
   "execution_count": null,
   "metadata": {},
   "outputs": [],
   "source": [
    "# 8.1 Generate random daily returns for a Monte Carlo simulation\n",
    "# Simulate 1000 scenarios with 30 days each for 3 stocks\n",
    "num_simulations = 1000\n",
    "num_days = 30\n",
    "num_stocks = 3\n",
    "\n",
    "# Generate random returns (normal distribution with mean=0.001, std=0.02)\n",
    "simulated_returns = np.random.normal(0.001, 0.02, (num_simulations, num_stocks, num_days))\n",
    "\n",
    "# 8.2 Calculate cumulative returns for each simulation\n",
    "cumulative_returns = np.cumprod(1 + simulated_returns, axis=2) - 1\n",
    "\n",
    "# 8.3 Calculate final portfolio values for each simulation\n",
    "final_returns = cumulative_returns[:, :, -1]  # Get the last day returns\n",
    "portfolio_final_returns = np.sum(final_returns * portfolio_weights, axis=1)\n",
    "\n",
    "print(f\"Simulated returns shape: {simulated_returns.shape}\")\n",
    "print(f\"Final portfolio returns statistics:\")\n",
    "print(f\"Mean: {np.mean(portfolio_final_returns):.4f} ({np.mean(portfolio_final_returns)*100:.2f}%)\")\n",
    "print(f\"Std: {np.std(portfolio_final_returns):.4f} ({np.std(portfolio_final_returns)*100:.2f}%)\")\n",
    "print(f\"5th percentile (VaR): {np.percentile(portfolio_final_returns, 5):.4f} ({np.percentile(portfolio_final_returns, 5)*100:.2f}%)\")\n",
    "print(f\"95th percentile: {np.percentile(portfolio_final_returns, 95):.4f} ({np.percentile(portfolio_final_returns, 95)*100:.2f}%)\")"
   ]
  },
  {
   "cell_type": "markdown",
   "metadata": {},
   "source": [
    "## Exercise 9: Array Reshaping and Aggregation\n",
    "Reshape financial data for different analysis perspectives."
   ]
  },
  {
   "cell_type": "code",
   "execution_count": null,
   "metadata": {},
   "outputs": [],
   "source": [
    "# 9.1 Reshape portfolio prices to calculate weekly returns\n",
    "# Assume we have 4 weeks of data (4 days), reshape to (3, 2, 2) for 2 weeks\n",
    "weekly_prices = portfolio_prices.reshape(3, 2, 2)  # 3 stocks, 2 weeks, 2 days per week\n",
    "\n",
    "# 9.2 Calculate weekly returns (last day of week vs first day)\n",
    "weekly_returns = (weekly_prices[:, :, -1] - weekly_prices[:, :, 0]) / weekly_prices[:, :, 0]\n",
    "\n",
    "# 9.3 Flatten the returns array and calculate overall statistics\n",
    "all_returns_flat = portfolio_returns.flatten()\n",
    "\n",
    "\n",
    "print(\"Original portfolio prices shape:\", portfolio_prices.shape)\n",
    "print(\"Weekly prices shape:\", weekly_prices.shape)\n",
    "print(\"\\nWeekly returns:\")\n",
    "print(weekly_returns)\n",
    "print(\"\\nFlattened returns shape:\", all_returns_flat.shape)\n",
    "print(\"Flattened returns:\", all_returns_flat)\n",
    "print(\"Overall return statistics:\")\n",
    "print(f\"Mean: {np.mean(all_returns_flat):.4f}\")\n",
    "print(f\"Std: {np.std(all_returns_flat):.4f}\")\n",
    "print(f\"Min: {np.min(all_returns_flat):.4f}\")\n",
    "print(f\"Max: {np.max(all_returns_flat):.4f}\")"
   ]
  },
  {
   "cell_type": "markdown",
   "metadata": {},
   "source": [
    "## Summary\n",
    "\n",
    "In this lab, you have learned to:\n",
    "\n",
    "1. **Create and manipulate arrays** for financial data representation\n",
    "2. **Calculate returns** using vectorized operations\n",
    "3. **Compute statistical measures** like mean, standard deviation, and percentiles\n",
    "4. **Work with portfolio data** including weights and values\n",
    "5. **Use advanced indexing** to filter and analyze data\n",
    "6. **Apply broadcasting** for efficient calculations\n",
    "7. **Generate random data** for Monte Carlo simulations\n",
    "8. **Reshape and aggregate** data for different analysis perspectives\n",
    "\n",
    "These NumPy skills form the foundation for more advanced financial analysis and portfolio optimization techniques you'll encounter in future labs."
   ]
  },
  {
   "cell_type": "code",
   "execution_count": null,
   "metadata": {},
   "outputs": [],
   "source": []
  }
 ],
 "metadata": {
  "kernelspec": {
   "display_name": "Python 3",
   "language": "python",
   "name": "python3"
  },
  "language_info": {
   "codemirror_mode": {
    "name": "ipython",
    "version": 3
   },
   "file_extension": ".py",
   "mimetype": "text/x-python",
   "name": "python",
   "nbconvert_exporter": "python",
   "pygments_lexer": "ipython3",
   "version": "3.6.8"
  }
 },
 "nbformat": 4,
 "nbformat_minor": 4
}
